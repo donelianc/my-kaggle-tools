{
 "cells": [
  {
   "cell_type": "markdown",
   "metadata": {},
   "source": [
    "## 0. Libraries and Personal Tools"
   ]
  },
  {
   "cell_type": "code",
   "execution_count": 2,
   "metadata": {},
   "outputs": [
    {
     "data": {
      "text/html": [
       "<style type='text/css'>\n",
       ".datatable table.frame { margin-bottom: 0; }\n",
       ".datatable table.frame thead { border-bottom: none; }\n",
       ".datatable table.frame tr.coltypes td {  color: #FFFFFF;  line-height: 6px;  padding: 0 0.5em;}\n",
       ".datatable .bool    { background: #DDDD99; }\n",
       ".datatable .object  { background: #565656; }\n",
       ".datatable .int     { background: #5D9E5D; }\n",
       ".datatable .float   { background: #4040CC; }\n",
       ".datatable .str     { background: #CC4040; }\n",
       ".datatable .time    { background: #40CC40; }\n",
       ".datatable .row_index {  background: var(--jp-border-color3);  border-right: 1px solid var(--jp-border-color0);  color: var(--jp-ui-font-color3);  font-size: 9px;}\n",
       ".datatable .frame tbody td { text-align: left; }\n",
       ".datatable .frame tr.coltypes .row_index {  background: var(--jp-border-color0);}\n",
       ".datatable th:nth-child(2) { padding-left: 12px; }\n",
       ".datatable .hellipsis {  color: var(--jp-cell-editor-border-color);}\n",
       ".datatable .vellipsis {  background: var(--jp-layout-color0);  color: var(--jp-cell-editor-border-color);}\n",
       ".datatable .na {  color: var(--jp-cell-editor-border-color);  font-size: 80%;}\n",
       ".datatable .sp {  opacity: 0.25;}\n",
       ".datatable .footer { font-size: 9px; }\n",
       ".datatable .frame_dimensions {  background: var(--jp-border-color3);  border-top: 1px solid var(--jp-border-color0);  color: var(--jp-ui-font-color3);  display: inline-block;  opacity: 0.6;  padding: 1px 10px 1px 5px;}\n",
       "</style>\n"
      ],
      "text/plain": [
       "<IPython.core.display.HTML object>"
      ]
     },
     "metadata": {},
     "output_type": "display_data"
    }
   ],
   "source": [
    "import sys\n",
    "import datatable as dt\n",
    "import pandas as pd\n",
    "import matplotlib.pyplot as plt\n",
    "\n",
    "from matplotlib import rcParams\n",
    "from os.path import abspath\n",
    "\n",
    "from tqdm import tqdm\n",
    "from time import time"
   ]
  },
  {
   "cell_type": "code",
   "execution_count": 3,
   "metadata": {},
   "outputs": [],
   "source": [
    "# Set the default figure size and theme to display good looking matplotlib plots.\n",
    "rcParams[\"figure.figsize\"] = (12, 8)\n",
    "plt.style.use(\"fivethirtyeight\")"
   ]
  },
  {
   "cell_type": "code",
   "execution_count": 4,
   "metadata": {},
   "outputs": [],
   "source": [
    "# add absolute path from root to sys.path to use custom modules\n",
    "sys.path.insert(0, abspath('..'))\n",
    "\n",
    "# Check if the path is already added to sys.path\n",
    "[p for p in sys.path if p.endswith(\"2022\")]\n",
    "\n",
    "# Import custom modules\n",
    "from src.utils import *"
   ]
  },
  {
   "cell_type": "code",
   "execution_count": 5,
   "metadata": {},
   "outputs": [],
   "source": [
    "file_names = []\n",
    "for dirname, _, filenames in os.walk(\"../data/raw\"):\n",
    "    for filename in filenames:\n",
    "        file_names.append(os.path.join(dirname, filename))"
   ]
  },
  {
   "cell_type": "code",
   "execution_count": 6,
   "metadata": {},
   "outputs": [
    {
     "data": {
      "text/plain": [
       "['../data/raw/train_9.csv',\n",
       " '../data/raw/train_4.csv',\n",
       " '../data/raw/train_5.csv',\n",
       " '../data/raw/train_0.csv',\n",
       " '../data/raw/train_1.csv',\n",
       " '../data/raw/train_2.csv',\n",
       " '../data/raw/train_3.csv',\n",
       " '../data/raw/train_6.csv',\n",
       " '../data/raw/train_8.csv',\n",
       " '../data/raw/train_7.csv']"
      ]
     },
     "execution_count": 6,
     "metadata": {},
     "output_type": "execute_result"
    }
   ],
   "source": [
    "train_paths = []\n",
    "for k in file_names:\n",
    "    if \"train_\" in k and \"dtypes\" not in k:\n",
    "        train_paths.append(k)\n",
    "        \n",
    "train_paths"
   ]
  },
  {
   "cell_type": "code",
   "execution_count": 7,
   "metadata": {},
   "outputs": [
    {
     "name": "stdout",
     "output_type": "stream",
     "text": [
      "The directory, ../data/interim/feather_data, has been created!\n",
      "The directory, ../data/interim/parquet_data, has been created!\n"
     ]
    }
   ],
   "source": [
    "makedir_check(\"../data/interim/feather_data\")\n",
    "makedir_check(\"../data/interim/parquet_data\")"
   ]
  },
  {
   "cell_type": "code",
   "execution_count": 8,
   "metadata": {},
   "outputs": [
    {
     "name": "stderr",
     "output_type": "stream",
     "text": [
      "  0%|          | 0/10 [00:00<?, ?it/s]"
     ]
    },
    {
     "name": "stdout",
     "output_type": "stream",
     "text": [
      "Memory usage of dataframe is 978.63 MB\n",
      "Memory usage after optimization is: 240.65 MB\n",
      "Decreased by 75.4%\n",
      "Memory usage of dataframe is 978.63 MB\n",
      "Memory usage after optimization is: 461.24 MB\n",
      "Decreased by 52.9%\n"
     ]
    },
    {
     "name": "stderr",
     "output_type": "stream",
     "text": [
      " 10%|█         | 1/10 [01:41<15:10, 101.15s/it]"
     ]
    },
    {
     "name": "stdout",
     "output_type": "stream",
     "text": [
      "Memory usage of dataframe is 985.63 MB\n",
      "Memory usage after optimization is: 242.37 MB\n",
      "Decreased by 75.4%\n",
      "Memory usage of dataframe is 985.63 MB\n",
      "Memory usage after optimization is: 464.54 MB\n",
      "Decreased by 52.9%\n"
     ]
    },
    {
     "name": "stderr",
     "output_type": "stream",
     "text": [
      " 20%|██        | 2/10 [03:21<13:23, 100.50s/it]"
     ]
    },
    {
     "name": "stdout",
     "output_type": "stream",
     "text": [
      "Memory usage of dataframe is 974.41 MB\n",
      "Memory usage after optimization is: 239.61 MB\n",
      "Decreased by 75.4%\n",
      "Memory usage of dataframe is 974.41 MB\n",
      "Memory usage after optimization is: 459.25 MB\n",
      "Decreased by 52.9%\n"
     ]
    },
    {
     "name": "stderr",
     "output_type": "stream",
     "text": [
      " 30%|███       | 3/10 [05:05<11:55, 102.25s/it]"
     ]
    },
    {
     "name": "stdout",
     "output_type": "stream",
     "text": [
      "Memory usage of dataframe is 1000.31 MB\n",
      "Memory usage after optimization is: 245.98 MB\n",
      "Decreased by 75.4%\n",
      "Memory usage of dataframe is 1000.31 MB\n",
      "Memory usage after optimization is: 471.46 MB\n",
      "Decreased by 52.9%\n"
     ]
    },
    {
     "name": "stderr",
     "output_type": "stream",
     "text": [
      " 40%|████      | 4/10 [06:40<09:55, 99.18s/it] "
     ]
    },
    {
     "name": "stdout",
     "output_type": "stream",
     "text": [
      "Memory usage of dataframe is 1009.33 MB\n",
      "Memory usage after optimization is: 248.20 MB\n",
      "Decreased by 75.4%\n",
      "Memory usage of dataframe is 1009.33 MB\n",
      "Memory usage after optimization is: 475.71 MB\n",
      "Decreased by 52.9%\n"
     ]
    },
    {
     "name": "stderr",
     "output_type": "stream",
     "text": [
      " 50%|█████     | 5/10 [08:26<08:28, 101.66s/it]"
     ]
    },
    {
     "name": "stdout",
     "output_type": "stream",
     "text": [
      "Memory usage of dataframe is 989.19 MB\n",
      "Memory usage after optimization is: 243.24 MB\n",
      "Decreased by 75.4%\n",
      "Memory usage of dataframe is 989.19 MB\n",
      "Memory usage after optimization is: 466.22 MB\n",
      "Decreased by 52.9%\n"
     ]
    },
    {
     "name": "stderr",
     "output_type": "stream",
     "text": [
      " 60%|██████    | 6/10 [10:09<06:48, 102.21s/it]"
     ]
    },
    {
     "name": "stdout",
     "output_type": "stream",
     "text": [
      "Memory usage of dataframe is 984.12 MB\n",
      "Memory usage after optimization is: 242.00 MB\n",
      "Decreased by 75.4%\n",
      "Memory usage of dataframe is 984.12 MB\n",
      "Memory usage after optimization is: 463.83 MB\n",
      "Decreased by 52.9%\n"
     ]
    },
    {
     "name": "stderr",
     "output_type": "stream",
     "text": [
      " 70%|███████   | 7/10 [11:51<05:06, 102.18s/it]"
     ]
    },
    {
     "name": "stdout",
     "output_type": "stream",
     "text": [
      "Memory usage of dataframe is 960.55 MB\n",
      "Memory usage after optimization is: 236.20 MB\n",
      "Decreased by 75.4%\n",
      "Memory usage of dataframe is 960.55 MB\n",
      "Memory usage after optimization is: 452.72 MB\n",
      "Decreased by 52.9%\n"
     ]
    },
    {
     "name": "stderr",
     "output_type": "stream",
     "text": [
      " 80%|████████  | 8/10 [13:29<03:21, 100.72s/it]"
     ]
    },
    {
     "name": "stdout",
     "output_type": "stream",
     "text": [
      "Memory usage of dataframe is 1001.45 MB\n",
      "Memory usage after optimization is: 246.26 MB\n",
      "Decreased by 75.4%\n",
      "Memory usage of dataframe is 1001.45 MB\n",
      "Memory usage after optimization is: 472.00 MB\n",
      "Decreased by 52.9%\n"
     ]
    },
    {
     "name": "stderr",
     "output_type": "stream",
     "text": [
      " 90%|█████████ | 9/10 [15:18<01:43, 103.58s/it]"
     ]
    },
    {
     "name": "stdout",
     "output_type": "stream",
     "text": [
      "Memory usage of dataframe is 981.80 MB\n",
      "Memory usage after optimization is: 241.43 MB\n",
      "Decreased by 75.4%\n",
      "Memory usage of dataframe is 981.80 MB\n",
      "Memory usage after optimization is: 462.74 MB\n",
      "Decreased by 52.9%\n"
     ]
    },
    {
     "name": "stderr",
     "output_type": "stream",
     "text": [
      "100%|██████████| 10/10 [16:59<00:00, 101.91s/it]\n"
     ]
    }
   ],
   "source": [
    "# Author: Ayush Bihani\n",
    "# Source: https://www.kaggle.com/code/hsuyab/fast-loading-high-compression-with-feather/notebook\n",
    "\n",
    "time_read = {}\n",
    "size_file = {}\n",
    "\n",
    "for file_path in tqdm(train_paths):\n",
    "    \n",
    "    #ext can be parquet or feather\n",
    "    times = {}\n",
    "    sizes = {}\n",
    "    \n",
    "    #stores name of file to be saved as \n",
    "    name_files_ftr =  (\n",
    "        file_path.split('/')[-1]\n",
    "        .replace('.', '_compressed.')\n",
    "        .replace('csv','ftr')\n",
    "    )\n",
    "    name_files_parquet = name_files_ftr.replace('ftr', 'parquet')\n",
    "    \n",
    "    #store only file name without extension\n",
    "    file_only = name_files_ftr.split('_c')[0]\n",
    "\n",
    "    #read file csv\n",
    "    t1 = time()\n",
    "    df = pd.read_csv(file_path)\n",
    "    sizes['memory_csv'] = df.memory_usage(deep=True).sum()/(1024**2)\n",
    "    times['read_csv'] = time() - t1\n",
    "    df = reduce_mem_usage(df)\n",
    "    \n",
    "    #save to feather\n",
    "    df.to_feather(\"../data/interim/feather_data/\"+name_files_ftr)\n",
    "    \n",
    "    #calculate reading time for feather\n",
    "    t1 = time()\n",
    "    df = pd.read_feather(\"../data/interim/feather_data/\"+name_files_ftr)\n",
    "    sizes['memory_feather'] = df.memory_usage(deep=True).sum()/(1024**2)\n",
    "    times['read_feather'] = time() - t1\n",
    "    \n",
    "    #save to parquet\n",
    "    df = pd.read_csv(file_path)\n",
    "    df= reduce_mem_usage(df, keep_float16=False)\n",
    "    df.to_parquet(\"../data/interim/parquet_data/\"+name_files_parquet)\n",
    "    \n",
    "    #calculate reading time of parquet\n",
    "    t1 = time()\n",
    "    df = pd.read_parquet(\"../data/interim/parquet_data/\"+name_files_parquet)\n",
    "    times['read_parquet'] = time() - t1\n",
    "    sizes['memory_parquet'] = df.memory_usage(deep=True).sum()/(1024**2)\n",
    "    \n",
    "    #store size and time for a particular file\n",
    "    time_read[file_only] = times\n",
    "    size_file[file_only] = sizes"
   ]
  },
  {
   "cell_type": "code",
   "execution_count": 10,
   "metadata": {},
   "outputs": [
    {
     "data": {
      "text/html": [
       "<div>\n",
       "<style scoped>\n",
       "    .dataframe tbody tr th:only-of-type {\n",
       "        vertical-align: middle;\n",
       "    }\n",
       "\n",
       "    .dataframe tbody tr th {\n",
       "        vertical-align: top;\n",
       "    }\n",
       "\n",
       "    .dataframe thead th {\n",
       "        text-align: right;\n",
       "    }\n",
       "</style>\n",
       "<table border=\"1\" class=\"dataframe\">\n",
       "  <thead>\n",
       "    <tr style=\"text-align: right;\">\n",
       "      <th></th>\n",
       "      <th>time_to_read_csv(seconds)</th>\n",
       "      <th>time_to_read_feather(seconds)</th>\n",
       "      <th>time_to_read_parquet(seconds)</th>\n",
       "    </tr>\n",
       "  </thead>\n",
       "  <tbody>\n",
       "    <tr>\n",
       "      <th>train_9</th>\n",
       "      <td>35.268</td>\n",
       "      <td>0.497</td>\n",
       "      <td>1.214</td>\n",
       "    </tr>\n",
       "    <tr>\n",
       "      <th>train_4</th>\n",
       "      <td>33.484</td>\n",
       "      <td>0.475</td>\n",
       "      <td>1.021</td>\n",
       "    </tr>\n",
       "    <tr>\n",
       "      <th>train_5</th>\n",
       "      <td>27.476</td>\n",
       "      <td>0.474</td>\n",
       "      <td>1.319</td>\n",
       "    </tr>\n",
       "    <tr>\n",
       "      <th>train_0</th>\n",
       "      <td>31.349</td>\n",
       "      <td>0.359</td>\n",
       "      <td>1.019</td>\n",
       "    </tr>\n",
       "    <tr>\n",
       "      <th>train_1</th>\n",
       "      <td>36.939</td>\n",
       "      <td>0.504</td>\n",
       "      <td>1.004</td>\n",
       "    </tr>\n",
       "    <tr>\n",
       "      <th>train_2</th>\n",
       "      <td>35.277</td>\n",
       "      <td>0.524</td>\n",
       "      <td>0.955</td>\n",
       "    </tr>\n",
       "    <tr>\n",
       "      <th>train_3</th>\n",
       "      <td>34.850</td>\n",
       "      <td>0.504</td>\n",
       "      <td>1.010</td>\n",
       "    </tr>\n",
       "    <tr>\n",
       "      <th>train_6</th>\n",
       "      <td>32.802</td>\n",
       "      <td>0.470</td>\n",
       "      <td>0.884</td>\n",
       "    </tr>\n",
       "    <tr>\n",
       "      <th>train_8</th>\n",
       "      <td>35.034</td>\n",
       "      <td>0.504</td>\n",
       "      <td>1.172</td>\n",
       "    </tr>\n",
       "    <tr>\n",
       "      <th>train_7</th>\n",
       "      <td>33.718</td>\n",
       "      <td>0.488</td>\n",
       "      <td>0.777</td>\n",
       "    </tr>\n",
       "  </tbody>\n",
       "</table>\n",
       "</div>"
      ],
      "text/plain": [
       "         time_to_read_csv(seconds)  time_to_read_feather(seconds)  \\\n",
       "train_9                     35.268                          0.497   \n",
       "train_4                     33.484                          0.475   \n",
       "train_5                     27.476                          0.474   \n",
       "train_0                     31.349                          0.359   \n",
       "train_1                     36.939                          0.504   \n",
       "train_2                     35.277                          0.524   \n",
       "train_3                     34.850                          0.504   \n",
       "train_6                     32.802                          0.470   \n",
       "train_8                     35.034                          0.504   \n",
       "train_7                     33.718                          0.488   \n",
       "\n",
       "         time_to_read_parquet(seconds)  \n",
       "train_9                          1.214  \n",
       "train_4                          1.021  \n",
       "train_5                          1.319  \n",
       "train_0                          1.019  \n",
       "train_1                          1.004  \n",
       "train_2                          0.955  \n",
       "train_3                          1.010  \n",
       "train_6                          0.884  \n",
       "train_8                          1.172  \n",
       "train_7                          0.777  "
      ]
     },
     "execution_count": 10,
     "metadata": {},
     "output_type": "execute_result"
    }
   ],
   "source": [
    "time_taken_read = pd.DataFrame(time_read).T\n",
    "#rounding of time to 3 decimal places\n",
    "time_taken_read = time_taken_read.apply(lambda x: x.round(3))\n",
    "time_taken_read.columns = ['time_to_read_csv(seconds)', 'time_to_read_feather(seconds)', 'time_to_read_parquet(seconds)']\n",
    "time_taken_read"
   ]
  },
  {
   "cell_type": "code",
   "execution_count": 11,
   "metadata": {},
   "outputs": [
    {
     "data": {
      "text/html": [
       "<div>\n",
       "<style scoped>\n",
       "    .dataframe tbody tr th:only-of-type {\n",
       "        vertical-align: middle;\n",
       "    }\n",
       "\n",
       "    .dataframe tbody tr th {\n",
       "        vertical-align: top;\n",
       "    }\n",
       "\n",
       "    .dataframe thead th {\n",
       "        text-align: right;\n",
       "    }\n",
       "</style>\n",
       "<table border=\"1\" class=\"dataframe\">\n",
       "  <thead>\n",
       "    <tr style=\"text-align: right;\">\n",
       "      <th></th>\n",
       "      <th>memory_csv(MB)</th>\n",
       "      <th>memory_feather(MB)</th>\n",
       "      <th>memory_parquet(MB)</th>\n",
       "    </tr>\n",
       "  </thead>\n",
       "  <tbody>\n",
       "    <tr>\n",
       "      <th>train_9</th>\n",
       "      <td>1066.73</td>\n",
       "      <td>240.65</td>\n",
       "      <td>461.24</td>\n",
       "    </tr>\n",
       "    <tr>\n",
       "      <th>train_4</th>\n",
       "      <td>1074.69</td>\n",
       "      <td>242.37</td>\n",
       "      <td>464.54</td>\n",
       "    </tr>\n",
       "    <tr>\n",
       "      <th>train_5</th>\n",
       "      <td>1062.84</td>\n",
       "      <td>239.61</td>\n",
       "      <td>459.25</td>\n",
       "    </tr>\n",
       "    <tr>\n",
       "      <th>train_0</th>\n",
       "      <td>1090.24</td>\n",
       "      <td>245.98</td>\n",
       "      <td>471.46</td>\n",
       "    </tr>\n",
       "    <tr>\n",
       "      <th>train_1</th>\n",
       "      <td>1100.07</td>\n",
       "      <td>248.20</td>\n",
       "      <td>475.71</td>\n",
       "    </tr>\n",
       "    <tr>\n",
       "      <th>train_2</th>\n",
       "      <td>1078.42</td>\n",
       "      <td>243.24</td>\n",
       "      <td>466.22</td>\n",
       "    </tr>\n",
       "    <tr>\n",
       "      <th>train_3</th>\n",
       "      <td>1073.71</td>\n",
       "      <td>242.00</td>\n",
       "      <td>463.83</td>\n",
       "    </tr>\n",
       "    <tr>\n",
       "      <th>train_6</th>\n",
       "      <td>1047.93</td>\n",
       "      <td>236.20</td>\n",
       "      <td>452.72</td>\n",
       "    </tr>\n",
       "    <tr>\n",
       "      <th>train_8</th>\n",
       "      <td>1092.01</td>\n",
       "      <td>246.26</td>\n",
       "      <td>472.00</td>\n",
       "    </tr>\n",
       "    <tr>\n",
       "      <th>train_7</th>\n",
       "      <td>1070.73</td>\n",
       "      <td>241.43</td>\n",
       "      <td>462.74</td>\n",
       "    </tr>\n",
       "  </tbody>\n",
       "</table>\n",
       "</div>"
      ],
      "text/plain": [
       "         memory_csv(MB)  memory_feather(MB)  memory_parquet(MB)\n",
       "train_9         1066.73              240.65              461.24\n",
       "train_4         1074.69              242.37              464.54\n",
       "train_5         1062.84              239.61              459.25\n",
       "train_0         1090.24              245.98              471.46\n",
       "train_1         1100.07              248.20              475.71\n",
       "train_2         1078.42              243.24              466.22\n",
       "train_3         1073.71              242.00              463.83\n",
       "train_6         1047.93              236.20              452.72\n",
       "train_8         1092.01              246.26              472.00\n",
       "train_7         1070.73              241.43              462.74"
      ]
     },
     "execution_count": 11,
     "metadata": {},
     "output_type": "execute_result"
    }
   ],
   "source": [
    "size_of_files = pd.DataFrame(size_file).T\n",
    "size_of_files = size_of_files.apply(lambda x: x.round(2))\n",
    "size_of_files.columns = ['memory_csv(MB)', 'memory_feather(MB)', 'memory_parquet(MB)']\n",
    "size_of_files"
   ]
  },
  {
   "cell_type": "code",
   "execution_count": 12,
   "metadata": {},
   "outputs": [
    {
     "data": {
      "text/plain": [
       "0"
      ]
     },
     "execution_count": 12,
     "metadata": {},
     "output_type": "execute_result"
    }
   ],
   "source": [
    "import gc\n",
    "gc.collect()"
   ]
  },
  {
   "cell_type": "markdown",
   "metadata": {},
   "source": [
    "## 1. Get Raw Data"
   ]
  },
  {
   "cell_type": "code",
   "execution_count": 13,
   "metadata": {},
   "outputs": [],
   "source": [
    "dtypes_df = pd.read_csv(\"../data/raw/train_dtypes.csv\")\n",
    "dtypes = {k: v for (k, v) in zip(dtypes_df.column, dtypes_df.dtype)}\n",
    "\n",
    "for i in range(10):\n",
    "    df_aux = pd.read_feather(f\"../data/interim/feather_data/train_{i}_compressed.ftr\")\n",
    "    df_aux = df_aux.astype(dtypes)\n",
    "    df = pd.concat([df, df_aux])"
   ]
  },
  {
   "cell_type": "code",
   "execution_count": 14,
   "metadata": {},
   "outputs": [
    {
     "name": "stdout",
     "output_type": "stream",
     "text": [
      "Memory usage of dataframe is 5490.30 MB\n",
      "Memory usage after optimization is: 2845.17 MB\n",
      "Decreased by 48.2%\n"
     ]
    }
   ],
   "source": [
    "df = reduce_mem_usage(df)"
   ]
  },
  {
   "cell_type": "markdown",
   "metadata": {},
   "source": [
    "## 2. Exploratory Data Analysis"
   ]
  },
  {
   "cell_type": "code",
   "execution_count": 15,
   "metadata": {},
   "outputs": [
    {
     "name": "stdout",
     "output_type": "stream",
     "text": [
      "<class 'pandas.core.frame.DataFrame'>\n",
      "Int64Index: 23307659 entries, 0 to 2102812\n",
      "Data columns (total 61 columns):\n",
      " #   Column                       Dtype   \n",
      "---  ------                       -----   \n",
      " 0   game_num                     int16   \n",
      " 1   event_id                     int32   \n",
      " 2   event_time                   float16 \n",
      " 3   ball_pos_x                   float16 \n",
      " 4   ball_pos_y                   float16 \n",
      " 5   ball_pos_z                   float16 \n",
      " 6   ball_vel_x                   float16 \n",
      " 7   ball_vel_y                   float16 \n",
      " 8   ball_vel_z                   float16 \n",
      " 9   p0_pos_x                     float16 \n",
      " 10  p0_pos_y                     float16 \n",
      " 11  p0_pos_z                     float16 \n",
      " 12  p0_vel_x                     float16 \n",
      " 13  p0_vel_y                     float16 \n",
      " 14  p0_vel_z                     float16 \n",
      " 15  p0_boost                     float16 \n",
      " 16  p1_pos_x                     float16 \n",
      " 17  p1_pos_y                     float16 \n",
      " 18  p1_pos_z                     float16 \n",
      " 19  p1_vel_x                     float16 \n",
      " 20  p1_vel_y                     float16 \n",
      " 21  p1_vel_z                     float16 \n",
      " 22  p1_boost                     float16 \n",
      " 23  p2_pos_x                     float16 \n",
      " 24  p2_pos_y                     float16 \n",
      " 25  p2_pos_z                     float16 \n",
      " 26  p2_vel_x                     float16 \n",
      " 27  p2_vel_y                     float16 \n",
      " 28  p2_vel_z                     float16 \n",
      " 29  p2_boost                     float16 \n",
      " 30  p3_pos_x                     float16 \n",
      " 31  p3_pos_y                     float16 \n",
      " 32  p3_pos_z                     float16 \n",
      " 33  p3_vel_x                     float16 \n",
      " 34  p3_vel_y                     float16 \n",
      " 35  p3_vel_z                     float16 \n",
      " 36  p3_boost                     float16 \n",
      " 37  p4_pos_x                     float16 \n",
      " 38  p4_pos_y                     float16 \n",
      " 39  p4_pos_z                     float16 \n",
      " 40  p4_vel_x                     float16 \n",
      " 41  p4_vel_y                     float16 \n",
      " 42  p4_vel_z                     float16 \n",
      " 43  p4_boost                     float16 \n",
      " 44  p5_pos_x                     float16 \n",
      " 45  p5_pos_y                     float16 \n",
      " 46  p5_pos_z                     float16 \n",
      " 47  p5_vel_x                     float16 \n",
      " 48  p5_vel_y                     float16 \n",
      " 49  p5_vel_z                     float16 \n",
      " 50  p5_boost                     float16 \n",
      " 51  boost0_timer                 float16 \n",
      " 52  boost1_timer                 float16 \n",
      " 53  boost2_timer                 float16 \n",
      " 54  boost3_timer                 float16 \n",
      " 55  boost4_timer                 float16 \n",
      " 56  boost5_timer                 float16 \n",
      " 57  player_scoring_next          int8    \n",
      " 58  team_scoring_next            category\n",
      " 59  team_A_scoring_within_10sec  int8    \n",
      " 60  team_B_scoring_within_10sec  int8    \n",
      "dtypes: category(1), float16(55), int16(1), int32(1), int8(3)\n",
      "memory usage: 2.8 GB\n"
     ]
    }
   ],
   "source": [
    "df.info()"
   ]
  },
  {
   "cell_type": "code",
   "execution_count": 16,
   "metadata": {},
   "outputs": [
    {
     "data": {
      "text/plain": [
       "7365"
      ]
     },
     "execution_count": 16,
     "metadata": {},
     "output_type": "execute_result"
    }
   ],
   "source": [
    "# How many games are available in the dataset?\n",
    "df.game_num.nunique()"
   ]
  },
  {
   "cell_type": "code",
   "execution_count": 17,
   "metadata": {},
   "outputs": [
    {
     "data": {
      "text/plain": [
       "30528"
      ]
     },
     "execution_count": 17,
     "metadata": {},
     "output_type": "execute_result"
    }
   ],
   "source": [
    "# How many events are available in the dataset?\n",
    "df.event_id.nunique()"
   ]
  },
  {
   "cell_type": "code",
   "execution_count": 20,
   "metadata": {},
   "outputs": [
    {
     "data": {
      "text/plain": [
       "A      9288104\n",
       "B      8755942\n",
       "NaN    5263613\n",
       "Name: team_scoring_next, dtype: int64"
      ]
     },
     "execution_count": 20,
     "metadata": {},
     "output_type": "execute_result"
    }
   ],
   "source": [
    "df.team_scoring_next.value_counts(dropna=False)"
   ]
  },
  {
   "cell_type": "code",
   "execution_count": 21,
   "metadata": {},
   "outputs": [
    {
     "data": {
      "text/plain": [
       "team_scoring_next\n",
       "A    0.42217\n",
       "B    0.40874\n",
       "Name: event_id, dtype: float64"
      ]
     },
     "execution_count": 21,
     "metadata": {},
     "output_type": "execute_result"
    }
   ],
   "source": [
    "# From the available events, what proportion of them ended up with a team scoring or without any goal?\n",
    "(\n",
    "    df\n",
    "    .groupby(\"team_scoring_next\")\n",
    "    .event_id\n",
    "    .nunique()\n",
    "    .sort_values(ascending=False)\n",
    ") / df.event_id.nunique()"
   ]
  },
  {
   "cell_type": "code",
   "execution_count": 22,
   "metadata": {},
   "outputs": [
    {
     "data": {
      "text/plain": [
       "player_scoring_next\n",
       "-1    0.169091\n",
       " 0    0.140297\n",
       " 1    0.143377\n",
       " 2    0.138496\n",
       " 3    0.134467\n",
       " 4    0.137251\n",
       " 5    0.137022\n",
       "Name: event_id, dtype: float64"
      ]
     },
     "execution_count": 22,
     "metadata": {},
     "output_type": "execute_result"
    }
   ],
   "source": [
    "# Which player has the most goals in the dataset?\n",
    "(\n",
    "    df\n",
    "    .groupby(\"player_scoring_next\")\n",
    "    .event_id\n",
    "    .nunique()\n",
    ") / df.event_id.nunique()"
   ]
  },
  {
   "cell_type": "code",
   "execution_count": 57,
   "metadata": {},
   "outputs": [],
   "source": [
    "df_team_scoring = (\n",
    "    df[[\"event_id\", \"team_scoring_next\"]]\n",
    "    .drop_duplicates()\n",
    "    .set_index(\"event_id\")\n",
    ")"
   ]
  },
  {
   "cell_type": "code",
   "execution_count": 58,
   "metadata": {},
   "outputs": [],
   "source": [
    "df_event_duration = (\n",
    "    df_team_scoring\n",
    "    .join(\n",
    "        df\n",
    "        .groupby([\"event_id\", \"team_A_scoring_within_10sec\"])\n",
    "        [[\"event_time\"]]\n",
    "        .count()\n",
    "        .pivot_table(index=\"event_id\", columns=\"team_A_scoring_within_10sec\", values=\"event_time\")\n",
    "        .rename(columns={0: \"team_A_no_goal\", 1: \"team_A_goal\"})\n",
    "        .div(10)\n",
    "        )\n",
    "    .join(\n",
    "        df\n",
    "        .groupby([\"event_id\", \"team_B_scoring_within_10sec\"])\n",
    "        [[\"event_time\"]]\n",
    "        .count()\n",
    "        .pivot_table(index=\"event_id\", columns=\"team_B_scoring_within_10sec\", values=\"event_time\")\n",
    "        .rename(columns={0: \"team_B_no_goal\", 1: \"team_B_goal\"})\n",
    "        .div(10)\n",
    "        )\n",
    "    ).reset_index()"
   ]
  },
  {
   "cell_type": "code",
   "execution_count": 59,
   "metadata": {},
   "outputs": [],
   "source": [
    "df_event_duration[\"seconds_outside_scoring_range\"] = df_event_duration.apply(lambda x: x[\"team_A_no_goal\"] if x[\"team_scoring_next\"] == \"A\" else x[\"team_B_no_goal\"], axis=1)\n",
    "df_event_duration[\"seconds_within_scoring_range\"] = df_event_duration.apply(lambda x: x[\"team_A_goal\"] if x[\"team_scoring_next\"] == \"A\" else x[\"team_B_goal\"], axis=1)"
   ]
  },
  {
   "cell_type": "code",
   "execution_count": 60,
   "metadata": {},
   "outputs": [],
   "source": [
    "df_event_duration = (\n",
    "    df_event_duration\n",
    "    [[\"event_id\", \"team_scoring_next\", \"seconds_within_scoring_range\", \"seconds_outside_scoring_range\"]]\n",
    "    .set_index(\"event_id\")\n",
    "    )"
   ]
  },
  {
   "cell_type": "code",
   "execution_count": 61,
   "metadata": {},
   "outputs": [],
   "source": [
    "df_event_duration[\"total_duration\"] = df_event_duration[[\"seconds_within_scoring_range\", \"seconds_outside_scoring_range\"]].sum(axis=1)"
   ]
  },
  {
   "cell_type": "code",
   "execution_count": 63,
   "metadata": {},
   "outputs": [
    {
     "data": {
      "text/plain": [
       "count    25366.000000\n",
       "mean        10.331002\n",
       "std          3.000025\n",
       "min          3.200000\n",
       "25%          9.300000\n",
       "50%          9.600000\n",
       "75%         10.000000\n",
       "max         23.800000\n",
       "Name: seconds_within_scoring_range, dtype: float64"
      ]
     },
     "execution_count": 63,
     "metadata": {},
     "output_type": "execute_result"
    }
   ],
   "source": [
    "df_event_duration.seconds_within_scoring_range.describe()"
   ]
  },
  {
   "cell_type": "code",
   "execution_count": 65,
   "metadata": {},
   "outputs": [
    {
     "data": {
      "image/png": "[encoded data removed]",
      "text/plain": [
       "<Figure size 1200x800 with 1 Axes>"
      ]
     },
     "metadata": {},
     "output_type": "display_data"
    }
   ],
   "source": [
    "df_event_duration.seconds_within_scoring_range.plot.hist(bins=100);"
   ]
  },
  {
   "cell_type": "code",
   "execution_count": 66,
   "metadata": {},
   "outputs": [
    {
     "data": {
      "image/png": "[encoded data removed]",
      "text/plain": [
       "<Figure size 1200x800 with 1 Axes>"
      ]
     },
     "metadata": {},
     "output_type": "display_data"
    }
   ],
   "source": [
    "df_event_duration.seconds_outside_scoring_range.plot.hist(bins=100);"
   ]
  },
  {
   "cell_type": "code",
   "execution_count": null,
   "metadata": {},
   "outputs": [],
   "source": []
  }
 ],
 "metadata": {
  "kernelspec": {
   "display_name": "Python 3.9.13 ('kaggle-main')",
   "language": "python",
   "name": "python3"
  },
  "language_info": {
   "codemirror_mode": {
    "name": "ipython",
    "version": 3
   },
   "file_extension": ".py",
   "mimetype": "text/x-python",
   "name": "python",
   "nbconvert_exporter": "python",
   "pygments_lexer": "ipython3",
   "version": "3.9.13"
  },
  "orig_nbformat": 4,
  "vscode": {
   "interpreter": {
    "hash": "0fd4831d96ed66bca442039d176b10bc5346e2d2477946333cb9e6bec5a9b6e2"
   }
  }
 },
 "nbformat": 4,
 "nbformat_minor": 2
}
