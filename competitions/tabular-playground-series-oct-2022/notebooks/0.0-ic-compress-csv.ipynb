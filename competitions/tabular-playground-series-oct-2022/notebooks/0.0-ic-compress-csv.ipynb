{
 "cells": [
  {
   "cell_type": "code",
   "execution_count": 1,
   "metadata": {},
   "outputs": [],
   "source": [
    "import os\n",
    "import sys\n",
    "\n",
    "from tqdm import tqdm\n",
    "from time import time\n",
    "\n",
    "from os.path import abspath"
   ]
  },
  {
   "cell_type": "code",
   "execution_count": 2,
   "metadata": {},
   "outputs": [],
   "source": [
    "# add absolute path from root to sys.path to use custom modules\n",
    "sys.path.insert(0, abspath('..'))\n",
    "\n",
    "# Check if the path is already added to sys.path\n",
    "[p for p in sys.path if p.endswith(\"2022\")]\n",
    "\n",
    "# Import custom modules\n",
    "from src.utils import *"
   ]
  },
  {
   "cell_type": "code",
   "execution_count": 3,
   "metadata": {},
   "outputs": [],
   "source": [
    "# Author: Author: Ayush Bihani\n",
    "# Source: https://www.kaggle.com/code/hsuyab/fast-loading-high-compression-with-feather/notebook"
   ]
  },
  {
   "cell_type": "code",
   "execution_count": 4,
   "metadata": {},
   "outputs": [],
   "source": [
    "file_names = []\n",
    "for dirname, _, filenames in os.walk(\"../data/raw\"):\n",
    "    for filename in filenames:\n",
    "        file_names.append(os.path.join(dirname, filename))"
   ]
  },
  {
   "cell_type": "code",
   "execution_count": 5,
   "metadata": {},
   "outputs": [
    {
     "data": {
      "text/plain": [
       "['../data/raw/train_9.csv',\n",
       " '../data/raw/train_4.csv',\n",
       " '../data/raw/train_5.csv',\n",
       " '../data/raw/train_0.csv',\n",
       " '../data/raw/train_1.csv',\n",
       " '../data/raw/train_2.csv',\n",
       " '../data/raw/train_3.csv',\n",
       " '../data/raw/train_6.csv',\n",
       " '../data/raw/train_8.csv',\n",
       " '../data/raw/train_7.csv']"
      ]
     },
     "execution_count": 5,
     "metadata": {},
     "output_type": "execute_result"
    }
   ],
   "source": [
    "train_paths = []\n",
    "for k in file_names:\n",
    "    if 'train_' in k and 'dtypes' not in k:\n",
    "        train_paths.append(k)\n",
    "        \n",
    "train_paths"
   ]
  },
  {
   "cell_type": "code",
   "execution_count": 6,
   "metadata": {},
   "outputs": [
    {
     "name": "stdout",
     "output_type": "stream",
     "text": [
      "The directory already exists!\n"
     ]
    }
   ],
   "source": [
    "if not makedir_check(\"../data/interim/feather_data\"):\n",
    "\n",
    "    time_read = {}\n",
    "    size_file = {}\n",
    "    \n",
    "    for file_path in tqdm(train_paths):\n",
    "        \n",
    "        # ext can be feather\n",
    "        times = {}\n",
    "        sizes = {}\n",
    "        \n",
    "        # stores name of file to be saved as \n",
    "        name_files_ftr =  (\n",
    "            file_path.split(\"/\")[-1]\n",
    "            .replace(\".\", \"_compressed.\")\n",
    "            .replace(\"csv\",\"ftr\")\n",
    "        )\n",
    "        \n",
    "        # store only file name without extension\n",
    "        file_only = name_files_ftr.split(\"_c\")[0]\n",
    "\n",
    "        #read file csv\n",
    "        t1 = time()\n",
    "        df = pd.read_csv(file_path)\n",
    "        sizes[\"memory_csv\"] = df.memory_usage(deep=True).sum()/(1024**2)\n",
    "        times[\"read_csv\"] = time() - t1\n",
    "        df = reduce_mem_usage(df)\n",
    "        \n",
    "        # save to feather\n",
    "        df.to_feather(\"../data/interim/feather_data/\"+name_files_ftr)\n",
    "        \n",
    "        # calculate reading time for feather\n",
    "        t1 = time()\n",
    "        df = pd.read_feather(\"../data/interim/feather_data/\"+name_files_ftr)\n",
    "        sizes[\"memory_feather\"] = df.memory_usage(deep=True).sum()/(1024**2)\n",
    "        times[\"read_feather\"] = time() - t1\n",
    "        \n",
    "        # store size and time for a particular file\n",
    "        time_read[file_only] = times\n",
    "        size_file[file_only] = sizes\n",
    "\n",
    "\n",
    "    time_taken_read = pd.DataFrame(time_read).T\n",
    "    # rounding of time to 3 decimal places\n",
    "    time_taken_read = time_taken_read.apply(lambda x: x.round(3))\n",
    "    time_taken_read.columns = ['time_to_read_csv(seconds)', 'time_to_read_feather(seconds)', 'time_to_read_parquet(seconds)']\n",
    "\n",
    "\n",
    "    size_of_files = pd.DataFrame(size_file).T\n",
    "    size_of_files = size_of_files.apply(lambda x: x.round(2))\n",
    "    size_of_files.columns = ['memory_csv(MB)', 'memory_feather(MB)', 'memory_parquet(MB)']\n",
    "    size_of_files"
   ]
  },
  {
   "cell_type": "code",
   "execution_count": 7,
   "metadata": {},
   "outputs": [],
   "source": [
    "dtypes_df = pd.read_csv(\"../data/raw/train_dtypes.csv\")\n",
    "dtypes = {k: v for (k, v) in zip(dtypes_df.column, dtypes_df.dtype)}\n",
    "\n",
    "df = pd.DataFrame()\n",
    "\n",
    "for i in range(10):\n",
    "    df_aux = pd.read_feather(f\"../data/interim/feather_data/train_{i}_compressed.ftr\")\n",
    "    df_aux = df_aux.astype(dtypes)\n",
    "    df = pd.concat([df, df_aux])"
   ]
  },
  {
   "cell_type": "code",
   "execution_count": 8,
   "metadata": {},
   "outputs": [
    {
     "name": "stdout",
     "output_type": "stream",
     "text": [
      "Memory usage of dataframe is 4508.17 MB\n",
      "Memory usage after optimization is: 2587.65 MB\n",
      "Decreased by 42.6%\n"
     ]
    }
   ],
   "source": [
    "df = reduce_mem_usage(df)"
   ]
  },
  {
   "cell_type": "code",
   "execution_count": 9,
   "metadata": {},
   "outputs": [
    {
     "data": {
      "text/plain": [
       "0"
      ]
     },
     "execution_count": 9,
     "metadata": {},
     "output_type": "execute_result"
    }
   ],
   "source": [
    "import gc\n",
    "gc.collect()"
   ]
  },
  {
   "cell_type": "code",
   "execution_count": 10,
   "metadata": {},
   "outputs": [],
   "source": [
    "df.reset_index(drop=True).to_feather(\"../data/interim/train_compressed.ftr\")"
   ]
  }
 ],
 "metadata": {
  "kernelspec": {
   "display_name": "Python 3.9.13 ('kaggle-main')",
   "language": "python",
   "name": "python3"
  },
  "language_info": {
   "codemirror_mode": {
    "name": "ipython",
    "version": 3
   },
   "file_extension": ".py",
   "mimetype": "text/x-python",
   "name": "python",
   "nbconvert_exporter": "python",
   "pygments_lexer": "ipython3",
   "version": "3.9.13"
  },
  "orig_nbformat": 4,
  "vscode": {
   "interpreter": {
    "hash": "0fd4831d96ed66bca442039d176b10bc5346e2d2477946333cb9e6bec5a9b6e2"
   }
  }
 },
 "nbformat": 4,
 "nbformat_minor": 2
}
