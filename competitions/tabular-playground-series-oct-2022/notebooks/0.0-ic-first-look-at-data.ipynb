{
 "cells": [
  {
   "cell_type": "markdown",
   "metadata": {},
   "source": [
    "# First Look at Data\n",
    "\n",
    "A first look to the data for the TPS competition. The objective is to explore the data and get a first idea of what we are dealing with.\n",
    "I'll be implementing and confirming some ideas posted in Kaggle's discussion forums and other resources."
   ]
  },
  {
   "cell_type": "markdown",
   "metadata": {},
   "source": [
    "The **goal of the competition** is to predict -- from a given snapshot in the game -- for each team, the probability that they will score within the next 10 seconds of game time."
   ]
  },
  {
   "cell_type": "markdown",
   "metadata": {},
   "source": [
    "## 0. Libraries and Personal Tools"
   ]
  },
  {
   "cell_type": "code",
   "execution_count": 14,
   "metadata": {},
   "outputs": [],
   "source": [
    "import warnings \n",
    "warnings.filterwarnings('ignore')\n",
    "\n",
    "import sys\n",
    "from os.path import abspath\n",
    "\n",
    "import pandas as pd\n",
    "import matplotlib.pyplot as plt\n",
    "\n",
    "from matplotlib import rcParams\n",
    "from random import randint"
   ]
  },
  {
   "cell_type": "code",
   "execution_count": 15,
   "metadata": {},
   "outputs": [],
   "source": [
    "# Set the default figure size and theme to display good looking matplotlib plots.\n",
    "rcParams['figure.figsize'] = (12, 8)\n",
    "plt.style.use('fivethirtyeight')\n",
    "\n",
    "# add absolute path from root to sys.path to use custom modules\n",
    "sys.path.insert(0, abspath('..'))"
   ]
  },
  {
   "cell_type": "code",
   "execution_count": 16,
   "metadata": {},
   "outputs": [
    {
     "data": {
      "text/plain": [
       "['/home/ian/Documents/my-kaggle-tools/competitions/tabular-playground-series-oct-2022',\n",
       " '/home/ian/Documents/my-kaggle-tools/competitions/tabular-playground-series-oct-2022']"
      ]
     },
     "execution_count": 16,
     "metadata": {},
     "output_type": "execute_result"
    }
   ],
   "source": [
    "# Check if the path is already added to sys.path\n",
    "[p for p in sys.path if p.endswith(\"2022\")]"
   ]
  },
  {
   "cell_type": "code",
   "execution_count": 17,
   "metadata": {},
   "outputs": [],
   "source": [
    "from src.visualization.visualize import *"
   ]
  },
  {
   "cell_type": "code",
   "execution_count": null,
   "metadata": {},
   "outputs": [],
   "source": []
  },
  {
   "cell_type": "markdown",
   "metadata": {},
   "source": [
    "## 1. Get Raw Data"
   ]
  },
  {
   "cell_type": "code",
   "execution_count": 18,
   "metadata": {},
   "outputs": [],
   "source": [
    "# # ===== UNCOMMENT TO RUN IN JUPYTER NOTEBOOK =====\n",
    "# !kaggle config set -n competition -v tabular-playground-series-oct-2022\n",
    "# !kaggle config set -n path -v ~/Documents/my-kaggle-tools/competitions/tabular-playground-series-oct-2022/data/raw\n",
    "# !kaggle competitions download -c tabular-playground-series-oct-2022\n",
    "# !unzip ./data/raw/competitions/tabular-playground-series-oct-2022/tabular-playground-series-oct-2022.zip -d ./data/raw/\n",
    "# !rm -rf ./data/raw/competitions/\n",
    "\n",
    "# # ===== CREATE FIRST GAME =====\n",
    "# !head -n +1521 ./data/raw/train_0.csv > ./data/interim/single_match.csv\n",
    "\n",
    "\n",
    "# # ===== CREATE SAMPLE =====\n",
    "# # Thanks to [Bar](https://stackoverflow.com/users/209882/bar). https://stackoverflow.com/a/37754402\n",
    "# # and [nikkou](https://stackoverflow.com/users/1565833/nikkou)\n",
    "# !tail -n +2 ./data/raw/train_0.csv | shuf -n 10000 > ./data/interim/sample.csv\n",
    "# !head -1 ./data/raw/train_0.csv > ./data/interim/header.csv\n",
    "# !cat ./data/interim/header.csv ./data/interim/sample.csv > ./data/interim/train_sample_10k.csv\n",
    "# !rm ./data/interim/header.csv ./data/interim/sample.csv\n"
   ]
  },
  {
   "cell_type": "code",
   "execution_count": null,
   "metadata": {},
   "outputs": [],
   "source": []
  },
  {
   "cell_type": "markdown",
   "metadata": {},
   "source": [
    "From October TPS competition, we have the following datasets:\n",
    "\n",
    "- `train_[0-9].csv`: Train set split into 10 files. Rows are sorted by `game_num`, `event_id`, and `event_time`, and each event is entirely contained in one file.\n",
    "- `test.csv`: Test set. Unlike the train set, the rows are scrambled.\n",
    "- `[train|test]_dtypes.csv`: `pandas` dtypes for the columns in the train / test set, which can be pulled and passed to `pd.read_csv()` on the full set to read it with correct types since by default, `pd.read_csv()` will use 64-bit types which will waste memory.\n",
    "- `sample_submission.csv`: A sample submission in the correct format.\n"
   ]
  },
  {
   "cell_type": "markdown",
   "metadata": {},
   "source": [
    "Notice the test set is scrambled, and since the goal of the competition is to **predict the probability of scoring within the next 10 seconds from a given snapshot in the game**, there is no relation between frames in the test set."
   ]
  },
  {
   "cell_type": "code",
   "execution_count": null,
   "metadata": {},
   "outputs": [],
   "source": []
  },
  {
   "cell_type": "markdown",
   "metadata": {},
   "source": [
    "## 2. Load Sample Data"
   ]
  },
  {
   "cell_type": "markdown",
   "metadata": {},
   "source": [
    "Since competition provides a file with dtypes in `train_dtype.csv`, we can use it to load the data in a more efficient way.  \n",
    "\n",
    "Let's check the data type we need to handle."
   ]
  },
  {
   "cell_type": "code",
   "execution_count": 19,
   "metadata": {},
   "outputs": [],
   "source": [
    "dtypes_df = pd.read_csv(\"../data/raw/train_dtypes.csv\")"
   ]
  },
  {
   "cell_type": "markdown",
   "metadata": {},
   "source": [
    "According to the October TPS competetiton:\n",
    "\n",
    "> The dataset consists of sequences of snapshots of the state of a Rocket League match, including position and velocity of all players and the ball, as well as extra information.\n",
    "\n",
    "Also, \n",
    "\n",
    "> The data was taken from professional Rocket League matches. Each event consists of a chronological series of frames recorded at 10 frames per second."
   ]
  },
  {
   "cell_type": "code",
   "execution_count": 20,
   "metadata": {},
   "outputs": [
    {
     "data": {
      "text/plain": [
       "(61, 2)"
      ]
     },
     "execution_count": 20,
     "metadata": {},
     "output_type": "execute_result"
    }
   ],
   "source": [
    "dtypes_df.shape"
   ]
  },
  {
   "cell_type": "code",
   "execution_count": 21,
   "metadata": {},
   "outputs": [],
   "source": [
    "dtypes = {k: v for (k, v) in zip(dtypes_df.column, dtypes_df.dtype)}\n",
    "single_match_df = pd.read_csv(\"../data/interim/single_match.csv\", dtype=dtypes)"
   ]
  },
  {
   "cell_type": "markdown",
   "metadata": {},
   "source": [
    "![test](./images/column_descriptions.png)"
   ]
  },
  {
   "cell_type": "code",
   "execution_count": 22,
   "metadata": {},
   "outputs": [
    {
     "data": {
      "text/plain": [
       "Index(['game_num', 'event_id', 'event_time', 'ball_pos_x', 'ball_pos_y',\n",
       "       'ball_pos_z', 'ball_vel_x', 'ball_vel_y', 'ball_vel_z', 'p0_pos_x',\n",
       "       'p0_pos_y', 'p0_pos_z', 'p0_vel_x', 'p0_vel_y', 'p0_vel_z', 'p0_boost',\n",
       "       'p1_pos_x', 'p1_pos_y', 'p1_pos_z', 'p1_vel_x', 'p1_vel_y', 'p1_vel_z',\n",
       "       'p1_boost', 'p2_pos_x', 'p2_pos_y', 'p2_pos_z', 'p2_vel_x', 'p2_vel_y',\n",
       "       'p2_vel_z', 'p2_boost', 'p3_pos_x', 'p3_pos_y', 'p3_pos_z', 'p3_vel_x',\n",
       "       'p3_vel_y', 'p3_vel_z', 'p3_boost', 'p4_pos_x', 'p4_pos_y', 'p4_pos_z',\n",
       "       'p4_vel_x', 'p4_vel_y', 'p4_vel_z', 'p4_boost', 'p5_pos_x', 'p5_pos_y',\n",
       "       'p5_pos_z', 'p5_vel_x', 'p5_vel_y', 'p5_vel_z', 'p5_boost',\n",
       "       'boost0_timer', 'boost1_timer', 'boost2_timer', 'boost3_timer',\n",
       "       'boost4_timer', 'boost5_timer', 'player_scoring_next',\n",
       "       'team_scoring_next', 'team_A_scoring_within_10sec',\n",
       "       'team_B_scoring_within_10sec'],\n",
       "      dtype='object')"
      ]
     },
     "execution_count": 22,
     "metadata": {},
     "output_type": "execute_result"
    }
   ],
   "source": [
    "single_match_df.columns"
   ]
  },
  {
   "cell_type": "code",
   "execution_count": 35,
   "metadata": {},
   "outputs": [
    {
     "data": {
      "text/html": [
       "<div>\n",
       "<style scoped>\n",
       "    .dataframe tbody tr th:only-of-type {\n",
       "        vertical-align: middle;\n",
       "    }\n",
       "\n",
       "    .dataframe tbody tr th {\n",
       "        vertical-align: top;\n",
       "    }\n",
       "\n",
       "    .dataframe thead th {\n",
       "        text-align: right;\n",
       "    }\n",
       "</style>\n",
       "<table border=\"1\" class=\"dataframe\">\n",
       "  <thead>\n",
       "    <tr style=\"text-align: right;\">\n",
       "      <th></th>\n",
       "      <th>game_num</th>\n",
       "      <th>event_id</th>\n",
       "      <th>event_time</th>\n",
       "      <th>ball_pos_x</th>\n",
       "      <th>ball_pos_y</th>\n",
       "      <th>ball_pos_z</th>\n",
       "      <th>ball_vel_x</th>\n",
       "      <th>ball_vel_y</th>\n",
       "      <th>ball_vel_z</th>\n",
       "      <th>p0_pos_x</th>\n",
       "      <th>...</th>\n",
       "      <th>boost0_timer</th>\n",
       "      <th>boost1_timer</th>\n",
       "      <th>boost2_timer</th>\n",
       "      <th>boost3_timer</th>\n",
       "      <th>boost4_timer</th>\n",
       "      <th>boost5_timer</th>\n",
       "      <th>player_scoring_next</th>\n",
       "      <th>team_scoring_next</th>\n",
       "      <th>team_A_scoring_within_10sec</th>\n",
       "      <th>team_B_scoring_within_10sec</th>\n",
       "    </tr>\n",
       "  </thead>\n",
       "  <tbody>\n",
       "    <tr>\n",
       "      <th>0</th>\n",
       "      <td>1</td>\n",
       "      <td>1002</td>\n",
       "      <td>-33.313030</td>\n",
       "      <td>-0.0</td>\n",
       "      <td>0.0</td>\n",
       "      <td>1.8548</td>\n",
       "      <td>-0.0</td>\n",
       "      <td>0.0</td>\n",
       "      <td>0.0</td>\n",
       "      <td>41.804798</td>\n",
       "      <td>...</td>\n",
       "      <td>0.0</td>\n",
       "      <td>0.0</td>\n",
       "      <td>0.0</td>\n",
       "      <td>0.0</td>\n",
       "      <td>0.0</td>\n",
       "      <td>0.0</td>\n",
       "      <td>3</td>\n",
       "      <td>B</td>\n",
       "      <td>0</td>\n",
       "      <td>0</td>\n",
       "    </tr>\n",
       "    <tr>\n",
       "      <th>1</th>\n",
       "      <td>1</td>\n",
       "      <td>1002</td>\n",
       "      <td>-33.206146</td>\n",
       "      <td>-0.0</td>\n",
       "      <td>0.0</td>\n",
       "      <td>1.8548</td>\n",
       "      <td>-0.0</td>\n",
       "      <td>0.0</td>\n",
       "      <td>0.0</td>\n",
       "      <td>42.261600</td>\n",
       "      <td>...</td>\n",
       "      <td>0.0</td>\n",
       "      <td>0.0</td>\n",
       "      <td>0.0</td>\n",
       "      <td>0.0</td>\n",
       "      <td>0.0</td>\n",
       "      <td>0.0</td>\n",
       "      <td>3</td>\n",
       "      <td>B</td>\n",
       "      <td>0</td>\n",
       "      <td>0</td>\n",
       "    </tr>\n",
       "    <tr>\n",
       "      <th>2</th>\n",
       "      <td>1</td>\n",
       "      <td>1002</td>\n",
       "      <td>-33.098114</td>\n",
       "      <td>-0.0</td>\n",
       "      <td>0.0</td>\n",
       "      <td>1.8548</td>\n",
       "      <td>-0.0</td>\n",
       "      <td>0.0</td>\n",
       "      <td>0.0</td>\n",
       "      <td>43.227001</td>\n",
       "      <td>...</td>\n",
       "      <td>0.0</td>\n",
       "      <td>0.0</td>\n",
       "      <td>0.0</td>\n",
       "      <td>0.0</td>\n",
       "      <td>0.0</td>\n",
       "      <td>0.0</td>\n",
       "      <td>3</td>\n",
       "      <td>B</td>\n",
       "      <td>0</td>\n",
       "      <td>0</td>\n",
       "    </tr>\n",
       "    <tr>\n",
       "      <th>3</th>\n",
       "      <td>1</td>\n",
       "      <td>1002</td>\n",
       "      <td>-32.993191</td>\n",
       "      <td>-0.0</td>\n",
       "      <td>0.0</td>\n",
       "      <td>1.8548</td>\n",
       "      <td>-0.0</td>\n",
       "      <td>0.0</td>\n",
       "      <td>0.0</td>\n",
       "      <td>43.898399</td>\n",
       "      <td>...</td>\n",
       "      <td>0.0</td>\n",
       "      <td>0.0</td>\n",
       "      <td>0.0</td>\n",
       "      <td>0.0</td>\n",
       "      <td>0.0</td>\n",
       "      <td>0.0</td>\n",
       "      <td>3</td>\n",
       "      <td>B</td>\n",
       "      <td>0</td>\n",
       "      <td>0</td>\n",
       "    </tr>\n",
       "    <tr>\n",
       "      <th>4</th>\n",
       "      <td>1</td>\n",
       "      <td>1002</td>\n",
       "      <td>-32.887756</td>\n",
       "      <td>-0.0</td>\n",
       "      <td>0.0</td>\n",
       "      <td>1.8548</td>\n",
       "      <td>-0.0</td>\n",
       "      <td>0.0</td>\n",
       "      <td>0.0</td>\n",
       "      <td>44.960602</td>\n",
       "      <td>...</td>\n",
       "      <td>0.0</td>\n",
       "      <td>0.0</td>\n",
       "      <td>0.0</td>\n",
       "      <td>0.0</td>\n",
       "      <td>0.0</td>\n",
       "      <td>0.0</td>\n",
       "      <td>3</td>\n",
       "      <td>B</td>\n",
       "      <td>0</td>\n",
       "      <td>0</td>\n",
       "    </tr>\n",
       "  </tbody>\n",
       "</table>\n",
       "<p>5 rows × 61 columns</p>\n",
       "</div>"
      ],
      "text/plain": [
       "   game_num  event_id  event_time  ball_pos_x  ball_pos_y  ball_pos_z  \\\n",
       "0         1      1002  -33.313030        -0.0         0.0      1.8548   \n",
       "1         1      1002  -33.206146        -0.0         0.0      1.8548   \n",
       "2         1      1002  -33.098114        -0.0         0.0      1.8548   \n",
       "3         1      1002  -32.993191        -0.0         0.0      1.8548   \n",
       "4         1      1002  -32.887756        -0.0         0.0      1.8548   \n",
       "\n",
       "   ball_vel_x  ball_vel_y  ball_vel_z   p0_pos_x  ...  boost0_timer  \\\n",
       "0        -0.0         0.0         0.0  41.804798  ...           0.0   \n",
       "1        -0.0         0.0         0.0  42.261600  ...           0.0   \n",
       "2        -0.0         0.0         0.0  43.227001  ...           0.0   \n",
       "3        -0.0         0.0         0.0  43.898399  ...           0.0   \n",
       "4        -0.0         0.0         0.0  44.960602  ...           0.0   \n",
       "\n",
       "   boost1_timer  boost2_timer  boost3_timer  boost4_timer  boost5_timer  \\\n",
       "0           0.0           0.0           0.0           0.0           0.0   \n",
       "1           0.0           0.0           0.0           0.0           0.0   \n",
       "2           0.0           0.0           0.0           0.0           0.0   \n",
       "3           0.0           0.0           0.0           0.0           0.0   \n",
       "4           0.0           0.0           0.0           0.0           0.0   \n",
       "\n",
       "   player_scoring_next  team_scoring_next  team_A_scoring_within_10sec  \\\n",
       "0                    3                  B                            0   \n",
       "1                    3                  B                            0   \n",
       "2                    3                  B                            0   \n",
       "3                    3                  B                            0   \n",
       "4                    3                  B                            0   \n",
       "\n",
       "   team_B_scoring_within_10sec  \n",
       "0                            0  \n",
       "1                            0  \n",
       "2                            0  \n",
       "3                            0  \n",
       "4                            0  \n",
       "\n",
       "[5 rows x 61 columns]"
      ]
     },
     "execution_count": 35,
     "metadata": {},
     "output_type": "execute_result"
    }
   ],
   "source": [
    "single_match_df.head()"
   ]
  },
  {
   "cell_type": "markdown",
   "metadata": {},
   "source": [
    "Numbers sometimes have a better meaning if you can visualize them. Let's plot some of the data to get a better understanding of what we are dealing with.\n",
    "\n",
    "Thanks to Sergey Saharovskiy who posted a great [notebook](https://www.kaggle.com/code/sergiosaharovskiy/tps-oct-2022-viz-players-positions-animated/notebook) with some visualizations. I'll be using some of his code."
   ]
  },
  {
   "cell_type": "code",
   "execution_count": 34,
   "metadata": {},
   "outputs": [
    {
     "data": {
      "image/png": "[encoded data removed]",
      "text/plain": [
       "<Figure size 1200x800 with 1 Axes>"
      ]
     },
     "metadata": {},
     "output_type": "display_data"
    }
   ],
   "source": [
    "sample_i = randint(0, len(single_match_df)-1)\n",
    "\n",
    "meta = {\n",
    "    \"game_num\": single_match_df.loc[sample_i, \"game_num\"],\n",
    "    \"event_id\": single_match_df.loc[sample_i, \"event_id\"],\n",
    "    \"event_time\": single_match_df.loc[sample_i, \"event_time\"],\n",
    "}\n",
    "\n",
    "fig, ax = plt.subplots(1, figsize=(12, 8))\n",
    "draw_rocket_league_position(single_match_df, meta, (fig, ax));"
   ]
  },
  {
   "cell_type": "code",
   "execution_count": null,
   "metadata": {},
   "outputs": [],
   "source": []
  },
  {
   "cell_type": "markdown",
   "metadata": {},
   "source": [
    "## 3. Analyze a Single Rocket League Match "
   ]
  },
  {
   "cell_type": "code",
   "execution_count": null,
   "metadata": {},
   "outputs": [],
   "source": []
  }
 ],
 "metadata": {
  "kernelspec": {
   "display_name": "Python 3.9.12 ('kaggle-main')",
   "language": "python",
   "name": "python3"
  },
  "language_info": {
   "codemirror_mode": {
    "name": "ipython",
    "version": 3
   },
   "file_extension": ".py",
   "mimetype": "text/x-python",
   "name": "python",
   "nbconvert_exporter": "python",
   "pygments_lexer": "ipython3",
   "version": "3.9.13"
  },
  "orig_nbformat": 4,
  "vscode": {
   "interpreter": {
    "hash": "0fd4831d96ed66bca442039d176b10bc5346e2d2477946333cb9e6bec5a9b6e2"
   }
  }
 },
 "nbformat": 4,
 "nbformat_minor": 2
}
