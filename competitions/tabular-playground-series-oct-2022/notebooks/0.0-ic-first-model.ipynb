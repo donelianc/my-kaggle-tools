{
 "cells": [
  {
   "cell_type": "markdown",
   "metadata": {},
   "source": [
    "## 0. Libraries and Personal Tools"
   ]
  },
  {
   "cell_type": "code",
   "execution_count": 1,
   "metadata": {},
   "outputs": [],
   "source": [
    "import sys\n",
    "\n",
    "\n",
    "from gc import collect\n",
    "from os.path import abspath\n",
    "\n",
    "from re import findall\n",
    "\n",
    "from numpy import asarray\n",
    "from pandas import DataFrame\n",
    "from pandas import cut as pd_cut\n",
    "from pandas import read_feather, read_csv\n",
    "from pandas.api.types import CategoricalDtype\n",
    "\n",
    "from sklearn.model_selection import train_test_split"
   ]
  },
  {
   "cell_type": "code",
   "execution_count": 2,
   "metadata": {},
   "outputs": [],
   "source": [
    "import matplotlib.pyplot as plt\n",
    "from matplotlib import rcParams\n",
    "\n",
    "# Set the default figure size and theme to display good looking matplotlib plots.\n",
    "rcParams[\"figure.figsize\"] = (10, 6)\n",
    "plt.style.use(\"fivethirtyeight\")"
   ]
  },
  {
   "cell_type": "code",
   "execution_count": 3,
   "metadata": {},
   "outputs": [],
   "source": [
    "# add absolute path from root to sys.path to use custom modules\n",
    "sys.path.insert(0, abspath('..'))"
   ]
  },
  {
   "cell_type": "markdown",
   "metadata": {},
   "source": [
    "## 1. Get Train Data"
   ]
  },
  {
   "cell_type": "code",
   "execution_count": 4,
   "metadata": {},
   "outputs": [],
   "source": [
    "df = read_feather(f\"../data/interim/small_train_compressed.ftr\")\n",
    "df.set_index([\"game_num\", \"event_id\", \"event_time\"], inplace=True)"
   ]
  },
  {
   "cell_type": "code",
   "execution_count": 5,
   "metadata": {},
   "outputs": [
    {
     "data": {
      "text/plain": [
       "0"
      ]
     },
     "execution_count": 5,
     "metadata": {},
     "output_type": "execute_result"
    }
   ],
   "source": [
    "# Free some memory after loading the data\n",
    "collect()"
   ]
  },
  {
   "cell_type": "markdown",
   "metadata": {},
   "source": [
    "## 2. Get Features and Targets"
   ]
  },
  {
   "cell_type": "code",
   "execution_count": 6,
   "metadata": {},
   "outputs": [],
   "source": [
    "model_features = read_csv(\"../data/raw/test_dtypes.csv\")\n",
    "FEATURES = [feature for feature in model_features.column.tolist() if feature != \"id\"]"
   ]
  },
  {
   "cell_type": "code",
   "execution_count": 7,
   "metadata": {},
   "outputs": [
    {
     "data": {
      "text/plain": [
       "54"
      ]
     },
     "execution_count": 7,
     "metadata": {},
     "output_type": "execute_result"
    }
   ],
   "source": [
    "len(FEATURES)"
   ]
  },
  {
   "cell_type": "code",
   "execution_count": 8,
   "metadata": {},
   "outputs": [
    {
     "data": {
      "text/plain": [
       "0    0.941689\n",
       "1    0.058311\n",
       "Name: team_A_scoring_within_10sec, dtype: float64"
      ]
     },
     "execution_count": 8,
     "metadata": {},
     "output_type": "execute_result"
    }
   ],
   "source": [
    "TEAM = \"A\"\n",
    "TARGET = f\"team_{TEAM}_scoring_within_10sec\"\n",
    "df[TARGET].value_counts(normalize=True, dropna=False)"
   ]
  },
  {
   "cell_type": "markdown",
   "metadata": {},
   "source": [
    "## 3. Train and Test Split"
   ]
  },
  {
   "cell_type": "code",
   "execution_count": 9,
   "metadata": {},
   "outputs": [],
   "source": [
    "from sklearn.model_selection import GroupShuffleSplit"
   ]
  },
  {
   "cell_type": "code",
   "execution_count": 10,
   "metadata": {},
   "outputs": [],
   "source": [
    "gsp = GroupShuffleSplit(n_splits=2, test_size=0.9, random_state=777)\n",
    "train_index, test_index = next(gsp.split(df, groups=df.index.get_level_values(\"game_num\")))\n",
    "\n",
    "X_train = df[FEATURES].iloc[train_index]\n",
    "y_train = df[TARGET].iloc[train_index]\n",
    "\n",
    "X_test = df[FEATURES].iloc[test_index]\n",
    "y_test = df[TARGET].iloc[test_index]"
   ]
  },
  {
   "cell_type": "code",
   "execution_count": 11,
   "metadata": {},
   "outputs": [],
   "source": [
    "del df"
   ]
  },
  {
   "cell_type": "code",
   "execution_count": 12,
   "metadata": {},
   "outputs": [
    {
     "data": {
      "text/plain": [
       "0"
      ]
     },
     "execution_count": 12,
     "metadata": {},
     "output_type": "execute_result"
    }
   ],
   "source": [
    "collect()"
   ]
  },
  {
   "cell_type": "markdown",
   "metadata": {},
   "source": [
    "## 4. Feature Engineering"
   ]
  },
  {
   "cell_type": "markdown",
   "metadata": {},
   "source": [
    "1. ✅ Impute missing values for player data (position, velocity, and boost)\n",
    "1. Join distance from two team members to the ball\n",
    "1. ✅ Distance from the ball to the goal post\n",
    "1. ✅ Speed of the ball calculated from velocity vector\n",
    "1. ✅ Speed for each team member calculated from velocity vector\n",
    "1. Distance from team members to orbs positions\n",
    "1. Angles between team members and the ball"
   ]
  },
  {
   "cell_type": "code",
   "execution_count": 13,
   "metadata": {},
   "outputs": [],
   "source": [
    "from sklearn.base import BaseEstimator, TransformerMixin"
   ]
  },
  {
   "cell_type": "markdown",
   "metadata": {},
   "source": [
    "### 4.1 Missing Values (Player Features)"
   ]
  },
  {
   "cell_type": "code",
   "execution_count": 14,
   "metadata": {},
   "outputs": [],
   "source": [
    "# https://github.com/ResidentMario/missingno\n",
    "# Messy datasets? Missing values? missingno provides a small toolset of flexible \n",
    "# and easy-to-use missing data visualizations and utilities that allows you to \n",
    "# get a quick visual summary of the completeness (or lack thereof) of your dataset.\n",
    "import missingno as msno"
   ]
  },
  {
   "cell_type": "code",
   "execution_count": 15,
   "metadata": {},
   "outputs": [],
   "source": [
    "player_features = X_train.columns[X_train.columns.str.startswith(\"p\")]"
   ]
  },
  {
   "cell_type": "code",
   "execution_count": 16,
   "metadata": {},
   "outputs": [
    {
     "data": {
      "image/png": "[encoded data removed]",
      "text/plain": [
       "<Figure size 2500x1000 with 2 Axes>"
      ]
     },
     "metadata": {},
     "output_type": "display_data"
    }
   ],
   "source": [
    "msno.matrix(X_train[player_features].sample(frac=0.1, random_state=777));"
   ]
  },
  {
   "cell_type": "markdown",
   "metadata": {},
   "source": [
    "#### 4.1.1 Player Demolished"
   ]
  },
  {
   "cell_type": "code",
   "execution_count": 17,
   "metadata": {},
   "outputs": [],
   "source": [
    "class PlayerDemolished(BaseEstimator, TransformerMixin):\n",
    "\n",
    "    def __init__(self):\n",
    "        self.feature_names_out = []\n",
    "    \n",
    "    def fit(self, X, y=None):\n",
    "        self.feature_names_out = [f\"p{i}_demolished\" for i in range(6)]\n",
    "        return self\n",
    "    \n",
    "    def transform(self, X):\n",
    "        X_trans = X.copy()\n",
    "        for i in range(6):\n",
    "            player_features = X_trans.columns[X_trans.columns.str.startswith(f\"p{i}_\")]\n",
    "            X_trans[self.feature_names_out[i]] = X_trans[player_features].isna().all(axis=1).astype(int)\n",
    "        return X_trans[self.feature_names_out]\n",
    "\n",
    "    # TODO: Improve this method\n",
    "    def get_feature_names_out(self, input_features=None):\n",
    "        # input_features = _check_feature_names_in(self, input_features)\n",
    "        return asarray(self.feature_names_out, dtype=object)"
   ]
  },
  {
   "cell_type": "markdown",
   "metadata": {},
   "source": [
    "### 4.2 Team Centroid"
   ]
  },
  {
   "cell_type": "code",
   "execution_count": 18,
   "metadata": {},
   "outputs": [],
   "source": [
    "# TODO: Another implementation (using FunctionTransformer) can be found here:\n",
    "# https://github.com/scikit-learn/scikit-learn/discussions/23992\n",
    "\n",
    "class DistanceBallGoalPosts(BaseEstimator, TransformerMixin):\n",
    "\n",
    "    def __init__(self, posts):\n",
    "        self.posts = posts\n",
    "        self.feature_names_out = []\n",
    "    \n",
    "    def fit(self, X, y=None):\n",
    "        self.feature_names_out = [f\"ball_distance_to_post{i}\" for i in range(1, len(self.posts) + 1)]\n",
    "        return self\n",
    "    \n",
    "    def transform(self, X):\n",
    "        X_trans = X.copy()        \n",
    "        for i, post in enumerate(self.posts):\n",
    "            ball_position = [\"ball_pos_x\", \"ball_pos_y\", \"ball_pos_z\"]\n",
    "            X_trans[self.feature_names_out[i]] = X_trans[ball_position].sub(post).pow(2).sum(axis=1).pow(0.5)\n",
    "        return X_trans[self.feature_names_out]\n",
    "\n",
    "    # TODO: Improve this method for all custom transformers\n",
    "    def get_feature_names_out(self, input_features=None):\n",
    "        return asarray(self.feature_names_out, dtype=object)"
   ]
  },
  {
   "cell_type": "markdown",
   "metadata": {},
   "source": [
    "### 4.3 Distance from the ball to the goal post"
   ]
  },
  {
   "cell_type": "code",
   "execution_count": 19,
   "metadata": {},
   "outputs": [],
   "source": [
    "# Check Mahdee's discussion for more details about the goal post\n",
    "# Source: https://www.kaggle.com/competitions/tabular-playground-series-oct-2022/discussion/357633\n",
    "GOAL_POST1 = (0.0, -100.0, 6.8)\n",
    "GOAL_POST2 = (0.0, 100.0, 6.8)"
   ]
  },
  {
   "cell_type": "code",
   "execution_count": 20,
   "metadata": {},
   "outputs": [],
   "source": [
    "# TODO: Another implementation (using FunctionTransformer) can be found here:\n",
    "# https://github.com/scikit-learn/scikit-learn/discussions/23992\n",
    "\n",
    "class DistanceBallGoalPosts(BaseEstimator, TransformerMixin):\n",
    "\n",
    "    def __init__(self, posts):\n",
    "        self.posts = posts\n",
    "        self.feature_names_out = []\n",
    "    \n",
    "    def fit(self, X, y=None):\n",
    "        self.feature_names_out = [f\"ball_distance_to_post{i}\" for i in range(1, len(self.posts) + 1)]\n",
    "        return self\n",
    "    \n",
    "    def transform(self, X):\n",
    "        X_trans = X.copy()        \n",
    "        for i, post in enumerate(self.posts):\n",
    "            ball_position = [\"ball_pos_x\", \"ball_pos_y\", \"ball_pos_z\"]\n",
    "            X_trans[self.feature_names_out[i]] = X_trans[ball_position].sub(post).pow(2).sum(axis=1).pow(0.5)\n",
    "        return X_trans[self.feature_names_out]\n",
    "\n",
    "    # TODO: Improve this method for all custom transformers\n",
    "    def get_feature_names_out(self, input_features=None):\n",
    "        return asarray(self.feature_names_out, dtype=object)"
   ]
  },
  {
   "cell_type": "markdown",
   "metadata": {},
   "source": [
    "### 4.4 Ball speed from velocity vector"
   ]
  },
  {
   "cell_type": "code",
   "execution_count": 21,
   "metadata": {},
   "outputs": [],
   "source": [
    "class BallSpeed(BaseEstimator, TransformerMixin):\n",
    "\n",
    "    def __init__(self):\n",
    "        self.feature_names_out = []\n",
    "    \n",
    "    def fit(self, X, y=None):\n",
    "        self.feature_names_out = [\"ball_speed\"]\n",
    "        return self\n",
    "    \n",
    "    def transform(self, X):\n",
    "        X_trans = X.copy()     \n",
    "        ball_velocity = [\"ball_vel_x\", \"ball_vel_y\", \"ball_vel_z\"]   \n",
    "        X_trans[self.feature_names_out[0]] = X_trans[ball_velocity].pow(2).sum(axis=1).pow(0.5)\n",
    "        return X_trans[self.feature_names_out]\n",
    "\n",
    "    def get_feature_names_out(self, input_features=None):\n",
    "        return asarray(self.feature_names_out, dtype=object)"
   ]
  },
  {
   "cell_type": "markdown",
   "metadata": {},
   "source": [
    "### 4.5 Player speed from velocity vector"
   ]
  },
  {
   "cell_type": "code",
   "execution_count": 22,
   "metadata": {},
   "outputs": [],
   "source": [
    "class PlayerSpeed(BaseEstimator, TransformerMixin):\n",
    "\n",
    "    def __init__(self):\n",
    "        self.feature_names_out = []\n",
    "    \n",
    "    def fit(self, X, y=None):\n",
    "        self.feature_names_out = [f\"p{i}_speed\" for i in range(6)]\n",
    "        return self\n",
    "    \n",
    "    def transform(self, X):\n",
    "        X_trans = X.copy()\n",
    "        for i in range(6):\n",
    "            velocity_vector = [v for v in X_trans.columns if v.startswith(f\"p{i}\")]\n",
    "            X_trans[self.feature_names_out[i]] = X_trans[velocity_vector].pow(2).sum(axis=1).pow(0.5)\n",
    "\n",
    "        return X_trans[self.feature_names_out]\n",
    "\n",
    "    def get_feature_names_out(self, input_features=None):\n",
    "        return asarray(self.feature_names_out, dtype=object)"
   ]
  },
  {
   "cell_type": "markdown",
   "metadata": {},
   "source": [
    "### 4.6 Timer for until big boost is available"
   ]
  },
  {
   "cell_type": "code",
   "execution_count": 23,
   "metadata": {},
   "outputs": [],
   "source": [
    "class PositiveBoostTimer(BaseEstimator, TransformerMixin):\n",
    "\n",
    "    def __init__(self):\n",
    "        self.feature_names_out = []\n",
    "    \n",
    "    def fit(self, X, y=None):\n",
    "        self.feature_names_out = [f\"p{i}_positive_timer\" for i in range(6)]\n",
    "        return self\n",
    "    \n",
    "    def transform(self, X):\n",
    "        X_trans = X.copy()\n",
    "        timer_features = X_trans.columns[X_trans.columns.str.endswith(\"_timer\")]\n",
    "        X_trans[self.feature_names_out] = X_trans[timer_features].abs()\n",
    "        return X_trans[self.feature_names_out]\n",
    "\n",
    "    # TODO: Improve this method\n",
    "    def get_feature_names_out(self, input_features=None):\n",
    "        # input_features = _check_feature_names_in(self, input_features)\n",
    "        return asarray(self.feature_names_out, dtype=object)"
   ]
  },
  {
   "cell_type": "markdown",
   "metadata": {},
   "source": [
    "### 4.7 Team centroid"
   ]
  },
  {
   "cell_type": "code",
   "execution_count": 24,
   "metadata": {},
   "outputs": [],
   "source": [
    "class TeamCentroid(BaseEstimator, TransformerMixin):\n",
    "\n",
    "    def __init__(self):\n",
    "        self.feature_names_out = []\n",
    "    \n",
    "    def fit(self, X, y=None):\n",
    "        self.feature_names_out = [f\"team_A_centroid_{axis}\" for axis in [\"x\", \"y\"]] + [f\"team_B_centroid_{axis}\" for axis in [\"x\", \"y\"]]\n",
    "        return self\n",
    "    \n",
    "    def transform(self, X):\n",
    "        X_trans = X.copy()        \n",
    "        for team in [\"A\", \"B\"]:    \n",
    "            if team == \"A\":\n",
    "                xpositions = X_trans.columns[X_trans.columns.str.contains(r\"p[0-2]_pos_x\")]\n",
    "                ypositions = X_trans.columns[X_trans.columns.str.contains(r\"p[0-2]_pos_y\")]\n",
    "            elif team == \"B\":\n",
    "                xpositions = X_trans.columns[X_trans.columns.str.contains(r\"p[3-5]_pos_x\")]\n",
    "                ypositions = X_trans.columns[X_trans.columns.str.contains(r\"p[3-5]_pos_y\")]\n",
    "            \n",
    "            X_trans[f\"team_{team}_centroid_x\"] = X_trans[xpositions].mean(axis=1)\n",
    "            X_trans[f\"team_{team}_centroid_y\"] = X_trans[ypositions].mean(axis=1)\n",
    "            \n",
    "        return X_trans[self.feature_names_out]\n",
    "\n",
    "    # TODO: Improve this method for all custom transformers\n",
    "    def get_feature_names_out(self, input_features=None):\n",
    "        return asarray(self.feature_names_out, dtype=object)"
   ]
  },
  {
   "cell_type": "code",
   "execution_count": null,
   "metadata": {},
   "outputs": [],
   "source": []
  },
  {
   "cell_type": "markdown",
   "metadata": {},
   "source": [
    "## 5. Pipeline Building"
   ]
  },
  {
   "cell_type": "code",
   "execution_count": 25,
   "metadata": {},
   "outputs": [],
   "source": [
    "# Kudos to: https://towardsdatascience.com/pipeline-columntransformer-and-featureunion-explained-f5491f815f\n",
    "# Kudos to: https://towardsdatascience.com/4-scikit-learn-tools-every-data-scientist-should-use-4ee942958d9e\n",
    "\n",
    "# from numpy import logical_not, concatenate, asarray\n",
    "# from numpy import nan as np_nan\n",
    "\n",
    "# from scipy.spatial.distance import euclidean\n",
    "\n",
    "from sklearn.compose import ColumnTransformer\n",
    "from sklearn.compose import make_column_selector as selector\n",
    "\n",
    "from sklearn.pipeline import Pipeline, FeatureUnion, make_pipeline\n",
    "\n",
    "from sklearn.impute import SimpleImputer\n",
    "from sklearn.preprocessing import MinMaxScaler, MaxAbsScaler, StandardScaler\n",
    "from sklearn.preprocessing import FunctionTransformer\n",
    "\n",
    "from sklearn.utils.validation import _get_feature_names, _check_feature_names_in"
   ]
  },
  {
   "cell_type": "markdown",
   "metadata": {},
   "source": [
    "### 5.1. Player Pipelines"
   ]
  },
  {
   "cell_type": "code",
   "execution_count": 26,
   "metadata": {},
   "outputs": [],
   "source": [
    "player_position_pipe = Pipeline(\n",
    "    steps=[\n",
    "        (\"imputer\", SimpleImputer(strategy=\"constant\", fill_value=0.0)),\n",
    "        (\"scaler\", MinMaxScaler()),\n",
    "        ]\n",
    ")\n",
    "\n",
    "player_velocity_pipe = Pipeline(\n",
    "    steps=[\n",
    "        (\"imputer\", SimpleImputer(strategy=\"constant\", fill_value=0.0)),\n",
    "        (\"scaler\", MaxAbsScaler()),\n",
    "        ]\n",
    ")\n",
    "\n",
    "player_speed_pipe = Pipeline(\n",
    "    steps=[\n",
    "        (\"speed\", PlayerSpeed()),\n",
    "        (\"imputer\", SimpleImputer(strategy=\"constant\", fill_value=0.0)),\n",
    "        (\"scaler\", StandardScaler()),\n",
    "        ]\n",
    ")\n",
    "\n",
    "\n",
    "# xaxis_discretizer = FunctionTransformer(pd_cut, kw_args={\"bins\": range(-85, 86, 10), \"labels\": False, \"retbins\": False})\n",
    "# yaxis_discretizer = FunctionTransformer(pd_cut, kw_args={\"bins\": list(range(-120, 121, 10)), \"labels\": False, \"retbins\": False})\n",
    "# zaxis_discretizer = FunctionTransformer(pd_cut, kw_args={\"bins\": list(range(0, 41, 10)), \"labels\": False, \"retbins\": False})\n",
    "# \n",
    "# player_position_discretizer_pipe = Pipeline(\n",
    "#     steps=[\n",
    "#         (\"imputer\", SimpleImputer(strategy=\"constant\", fill_value=0.0)),\n",
    "#         (\"xaxis_discretizer\", xaxis_discretizer),\n",
    "#         (\"yaxis_discretizer\", yaxis_discretizer),\n",
    "#         (\"zaxis_discretizer\", zaxis_discretizer),\n",
    "#         ]\n",
    "# )"
   ]
  },
  {
   "cell_type": "code",
   "execution_count": 27,
   "metadata": {},
   "outputs": [],
   "source": [
    "player_transformations = ColumnTransformer(\n",
    "    transformers=[\n",
    "        (\"player_demolished\", PlayerDemolished(), selector(\"p[0-5]\")),\n",
    "        (\"player_velocity_pipe\",  player_velocity_pipe, selector(\"p[0-5]_vel_\")),\n",
    "        (\"player_speed\", player_speed_pipe, selector(pattern=\"p[0-5]_vel_\")),\n",
    "        (\"player_position\", player_position_pipe, selector(\"p[0-5]_pos_\")),\n",
    "        ],\n",
    "    )\n"
   ]
  },
  {
   "cell_type": "markdown",
   "metadata": {},
   "source": [
    "### 5.2. Ball Pipelines"
   ]
  },
  {
   "cell_type": "code",
   "execution_count": 28,
   "metadata": {},
   "outputs": [],
   "source": [
    "ball_velocity_pipe = Pipeline(\n",
    "    steps=[\n",
    "        (\"imputer\", SimpleImputer(strategy=\"constant\", fill_value=0.0)),\n",
    "        (\"scaler\", MaxAbsScaler()),\n",
    "        ]\n",
    ")\n",
    "\n",
    "ball_speed_pipe = Pipeline(\n",
    "    steps=[\n",
    "        (\"speed\", BallSpeed()),\n",
    "        (\"scaler\", StandardScaler()),\n",
    "        ]\n",
    ")\n",
    "\n",
    "ball_position_pipe = Pipeline(\n",
    "    steps=[\n",
    "        (\"imputer\", SimpleImputer(strategy=\"constant\", fill_value=0.0)),\n",
    "        (\"scaler\", MinMaxScaler()),\n",
    "        ]\n",
    ")\n",
    "\n",
    "distance_ball_goal_posts_pipe = Pipeline(\n",
    "    steps=[\n",
    "        (\"distance\", DistanceBallGoalPosts(posts=[GOAL_POST1, GOAL_POST2])),\n",
    "        (\"scaler\", MinMaxScaler()),\n",
    "        ]\n",
    ")"
   ]
  },
  {
   "cell_type": "code",
   "execution_count": 29,
   "metadata": {},
   "outputs": [],
   "source": [
    "ball_transformations = ColumnTransformer(\n",
    "    transformers=[\n",
    "        (\"ball_velocity\", ball_velocity_pipe, selector(\"ball_vel_\")),\n",
    "        (\"ball_speed\", ball_speed_pipe, selector(\"ball_vel_\")),\n",
    "        (\"ball_position\", ball_position_pipe, selector(\"ball_pos_\")),\n",
    "        (\"distance_ball_goal_posts\", distance_ball_goal_posts_pipe, selector(\"ball_pos_\")),\n",
    "        ],\n",
    "    )\n"
   ]
  },
  {
   "cell_type": "markdown",
   "metadata": {},
   "source": [
    "### 5.3. Booster Pipelines"
   ]
  },
  {
   "cell_type": "code",
   "execution_count": 30,
   "metadata": {},
   "outputs": [],
   "source": [
    "booster_timer_pipe = Pipeline(\n",
    "    steps=[\n",
    "        (\"timer\", PositiveBoostTimer()),\n",
    "        (\"scaler\", MaxAbsScaler()),\n",
    "        ]\n",
    ")\n",
    "\n",
    "player_boosters_pipe = Pipeline(\n",
    "    steps=[\n",
    "        (\"imputer\", SimpleImputer(strategy=\"constant\", fill_value=0.0)),\n",
    "        (\"scaler\", MaxAbsScaler()),\n",
    "        ]\n",
    ")\n",
    "        "
   ]
  },
  {
   "cell_type": "code",
   "execution_count": 31,
   "metadata": {},
   "outputs": [],
   "source": [
    "booster_transformations = ColumnTransformer(\n",
    "    transformers=[\n",
    "        (\"booster_timer\", booster_timer_pipe, selector(pattern=\"boost[0-5]_timer\")),\n",
    "        (\"player_boosters\", player_boosters_pipe, selector(pattern=\"p[0-5]_boost\")),\n",
    "        ],\n",
    "    )"
   ]
  },
  {
   "cell_type": "markdown",
   "metadata": {},
   "source": [
    "### 5.4. Team Pipelines"
   ]
  },
  {
   "cell_type": "code",
   "execution_count": 32,
   "metadata": {},
   "outputs": [],
   "source": [
    "team_centroid_pipe = Pipeline(\n",
    "    steps=[\n",
    "        (\"team_centroid\", TeamCentroid()),\n",
    "        (\"scaler\", StandardScaler()),\n",
    "        ]\n",
    ")"
   ]
  },
  {
   "cell_type": "code",
   "execution_count": 33,
   "metadata": {},
   "outputs": [],
   "source": [
    "team_transformations = ColumnTransformer(\n",
    "    transformers=[\n",
    "        (\"team_centroid\", team_centroid_pipe, selector(\"p[0-5]_pos_\")),\n",
    "        ],\n",
    "    )   "
   ]
  },
  {
   "cell_type": "markdown",
   "metadata": {},
   "source": [
    "### 5.N. Main Feature Engineering Pipeline"
   ]
  },
  {
   "cell_type": "code",
   "execution_count": 34,
   "metadata": {},
   "outputs": [],
   "source": [
    "preprocessor = FeatureUnion(\n",
    "    transformer_list=[\n",
    "        (\"player_transformations\", player_transformations),\n",
    "        (\"ball_transformations\", ball_transformations),\n",
    "        (\"booster_transformations\", booster_transformations),\n",
    "        (\"team_transformations\", team_transformations),\n",
    "        ],\n",
    "    )"
   ]
  },
  {
   "cell_type": "code",
   "execution_count": 35,
   "metadata": {},
   "outputs": [],
   "source": [
    "pipe = Pipeline(\n",
    "    steps=[\n",
    "        (\"preprocessor\", preprocessor),\n",
    "        ]\n",
    "    )"
   ]
  },
  {
   "cell_type": "code",
   "execution_count": 36,
   "metadata": {},
   "outputs": [
    {
     "data": {
      "text/html": [
       "<style>#sk-container-id-1 {color: black;background-color: white;}#sk-container-id-1 pre{padding: 0;}#sk-container-id-1 div.sk-toggleable {background-color: white;}#sk-container-id-1 label.sk-toggleable__label {cursor: pointer;display: block;width: 100%;margin-bottom: 0;padding: 0.3em;box-sizing: border-box;text-align: center;}#sk-container-id-1 label.sk-toggleable__label-arrow:before {content: \"▸\";float: left;margin-right: 0.25em;color: #696969;}#sk-container-id-1 label.sk-toggleable__label-arrow:hover:before {color: black;}#sk-container-id-1 div.sk-estimator:hover label.sk-toggleable__label-arrow:before {color: black;}#sk-container-id-1 div.sk-toggleable__content {max-height: 0;max-width: 0;overflow: hidden;text-align: left;background-color: #f0f8ff;}#sk-container-id-1 div.sk-toggleable__content pre {margin: 0.2em;color: black;border-radius: 0.25em;background-color: #f0f8ff;}#sk-container-id-1 input.sk-toggleable__control:checked~div.sk-toggleable__content {max-height: 200px;max-width: 100%;overflow: auto;}#sk-container-id-1 input.sk-toggleable__control:checked~label.sk-toggleable__label-arrow:before {content: \"▾\";}#sk-container-id-1 div.sk-estimator input.sk-toggleable__control:checked~label.sk-toggleable__label {background-color: #d4ebff;}#sk-container-id-1 div.sk-label input.sk-toggleable__control:checked~label.sk-toggleable__label {background-color: #d4ebff;}#sk-container-id-1 input.sk-hidden--visually {border: 0;clip: rect(1px 1px 1px 1px);clip: rect(1px, 1px, 1px, 1px);height: 1px;margin: -1px;overflow: hidden;padding: 0;position: absolute;width: 1px;}#sk-container-id-1 div.sk-estimator {font-family: monospace;background-color: #f0f8ff;border: 1px dotted black;border-radius: 0.25em;box-sizing: border-box;margin-bottom: 0.5em;}#sk-container-id-1 div.sk-estimator:hover {background-color: #d4ebff;}#sk-container-id-1 div.sk-parallel-item::after {content: \"\";width: 100%;border-bottom: 1px solid gray;flex-grow: 1;}#sk-container-id-1 div.sk-label:hover label.sk-toggleable__label {background-color: #d4ebff;}#sk-container-id-1 div.sk-serial::before {content: \"\";position: absolute;border-left: 1px solid gray;box-sizing: border-box;top: 0;bottom: 0;left: 50%;z-index: 0;}#sk-container-id-1 div.sk-serial {display: flex;flex-direction: column;align-items: center;background-color: white;padding-right: 0.2em;padding-left: 0.2em;position: relative;}#sk-container-id-1 div.sk-item {position: relative;z-index: 1;}#sk-container-id-1 div.sk-parallel {display: flex;align-items: stretch;justify-content: center;background-color: white;position: relative;}#sk-container-id-1 div.sk-item::before, #sk-container-id-1 div.sk-parallel-item::before {content: \"\";position: absolute;border-left: 1px solid gray;box-sizing: border-box;top: 0;bottom: 0;left: 50%;z-index: -1;}#sk-container-id-1 div.sk-parallel-item {display: flex;flex-direction: column;z-index: 1;position: relative;background-color: white;}#sk-container-id-1 div.sk-parallel-item:first-child::after {align-self: flex-end;width: 50%;}#sk-container-id-1 div.sk-parallel-item:last-child::after {align-self: flex-start;width: 50%;}#sk-container-id-1 div.sk-parallel-item:only-child::after {width: 0;}#sk-container-id-1 div.sk-dashed-wrapped {border: 1px dashed gray;margin: 0 0.4em 0.5em 0.4em;box-sizing: border-box;padding-bottom: 0.4em;background-color: white;}#sk-container-id-1 div.sk-label label {font-family: monospace;font-weight: bold;display: inline-block;line-height: 1.2em;}#sk-container-id-1 div.sk-label-container {text-align: center;}#sk-container-id-1 div.sk-container {/* jupyter's `normalize.less` sets `[hidden] { display: none; }` but bootstrap.min.css set `[hidden] { display: none !important; }` so we also need the `!important` here to be able to override the default hidden behavior on the sphinx rendered scikit-learn.org. See: https://github.com/scikit-learn/scikit-learn/issues/21755 */display: inline-block !important;position: relative;}#sk-container-id-1 div.sk-text-repr-fallback {display: none;}</style><div id=\"sk-container-id-1\" class=\"sk-top-container\"><div class=\"sk-text-repr-fallback\"><pre>Pipeline(steps=[(&#x27;preprocessor&#x27;,\n",
       "                 FeatureUnion(transformer_list=[(&#x27;player_transformations&#x27;,\n",
       "                                                 ColumnTransformer(transformers=[(&#x27;player_demolished&#x27;,\n",
       "                                                                                  PlayerDemolished(),\n",
       "                                                                                  &lt;sklearn.compose._column_transformer.make_column_selector object at 0x7f6c58271820&gt;),\n",
       "                                                                                 (&#x27;player_velocity_pipe&#x27;,\n",
       "                                                                                  Pipeline(steps=[(&#x27;imputer&#x27;,\n",
       "                                                                                                   SimpleImputer(fill_value=0.0,\n",
       "                                                                                                                 strategy=&#x27;constant&#x27;)),\n",
       "                                                                                                  (&#x27;sca...\n",
       "                                                                                                  (&#x27;scaler&#x27;,\n",
       "                                                                                                   MaxAbsScaler())]),\n",
       "                                                                                  &lt;sklearn.compose._column_transformer.make_column_selector object at 0x7f6c590d4a00&gt;)])),\n",
       "                                                (&#x27;team_transformations&#x27;,\n",
       "                                                 ColumnTransformer(transformers=[(&#x27;team_centroid&#x27;,\n",
       "                                                                                  Pipeline(steps=[(&#x27;team_centroid&#x27;,\n",
       "                                                                                                   TeamCentroid()),\n",
       "                                                                                                  (&#x27;scaler&#x27;,\n",
       "                                                                                                   StandardScaler())]),\n",
       "                                                                                  &lt;sklearn.compose._column_transformer.make_column_selector object at 0x7f6c835688e0&gt;)]))]))])</pre><b>In a Jupyter environment, please rerun this cell to show the HTML representation or trust the notebook. <br />On GitHub, the HTML representation is unable to render, please try loading this page with nbviewer.org.</b></div><div class=\"sk-container\" hidden><div class=\"sk-item sk-dashed-wrapped\"><div class=\"sk-label-container\"><div class=\"sk-label sk-toggleable\"><input class=\"sk-toggleable__control sk-hidden--visually\" id=\"sk-estimator-id-1\" type=\"checkbox\" ><label for=\"sk-estimator-id-1\" class=\"sk-toggleable__label sk-toggleable__label-arrow\">Pipeline</label><div class=\"sk-toggleable__content\"><pre>Pipeline(steps=[(&#x27;preprocessor&#x27;,\n",
       "                 FeatureUnion(transformer_list=[(&#x27;player_transformations&#x27;,\n",
       "                                                 ColumnTransformer(transformers=[(&#x27;player_demolished&#x27;,\n",
       "                                                                                  PlayerDemolished(),\n",
       "                                                                                  &lt;sklearn.compose._column_transformer.make_column_selector object at 0x7f6c58271820&gt;),\n",
       "                                                                                 (&#x27;player_velocity_pipe&#x27;,\n",
       "                                                                                  Pipeline(steps=[(&#x27;imputer&#x27;,\n",
       "                                                                                                   SimpleImputer(fill_value=0.0,\n",
       "                                                                                                                 strategy=&#x27;constant&#x27;)),\n",
       "                                                                                                  (&#x27;sca...\n",
       "                                                                                                  (&#x27;scaler&#x27;,\n",
       "                                                                                                   MaxAbsScaler())]),\n",
       "                                                                                  &lt;sklearn.compose._column_transformer.make_column_selector object at 0x7f6c590d4a00&gt;)])),\n",
       "                                                (&#x27;team_transformations&#x27;,\n",
       "                                                 ColumnTransformer(transformers=[(&#x27;team_centroid&#x27;,\n",
       "                                                                                  Pipeline(steps=[(&#x27;team_centroid&#x27;,\n",
       "                                                                                                   TeamCentroid()),\n",
       "                                                                                                  (&#x27;scaler&#x27;,\n",
       "                                                                                                   StandardScaler())]),\n",
       "                                                                                  &lt;sklearn.compose._column_transformer.make_column_selector object at 0x7f6c835688e0&gt;)]))]))])</pre></div></div></div><div class=\"sk-serial\"><div class=\"sk-item sk-dashed-wrapped\"><div class=\"sk-label-container\"><div class=\"sk-label sk-toggleable\"><input class=\"sk-toggleable__control sk-hidden--visually\" id=\"sk-estimator-id-2\" type=\"checkbox\" ><label for=\"sk-estimator-id-2\" class=\"sk-toggleable__label sk-toggleable__label-arrow\">preprocessor: FeatureUnion</label><div class=\"sk-toggleable__content\"><pre>FeatureUnion(transformer_list=[(&#x27;player_transformations&#x27;,\n",
       "                                ColumnTransformer(transformers=[(&#x27;player_demolished&#x27;,\n",
       "                                                                 PlayerDemolished(),\n",
       "                                                                 &lt;sklearn.compose._column_transformer.make_column_selector object at 0x7f6c58271820&gt;),\n",
       "                                                                (&#x27;player_velocity_pipe&#x27;,\n",
       "                                                                 Pipeline(steps=[(&#x27;imputer&#x27;,\n",
       "                                                                                  SimpleImputer(fill_value=0.0,\n",
       "                                                                                                strategy=&#x27;constant&#x27;)),\n",
       "                                                                                 (&#x27;scaler&#x27;,\n",
       "                                                                                  MaxAbsScaler())]),\n",
       "                                                                 &lt;sklearn....\n",
       "                                                                                 (&#x27;scaler&#x27;,\n",
       "                                                                                  MaxAbsScaler())]),\n",
       "                                                                 &lt;sklearn.compose._column_transformer.make_column_selector object at 0x7f6c590d4a00&gt;)])),\n",
       "                               (&#x27;team_transformations&#x27;,\n",
       "                                ColumnTransformer(transformers=[(&#x27;team_centroid&#x27;,\n",
       "                                                                 Pipeline(steps=[(&#x27;team_centroid&#x27;,\n",
       "                                                                                  TeamCentroid()),\n",
       "                                                                                 (&#x27;scaler&#x27;,\n",
       "                                                                                  StandardScaler())]),\n",
       "                                                                 &lt;sklearn.compose._column_transformer.make_column_selector object at 0x7f6c835688e0&gt;)]))])</pre></div></div></div><div class=\"sk-parallel\"><div class=\"sk-parallel-item\"><div class=\"sk-item\"><div class=\"sk-label-container\"><div class=\"sk-label sk-toggleable\"><label>player_transformations</label></div></div><div class=\"sk-serial\"><div class=\"sk-item sk-dashed-wrapped\"><div class=\"sk-parallel\"><div class=\"sk-parallel-item\"><div class=\"sk-item\"><div class=\"sk-label-container\"><div class=\"sk-label sk-toggleable\"><input class=\"sk-toggleable__control sk-hidden--visually\" id=\"sk-estimator-id-3\" type=\"checkbox\" ><label for=\"sk-estimator-id-3\" class=\"sk-toggleable__label sk-toggleable__label-arrow\">player_demolished</label><div class=\"sk-toggleable__content\"><pre>&lt;sklearn.compose._column_transformer.make_column_selector object at 0x7f6c58271820&gt;</pre></div></div></div><div class=\"sk-serial\"><div class=\"sk-item\"><div class=\"sk-estimator sk-toggleable\"><input class=\"sk-toggleable__control sk-hidden--visually\" id=\"sk-estimator-id-4\" type=\"checkbox\" ><label for=\"sk-estimator-id-4\" class=\"sk-toggleable__label sk-toggleable__label-arrow\">PlayerDemolished</label><div class=\"sk-toggleable__content\"><pre>PlayerDemolished()</pre></div></div></div></div></div></div><div class=\"sk-parallel-item\"><div class=\"sk-item\"><div class=\"sk-label-container\"><div class=\"sk-label sk-toggleable\"><input class=\"sk-toggleable__control sk-hidden--visually\" id=\"sk-estimator-id-5\" type=\"checkbox\" ><label for=\"sk-estimator-id-5\" class=\"sk-toggleable__label sk-toggleable__label-arrow\">player_velocity_pipe</label><div class=\"sk-toggleable__content\"><pre>&lt;sklearn.compose._column_transformer.make_column_selector object at 0x7f6c58271b80&gt;</pre></div></div></div><div class=\"sk-serial\"><div class=\"sk-item\"><div class=\"sk-serial\"><div class=\"sk-item\"><div class=\"sk-estimator sk-toggleable\"><input class=\"sk-toggleable__control sk-hidden--visually\" id=\"sk-estimator-id-6\" type=\"checkbox\" ><label for=\"sk-estimator-id-6\" class=\"sk-toggleable__label sk-toggleable__label-arrow\">SimpleImputer</label><div class=\"sk-toggleable__content\"><pre>SimpleImputer(fill_value=0.0, strategy=&#x27;constant&#x27;)</pre></div></div></div><div class=\"sk-item\"><div class=\"sk-estimator sk-toggleable\"><input class=\"sk-toggleable__control sk-hidden--visually\" id=\"sk-estimator-id-7\" type=\"checkbox\" ><label for=\"sk-estimator-id-7\" class=\"sk-toggleable__label sk-toggleable__label-arrow\">MaxAbsScaler</label><div class=\"sk-toggleable__content\"><pre>MaxAbsScaler()</pre></div></div></div></div></div></div></div></div><div class=\"sk-parallel-item\"><div class=\"sk-item\"><div class=\"sk-label-container\"><div class=\"sk-label sk-toggleable\"><input class=\"sk-toggleable__control sk-hidden--visually\" id=\"sk-estimator-id-8\" type=\"checkbox\" ><label for=\"sk-estimator-id-8\" class=\"sk-toggleable__label sk-toggleable__label-arrow\">player_speed</label><div class=\"sk-toggleable__content\"><pre>&lt;sklearn.compose._column_transformer.make_column_selector object at 0x7f6c58271c40&gt;</pre></div></div></div><div class=\"sk-serial\"><div class=\"sk-item\"><div class=\"sk-serial\"><div class=\"sk-item\"><div class=\"sk-estimator sk-toggleable\"><input class=\"sk-toggleable__control sk-hidden--visually\" id=\"sk-estimator-id-9\" type=\"checkbox\" ><label for=\"sk-estimator-id-9\" class=\"sk-toggleable__label sk-toggleable__label-arrow\">PlayerSpeed</label><div class=\"sk-toggleable__content\"><pre>PlayerSpeed()</pre></div></div></div><div class=\"sk-item\"><div class=\"sk-estimator sk-toggleable\"><input class=\"sk-toggleable__control sk-hidden--visually\" id=\"sk-estimator-id-10\" type=\"checkbox\" ><label for=\"sk-estimator-id-10\" class=\"sk-toggleable__label sk-toggleable__label-arrow\">SimpleImputer</label><div class=\"sk-toggleable__content\"><pre>SimpleImputer(fill_value=0.0, strategy=&#x27;constant&#x27;)</pre></div></div></div><div class=\"sk-item\"><div class=\"sk-estimator sk-toggleable\"><input class=\"sk-toggleable__control sk-hidden--visually\" id=\"sk-estimator-id-11\" type=\"checkbox\" ><label for=\"sk-estimator-id-11\" class=\"sk-toggleable__label sk-toggleable__label-arrow\">StandardScaler</label><div class=\"sk-toggleable__content\"><pre>StandardScaler()</pre></div></div></div></div></div></div></div></div><div class=\"sk-parallel-item\"><div class=\"sk-item\"><div class=\"sk-label-container\"><div class=\"sk-label sk-toggleable\"><input class=\"sk-toggleable__control sk-hidden--visually\" id=\"sk-estimator-id-12\" type=\"checkbox\" ><label for=\"sk-estimator-id-12\" class=\"sk-toggleable__label sk-toggleable__label-arrow\">player_position</label><div class=\"sk-toggleable__content\"><pre>&lt;sklearn.compose._column_transformer.make_column_selector object at 0x7f6c582716d0&gt;</pre></div></div></div><div class=\"sk-serial\"><div class=\"sk-item\"><div class=\"sk-serial\"><div class=\"sk-item\"><div class=\"sk-estimator sk-toggleable\"><input class=\"sk-toggleable__control sk-hidden--visually\" id=\"sk-estimator-id-13\" type=\"checkbox\" ><label for=\"sk-estimator-id-13\" class=\"sk-toggleable__label sk-toggleable__label-arrow\">SimpleImputer</label><div class=\"sk-toggleable__content\"><pre>SimpleImputer(fill_value=0.0, strategy=&#x27;constant&#x27;)</pre></div></div></div><div class=\"sk-item\"><div class=\"sk-estimator sk-toggleable\"><input class=\"sk-toggleable__control sk-hidden--visually\" id=\"sk-estimator-id-14\" type=\"checkbox\" ><label for=\"sk-estimator-id-14\" class=\"sk-toggleable__label sk-toggleable__label-arrow\">MinMaxScaler</label><div class=\"sk-toggleable__content\"><pre>MinMaxScaler()</pre></div></div></div></div></div></div></div></div></div></div></div></div></div><div class=\"sk-parallel-item\"><div class=\"sk-item\"><div class=\"sk-label-container\"><div class=\"sk-label sk-toggleable\"><label>ball_transformations</label></div></div><div class=\"sk-serial\"><div class=\"sk-item sk-dashed-wrapped\"><div class=\"sk-parallel\"><div class=\"sk-parallel-item\"><div class=\"sk-item\"><div class=\"sk-label-container\"><div class=\"sk-label sk-toggleable\"><input class=\"sk-toggleable__control sk-hidden--visually\" id=\"sk-estimator-id-15\" type=\"checkbox\" ><label for=\"sk-estimator-id-15\" class=\"sk-toggleable__label sk-toggleable__label-arrow\">ball_velocity</label><div class=\"sk-toggleable__content\"><pre>&lt;sklearn.compose._column_transformer.make_column_selector object at 0x7f6c582715b0&gt;</pre></div></div></div><div class=\"sk-serial\"><div class=\"sk-item\"><div class=\"sk-serial\"><div class=\"sk-item\"><div class=\"sk-estimator sk-toggleable\"><input class=\"sk-toggleable__control sk-hidden--visually\" id=\"sk-estimator-id-16\" type=\"checkbox\" ><label for=\"sk-estimator-id-16\" class=\"sk-toggleable__label sk-toggleable__label-arrow\">SimpleImputer</label><div class=\"sk-toggleable__content\"><pre>SimpleImputer(fill_value=0.0, strategy=&#x27;constant&#x27;)</pre></div></div></div><div class=\"sk-item\"><div class=\"sk-estimator sk-toggleable\"><input class=\"sk-toggleable__control sk-hidden--visually\" id=\"sk-estimator-id-17\" type=\"checkbox\" ><label for=\"sk-estimator-id-17\" class=\"sk-toggleable__label sk-toggleable__label-arrow\">MaxAbsScaler</label><div class=\"sk-toggleable__content\"><pre>MaxAbsScaler()</pre></div></div></div></div></div></div></div></div><div class=\"sk-parallel-item\"><div class=\"sk-item\"><div class=\"sk-label-container\"><div class=\"sk-label sk-toggleable\"><input class=\"sk-toggleable__control sk-hidden--visually\" id=\"sk-estimator-id-18\" type=\"checkbox\" ><label for=\"sk-estimator-id-18\" class=\"sk-toggleable__label sk-toggleable__label-arrow\">ball_speed</label><div class=\"sk-toggleable__content\"><pre>&lt;sklearn.compose._column_transformer.make_column_selector object at 0x7f6c58271a60&gt;</pre></div></div></div><div class=\"sk-serial\"><div class=\"sk-item\"><div class=\"sk-serial\"><div class=\"sk-item\"><div class=\"sk-estimator sk-toggleable\"><input class=\"sk-toggleable__control sk-hidden--visually\" id=\"sk-estimator-id-19\" type=\"checkbox\" ><label for=\"sk-estimator-id-19\" class=\"sk-toggleable__label sk-toggleable__label-arrow\">BallSpeed</label><div class=\"sk-toggleable__content\"><pre>BallSpeed()</pre></div></div></div><div class=\"sk-item\"><div class=\"sk-estimator sk-toggleable\"><input class=\"sk-toggleable__control sk-hidden--visually\" id=\"sk-estimator-id-20\" type=\"checkbox\" ><label for=\"sk-estimator-id-20\" class=\"sk-toggleable__label sk-toggleable__label-arrow\">StandardScaler</label><div class=\"sk-toggleable__content\"><pre>StandardScaler()</pre></div></div></div></div></div></div></div></div><div class=\"sk-parallel-item\"><div class=\"sk-item\"><div class=\"sk-label-container\"><div class=\"sk-label sk-toggleable\"><input class=\"sk-toggleable__control sk-hidden--visually\" id=\"sk-estimator-id-21\" type=\"checkbox\" ><label for=\"sk-estimator-id-21\" class=\"sk-toggleable__label sk-toggleable__label-arrow\">ball_position</label><div class=\"sk-toggleable__content\"><pre>&lt;sklearn.compose._column_transformer.make_column_selector object at 0x7f6c58271d30&gt;</pre></div></div></div><div class=\"sk-serial\"><div class=\"sk-item\"><div class=\"sk-serial\"><div class=\"sk-item\"><div class=\"sk-estimator sk-toggleable\"><input class=\"sk-toggleable__control sk-hidden--visually\" id=\"sk-estimator-id-22\" type=\"checkbox\" ><label for=\"sk-estimator-id-22\" class=\"sk-toggleable__label sk-toggleable__label-arrow\">SimpleImputer</label><div class=\"sk-toggleable__content\"><pre>SimpleImputer(fill_value=0.0, strategy=&#x27;constant&#x27;)</pre></div></div></div><div class=\"sk-item\"><div class=\"sk-estimator sk-toggleable\"><input class=\"sk-toggleable__control sk-hidden--visually\" id=\"sk-estimator-id-23\" type=\"checkbox\" ><label for=\"sk-estimator-id-23\" class=\"sk-toggleable__label sk-toggleable__label-arrow\">MinMaxScaler</label><div class=\"sk-toggleable__content\"><pre>MinMaxScaler()</pre></div></div></div></div></div></div></div></div><div class=\"sk-parallel-item\"><div class=\"sk-item\"><div class=\"sk-label-container\"><div class=\"sk-label sk-toggleable\"><input class=\"sk-toggleable__control sk-hidden--visually\" id=\"sk-estimator-id-24\" type=\"checkbox\" ><label for=\"sk-estimator-id-24\" class=\"sk-toggleable__label sk-toggleable__label-arrow\">distance_ball_goal_posts</label><div class=\"sk-toggleable__content\"><pre>&lt;sklearn.compose._column_transformer.make_column_selector object at 0x7f6c582711c0&gt;</pre></div></div></div><div class=\"sk-serial\"><div class=\"sk-item\"><div class=\"sk-serial\"><div class=\"sk-item\"><div class=\"sk-estimator sk-toggleable\"><input class=\"sk-toggleable__control sk-hidden--visually\" id=\"sk-estimator-id-25\" type=\"checkbox\" ><label for=\"sk-estimator-id-25\" class=\"sk-toggleable__label sk-toggleable__label-arrow\">DistanceBallGoalPosts</label><div class=\"sk-toggleable__content\"><pre>DistanceBallGoalPosts(posts=[(0.0, -100.0, 6.8), (0.0, 100.0, 6.8)])</pre></div></div></div><div class=\"sk-item\"><div class=\"sk-estimator sk-toggleable\"><input class=\"sk-toggleable__control sk-hidden--visually\" id=\"sk-estimator-id-26\" type=\"checkbox\" ><label for=\"sk-estimator-id-26\" class=\"sk-toggleable__label sk-toggleable__label-arrow\">MinMaxScaler</label><div class=\"sk-toggleable__content\"><pre>MinMaxScaler()</pre></div></div></div></div></div></div></div></div></div></div></div></div></div><div class=\"sk-parallel-item\"><div class=\"sk-item\"><div class=\"sk-label-container\"><div class=\"sk-label sk-toggleable\"><label>booster_transformations</label></div></div><div class=\"sk-serial\"><div class=\"sk-item sk-dashed-wrapped\"><div class=\"sk-parallel\"><div class=\"sk-parallel-item\"><div class=\"sk-item\"><div class=\"sk-label-container\"><div class=\"sk-label sk-toggleable\"><input class=\"sk-toggleable__control sk-hidden--visually\" id=\"sk-estimator-id-27\" type=\"checkbox\" ><label for=\"sk-estimator-id-27\" class=\"sk-toggleable__label sk-toggleable__label-arrow\">booster_timer</label><div class=\"sk-toggleable__content\"><pre>&lt;sklearn.compose._column_transformer.make_column_selector object at 0x7f6c83568b80&gt;</pre></div></div></div><div class=\"sk-serial\"><div class=\"sk-item\"><div class=\"sk-serial\"><div class=\"sk-item\"><div class=\"sk-estimator sk-toggleable\"><input class=\"sk-toggleable__control sk-hidden--visually\" id=\"sk-estimator-id-28\" type=\"checkbox\" ><label for=\"sk-estimator-id-28\" class=\"sk-toggleable__label sk-toggleable__label-arrow\">PositiveBoostTimer</label><div class=\"sk-toggleable__content\"><pre>PositiveBoostTimer()</pre></div></div></div><div class=\"sk-item\"><div class=\"sk-estimator sk-toggleable\"><input class=\"sk-toggleable__control sk-hidden--visually\" id=\"sk-estimator-id-29\" type=\"checkbox\" ><label for=\"sk-estimator-id-29\" class=\"sk-toggleable__label sk-toggleable__label-arrow\">MaxAbsScaler</label><div class=\"sk-toggleable__content\"><pre>MaxAbsScaler()</pre></div></div></div></div></div></div></div></div><div class=\"sk-parallel-item\"><div class=\"sk-item\"><div class=\"sk-label-container\"><div class=\"sk-label sk-toggleable\"><input class=\"sk-toggleable__control sk-hidden--visually\" id=\"sk-estimator-id-30\" type=\"checkbox\" ><label for=\"sk-estimator-id-30\" class=\"sk-toggleable__label sk-toggleable__label-arrow\">player_boosters</label><div class=\"sk-toggleable__content\"><pre>&lt;sklearn.compose._column_transformer.make_column_selector object at 0x7f6c590d4a00&gt;</pre></div></div></div><div class=\"sk-serial\"><div class=\"sk-item\"><div class=\"sk-serial\"><div class=\"sk-item\"><div class=\"sk-estimator sk-toggleable\"><input class=\"sk-toggleable__control sk-hidden--visually\" id=\"sk-estimator-id-31\" type=\"checkbox\" ><label for=\"sk-estimator-id-31\" class=\"sk-toggleable__label sk-toggleable__label-arrow\">SimpleImputer</label><div class=\"sk-toggleable__content\"><pre>SimpleImputer(fill_value=0.0, strategy=&#x27;constant&#x27;)</pre></div></div></div><div class=\"sk-item\"><div class=\"sk-estimator sk-toggleable\"><input class=\"sk-toggleable__control sk-hidden--visually\" id=\"sk-estimator-id-32\" type=\"checkbox\" ><label for=\"sk-estimator-id-32\" class=\"sk-toggleable__label sk-toggleable__label-arrow\">MaxAbsScaler</label><div class=\"sk-toggleable__content\"><pre>MaxAbsScaler()</pre></div></div></div></div></div></div></div></div></div></div></div></div></div><div class=\"sk-parallel-item\"><div class=\"sk-item\"><div class=\"sk-label-container\"><div class=\"sk-label sk-toggleable\"><label>team_transformations</label></div></div><div class=\"sk-serial\"><div class=\"sk-item sk-dashed-wrapped\"><div class=\"sk-parallel\"><div class=\"sk-parallel-item\"><div class=\"sk-item\"><div class=\"sk-label-container\"><div class=\"sk-label sk-toggleable\"><input class=\"sk-toggleable__control sk-hidden--visually\" id=\"sk-estimator-id-33\" type=\"checkbox\" ><label for=\"sk-estimator-id-33\" class=\"sk-toggleable__label sk-toggleable__label-arrow\">team_centroid</label><div class=\"sk-toggleable__content\"><pre>&lt;sklearn.compose._column_transformer.make_column_selector object at 0x7f6c835688e0&gt;</pre></div></div></div><div class=\"sk-serial\"><div class=\"sk-item\"><div class=\"sk-serial\"><div class=\"sk-item\"><div class=\"sk-estimator sk-toggleable\"><input class=\"sk-toggleable__control sk-hidden--visually\" id=\"sk-estimator-id-34\" type=\"checkbox\" ><label for=\"sk-estimator-id-34\" class=\"sk-toggleable__label sk-toggleable__label-arrow\">TeamCentroid</label><div class=\"sk-toggleable__content\"><pre>TeamCentroid()</pre></div></div></div><div class=\"sk-item\"><div class=\"sk-estimator sk-toggleable\"><input class=\"sk-toggleable__control sk-hidden--visually\" id=\"sk-estimator-id-35\" type=\"checkbox\" ><label for=\"sk-estimator-id-35\" class=\"sk-toggleable__label sk-toggleable__label-arrow\">StandardScaler</label><div class=\"sk-toggleable__content\"><pre>StandardScaler()</pre></div></div></div></div></div></div></div></div></div></div></div></div></div></div></div></div></div></div></div>"
      ],
      "text/plain": [
       "Pipeline(steps=[('preprocessor',\n",
       "                 FeatureUnion(transformer_list=[('player_transformations',\n",
       "                                                 ColumnTransformer(transformers=[('player_demolished',\n",
       "                                                                                  PlayerDemolished(),\n",
       "                                                                                  <sklearn.compose._column_transformer.make_column_selector object at 0x7f6c58271820>),\n",
       "                                                                                 ('player_velocity_pipe',\n",
       "                                                                                  Pipeline(steps=[('imputer',\n",
       "                                                                                                   SimpleImputer(fill_value=0.0,\n",
       "                                                                                                                 strategy='constant')),\n",
       "                                                                                                  ('sca...\n",
       "                                                                                                  ('scaler',\n",
       "                                                                                                   MaxAbsScaler())]),\n",
       "                                                                                  <sklearn.compose._column_transformer.make_column_selector object at 0x7f6c590d4a00>)])),\n",
       "                                                ('team_transformations',\n",
       "                                                 ColumnTransformer(transformers=[('team_centroid',\n",
       "                                                                                  Pipeline(steps=[('team_centroid',\n",
       "                                                                                                   TeamCentroid()),\n",
       "                                                                                                  ('scaler',\n",
       "                                                                                                   StandardScaler())]),\n",
       "                                                                                  <sklearn.compose._column_transformer.make_column_selector object at 0x7f6c835688e0>)]))]))])"
      ]
     },
     "execution_count": 36,
     "metadata": {},
     "output_type": "execute_result"
    }
   ],
   "source": [
    "pipe"
   ]
  },
  {
   "cell_type": "markdown",
   "metadata": {},
   "source": [
    "## 7. Dimensionality Reduction"
   ]
  },
  {
   "cell_type": "code",
   "execution_count": 37,
   "metadata": {},
   "outputs": [],
   "source": [
    "from multiprocessing import cpu_count\n",
    "from sklearn.decomposition import PCA\n",
    "from xgboost import XGBClassifier\n",
    "from sklearn.model_selection import GridSearchCV"
   ]
  },
  {
   "cell_type": "code",
   "execution_count": 38,
   "metadata": {},
   "outputs": [],
   "source": [
    "base_model = XGBClassifier(\n",
    "    objective='binary:logistic'\n",
    "    )\n"
   ]
  },
  {
   "cell_type": "code",
   "execution_count": 39,
   "metadata": {},
   "outputs": [],
   "source": [
    "dim_reduction_pipe = Pipeline(\n",
    "    steps=[\n",
    "        (\"preprocessor\", preprocessor),\n",
    "        (\"dim_reducer\", \"passthrough\"),\n",
    "        (\"model\", base_model),\n",
    "        ]\n",
    "    )"
   ]
  },
  {
   "cell_type": "code",
   "execution_count": 40,
   "metadata": {},
   "outputs": [],
   "source": [
    "N_FEATURES_OPTIONS = [10, 20, 30]\n",
    "\n",
    "param_grid = [\n",
    "    {\n",
    "        \"dim_reducer\": [PCA()],\n",
    "        \"dim_reducer__n_components\": N_FEATURES_OPTIONS,\n",
    "    }\n",
    "]\n",
    "\n",
    "reducer_labels = [\"PCA\"]"
   ]
  },
  {
   "cell_type": "code",
   "execution_count": 41,
   "metadata": {},
   "outputs": [],
   "source": [
    "from sklearn.model_selection import GroupKFold\n",
    "import string\n",
    "\n",
    "def create_kf_groups(game_num, n_folds=10):\n",
    "    \"\"\"\n",
    "    Creates groups for the GroupKFold based on the game_num.\n",
    "    We don't want to let train data spill over the validation set.\n",
    "    :param game_num: pandas.core.series.Series\n",
    "    :param n_folds: int (default 10)\n",
    "    :return: pandas.core.series.Series (alpha list)\n",
    "    \"\"\"\n",
    "    count_unique_games = game_num.unique().shape[0]\n",
    "    group_size = count_unique_games // n_folds\n",
    "    \n",
    "    bins = [group_size * i for i in range(n_folds)]\n",
    "    bins += [count_unique_games]\n",
    "    \n",
    "    labels = [letter for letter in string.ascii_letters[:n_folds]]\n",
    "    kf_groups = pd_cut(game_num, bins=bins, labels=labels)\n",
    "    \n",
    "    return kf_groups"
   ]
  },
  {
   "cell_type": "code",
   "execution_count": 47,
   "metadata": {},
   "outputs": [
    {
     "ename": "ValueError",
     "evalue": "Found input variables with inconsistent numbers of samples: [209601, 220654, 209601]",
     "output_type": "error",
     "traceback": [
      "\u001b[0;31m---------------------------------------------------------------------------\u001b[0m",
      "\u001b[0;31mValueError\u001b[0m                                Traceback (most recent call last)",
      "\u001b[1;32m/home/ian/Documents/my-kaggle-tools/competitions/tabular-playground-series-oct-2022/notebooks/0.0-ic-feature-engineering.ipynb Cell 64\u001b[0m in \u001b[0;36m<cell line: 8>\u001b[0;34m()\u001b[0m\n\u001b[1;32m      <a href='vscode-notebook-cell:/home/ian/Documents/my-kaggle-tools/competitions/tabular-playground-series-oct-2022/notebooks/0.0-ic-feature-engineering.ipynb#Y152sZmlsZQ%3D%3D?line=4'>5</a>\u001b[0m groups \u001b[39m=\u001b[39m create_kf_groups(game_num, n_folds\u001b[39m=\u001b[39mn_folds)\n\u001b[1;32m      <a href='vscode-notebook-cell:/home/ian/Documents/my-kaggle-tools/competitions/tabular-playground-series-oct-2022/notebooks/0.0-ic-feature-engineering.ipynb#Y152sZmlsZQ%3D%3D?line=5'>6</a>\u001b[0m gkf \u001b[39m=\u001b[39m GroupKFold(n_splits\u001b[39m=\u001b[39mn_folds)\n\u001b[0;32m----> <a href='vscode-notebook-cell:/home/ian/Documents/my-kaggle-tools/competitions/tabular-playground-series-oct-2022/notebooks/0.0-ic-feature-engineering.ipynb#Y152sZmlsZQ%3D%3D?line=7'>8</a>\u001b[0m \u001b[39mfor\u001b[39;00m fold, (idx_nonan, idx_val) \u001b[39min\u001b[39;00m \u001b[39menumerate\u001b[39m(gkf\u001b[39m.\u001b[39msplit(X_nonan, y_train, groups\u001b[39m=\u001b[39mgroups)):\n\u001b[1;32m      <a href='vscode-notebook-cell:/home/ian/Documents/my-kaggle-tools/competitions/tabular-playground-series-oct-2022/notebooks/0.0-ic-feature-engineering.ipynb#Y152sZmlsZQ%3D%3D?line=8'>9</a>\u001b[0m     X_nonan, y_train \u001b[39m=\u001b[39m X_nonan[idx_nonan, :], y_train[idx_nonan, :]\n\u001b[1;32m     <a href='vscode-notebook-cell:/home/ian/Documents/my-kaggle-tools/competitions/tabular-playground-series-oct-2022/notebooks/0.0-ic-feature-engineering.ipynb#Y152sZmlsZQ%3D%3D?line=9'>10</a>\u001b[0m     X_valid, y_valid \u001b[39m=\u001b[39m X_nonan[idx_val, :], y_train[idx_val, :]\n",
      "File \u001b[0;32m~/miniconda3/envs/kaggle-main/lib/python3.9/site-packages/sklearn/model_selection/_split.py:330\u001b[0m, in \u001b[0;36m_BaseKFold.split\u001b[0;34m(self, X, y, groups)\u001b[0m\n\u001b[1;32m    306\u001b[0m \u001b[39mdef\u001b[39;00m \u001b[39msplit\u001b[39m(\u001b[39mself\u001b[39m, X, y\u001b[39m=\u001b[39m\u001b[39mNone\u001b[39;00m, groups\u001b[39m=\u001b[39m\u001b[39mNone\u001b[39;00m):\n\u001b[1;32m    307\u001b[0m     \u001b[39m\"\"\"Generate indices to split data into training and test set.\u001b[39;00m\n\u001b[1;32m    308\u001b[0m \n\u001b[1;32m    309\u001b[0m \u001b[39m    Parameters\u001b[39;00m\n\u001b[0;32m   (...)\u001b[0m\n\u001b[1;32m    328\u001b[0m \u001b[39m        The testing set indices for that split.\u001b[39;00m\n\u001b[1;32m    329\u001b[0m \u001b[39m    \"\"\"\u001b[39;00m\n\u001b[0;32m--> 330\u001b[0m     X, y, groups \u001b[39m=\u001b[39m indexable(X, y, groups)\n\u001b[1;32m    331\u001b[0m     n_samples \u001b[39m=\u001b[39m _num_samples(X)\n\u001b[1;32m    332\u001b[0m     \u001b[39mif\u001b[39;00m \u001b[39mself\u001b[39m\u001b[39m.\u001b[39mn_splits \u001b[39m>\u001b[39m n_samples:\n",
      "File \u001b[0;32m~/miniconda3/envs/kaggle-main/lib/python3.9/site-packages/sklearn/utils/validation.py:433\u001b[0m, in \u001b[0;36mindexable\u001b[0;34m(*iterables)\u001b[0m\n\u001b[1;32m    414\u001b[0m \u001b[39m\"\"\"Make arrays indexable for cross-validation.\u001b[39;00m\n\u001b[1;32m    415\u001b[0m \n\u001b[1;32m    416\u001b[0m \u001b[39mChecks consistent length, passes through None, and ensures that everything\u001b[39;00m\n\u001b[0;32m   (...)\u001b[0m\n\u001b[1;32m    429\u001b[0m \u001b[39m    sparse matrix, or dataframe) or `None`.\u001b[39;00m\n\u001b[1;32m    430\u001b[0m \u001b[39m\"\"\"\u001b[39;00m\n\u001b[1;32m    432\u001b[0m result \u001b[39m=\u001b[39m [_make_indexable(X) \u001b[39mfor\u001b[39;00m X \u001b[39min\u001b[39;00m iterables]\n\u001b[0;32m--> 433\u001b[0m check_consistent_length(\u001b[39m*\u001b[39;49mresult)\n\u001b[1;32m    434\u001b[0m \u001b[39mreturn\u001b[39;00m result\n",
      "File \u001b[0;32m~/miniconda3/envs/kaggle-main/lib/python3.9/site-packages/sklearn/utils/validation.py:387\u001b[0m, in \u001b[0;36mcheck_consistent_length\u001b[0;34m(*arrays)\u001b[0m\n\u001b[1;32m    385\u001b[0m uniques \u001b[39m=\u001b[39m np\u001b[39m.\u001b[39munique(lengths)\n\u001b[1;32m    386\u001b[0m \u001b[39mif\u001b[39;00m \u001b[39mlen\u001b[39m(uniques) \u001b[39m>\u001b[39m \u001b[39m1\u001b[39m:\n\u001b[0;32m--> 387\u001b[0m     \u001b[39mraise\u001b[39;00m \u001b[39mValueError\u001b[39;00m(\n\u001b[1;32m    388\u001b[0m         \u001b[39m\"\u001b[39m\u001b[39mFound input variables with inconsistent numbers of samples: \u001b[39m\u001b[39m%r\u001b[39;00m\u001b[39m\"\u001b[39m\n\u001b[1;32m    389\u001b[0m         \u001b[39m%\u001b[39m [\u001b[39mint\u001b[39m(l) \u001b[39mfor\u001b[39;00m l \u001b[39min\u001b[39;00m lengths]\n\u001b[1;32m    390\u001b[0m     )\n",
      "\u001b[0;31mValueError\u001b[0m: Found input variables with inconsistent numbers of samples: [209601, 220654, 209601]"
     ]
    }
   ],
   "source": [
    "n_folds = 3\n",
    "X_nonan = X_train.dropna()\n",
    "game_num = X_nonan.index.get_level_values(\"game_num\")\n",
    "\n",
    "groups = create_kf_groups(game_num, n_folds=n_folds)\n",
    "gkf = GroupKFold(n_splits=n_folds)\n",
    "\n",
    "for fold, (idx_nonan, idx_val) in enumerate(gkf.split(X_nonan, y_train, groups=groups)):\n",
    "    X_nonan, y_train = X_nonan[idx_nonan, :], y_train[idx_nonan, :]\n",
    "    X_valid, y_valid = X_nonan[idx_val, :], y_train[idx_val, :]"
   ]
  },
  {
   "cell_type": "code",
   "execution_count": 43,
   "metadata": {},
   "outputs": [],
   "source": [
    "pca_grid_search = GridSearchCV(\n",
    "    estimator=dim_reduction_pipe, \n",
    "    param_grid=param_grid, \n",
    "    n_jobs=cpu_count(), \n",
    "    verbose=1, \n",
    "    scoring=\"neg_log_loss\",\n",
    "    cv=GroupKFold(n_splits=n_folds).split(X_train, y_train, groups=groups),\n",
    "    )"
   ]
  },
  {
   "cell_type": "code",
   "execution_count": 44,
   "metadata": {},
   "outputs": [
    {
     "data": {
      "text/plain": [
       "(220654, 54)"
      ]
     },
     "execution_count": 44,
     "metadata": {},
     "output_type": "execute_result"
    }
   ],
   "source": [
    "X_train.shape"
   ]
  },
  {
   "cell_type": "code",
   "execution_count": 45,
   "metadata": {},
   "outputs": [
    {
     "ename": "ValueError",
     "evalue": "Input contains NaN",
     "output_type": "error",
     "traceback": [
      "\u001b[0;31m---------------------------------------------------------------------------\u001b[0m",
      "\u001b[0;31mValueError\u001b[0m                                Traceback (most recent call last)",
      "\u001b[1;32m/home/ian/Documents/my-kaggle-tools/competitions/tabular-playground-series-oct-2022/notebooks/0.0-ic-feature-engineering.ipynb Cell 67\u001b[0m in \u001b[0;36m<cell line: 1>\u001b[0;34m()\u001b[0m\n\u001b[0;32m----> <a href='vscode-notebook-cell:/home/ian/Documents/my-kaggle-tools/competitions/tabular-playground-series-oct-2022/notebooks/0.0-ic-feature-engineering.ipynb#Y146sZmlsZQ%3D%3D?line=0'>1</a>\u001b[0m pca_grid_search\u001b[39m.\u001b[39;49mfit(X_train, y_train)\n",
      "File \u001b[0;32m~/miniconda3/envs/kaggle-main/lib/python3.9/site-packages/sklearn/model_selection/_search.py:786\u001b[0m, in \u001b[0;36mBaseSearchCV.fit\u001b[0;34m(self, X, y, groups, **fit_params)\u001b[0m\n\u001b[1;32m    783\u001b[0m X, y, groups \u001b[39m=\u001b[39m indexable(X, y, groups)\n\u001b[1;32m    784\u001b[0m fit_params \u001b[39m=\u001b[39m _check_fit_params(X, fit_params)\n\u001b[0;32m--> 786\u001b[0m cv_orig \u001b[39m=\u001b[39m check_cv(\u001b[39mself\u001b[39;49m\u001b[39m.\u001b[39;49mcv, y, classifier\u001b[39m=\u001b[39;49mis_classifier(estimator))\n\u001b[1;32m    787\u001b[0m n_splits \u001b[39m=\u001b[39m cv_orig\u001b[39m.\u001b[39mget_n_splits(X, y, groups)\n\u001b[1;32m    789\u001b[0m base_estimator \u001b[39m=\u001b[39m clone(\u001b[39mself\u001b[39m\u001b[39m.\u001b[39mestimator)\n",
      "File \u001b[0;32m~/miniconda3/envs/kaggle-main/lib/python3.9/site-packages/sklearn/model_selection/_split.py:2344\u001b[0m, in \u001b[0;36mcheck_cv\u001b[0;34m(cv, y, classifier)\u001b[0m\n\u001b[1;32m   2338\u001b[0m     \u001b[39mif\u001b[39;00m \u001b[39mnot\u001b[39;00m \u001b[39misinstance\u001b[39m(cv, Iterable) \u001b[39mor\u001b[39;00m \u001b[39misinstance\u001b[39m(cv, \u001b[39mstr\u001b[39m):\n\u001b[1;32m   2339\u001b[0m         \u001b[39mraise\u001b[39;00m \u001b[39mValueError\u001b[39;00m(\n\u001b[1;32m   2340\u001b[0m             \u001b[39m\"\u001b[39m\u001b[39mExpected cv as an integer, cross-validation \u001b[39m\u001b[39m\"\u001b[39m\n\u001b[1;32m   2341\u001b[0m             \u001b[39m\"\u001b[39m\u001b[39mobject (from sklearn.model_selection) \u001b[39m\u001b[39m\"\u001b[39m\n\u001b[1;32m   2342\u001b[0m             \u001b[39m\"\u001b[39m\u001b[39mor an iterable. Got \u001b[39m\u001b[39m%s\u001b[39;00m\u001b[39m.\u001b[39m\u001b[39m\"\u001b[39m \u001b[39m%\u001b[39m cv\n\u001b[1;32m   2343\u001b[0m         )\n\u001b[0;32m-> 2344\u001b[0m     \u001b[39mreturn\u001b[39;00m _CVIterableWrapper(cv)\n\u001b[1;32m   2346\u001b[0m \u001b[39mreturn\u001b[39;00m cv\n",
      "File \u001b[0;32m~/miniconda3/envs/kaggle-main/lib/python3.9/site-packages/sklearn/model_selection/_split.py:2241\u001b[0m, in \u001b[0;36m_CVIterableWrapper.__init__\u001b[0;34m(self, cv)\u001b[0m\n\u001b[1;32m   2240\u001b[0m \u001b[39mdef\u001b[39;00m \u001b[39m__init__\u001b[39m(\u001b[39mself\u001b[39m, cv):\n\u001b[0;32m-> 2241\u001b[0m     \u001b[39mself\u001b[39m\u001b[39m.\u001b[39mcv \u001b[39m=\u001b[39m \u001b[39mlist\u001b[39;49m(cv)\n",
      "File \u001b[0;32m~/miniconda3/envs/kaggle-main/lib/python3.9/site-packages/sklearn/model_selection/_split.py:340\u001b[0m, in \u001b[0;36m_BaseKFold.split\u001b[0;34m(self, X, y, groups)\u001b[0m\n\u001b[1;32m    332\u001b[0m \u001b[39mif\u001b[39;00m \u001b[39mself\u001b[39m\u001b[39m.\u001b[39mn_splits \u001b[39m>\u001b[39m n_samples:\n\u001b[1;32m    333\u001b[0m     \u001b[39mraise\u001b[39;00m \u001b[39mValueError\u001b[39;00m(\n\u001b[1;32m    334\u001b[0m         (\n\u001b[1;32m    335\u001b[0m             \u001b[39m\"\u001b[39m\u001b[39mCannot have number of splits n_splits=\u001b[39m\u001b[39m{0}\u001b[39;00m\u001b[39m greater\u001b[39m\u001b[39m\"\u001b[39m\n\u001b[1;32m    336\u001b[0m             \u001b[39m\"\u001b[39m\u001b[39m than the number of samples: n_samples=\u001b[39m\u001b[39m{1}\u001b[39;00m\u001b[39m.\u001b[39m\u001b[39m\"\u001b[39m\n\u001b[1;32m    337\u001b[0m         )\u001b[39m.\u001b[39mformat(\u001b[39mself\u001b[39m\u001b[39m.\u001b[39mn_splits, n_samples)\n\u001b[1;32m    338\u001b[0m     )\n\u001b[0;32m--> 340\u001b[0m \u001b[39mfor\u001b[39;00m train, test \u001b[39min\u001b[39;00m \u001b[39msuper\u001b[39m()\u001b[39m.\u001b[39msplit(X, y, groups):\n\u001b[1;32m    341\u001b[0m     \u001b[39myield\u001b[39;00m train, test\n",
      "File \u001b[0;32m~/miniconda3/envs/kaggle-main/lib/python3.9/site-packages/sklearn/model_selection/_split.py:86\u001b[0m, in \u001b[0;36mBaseCrossValidator.split\u001b[0;34m(self, X, y, groups)\u001b[0m\n\u001b[1;32m     84\u001b[0m X, y, groups \u001b[39m=\u001b[39m indexable(X, y, groups)\n\u001b[1;32m     85\u001b[0m indices \u001b[39m=\u001b[39m np\u001b[39m.\u001b[39marange(_num_samples(X))\n\u001b[0;32m---> 86\u001b[0m \u001b[39mfor\u001b[39;00m test_index \u001b[39min\u001b[39;00m \u001b[39mself\u001b[39m\u001b[39m.\u001b[39m_iter_test_masks(X, y, groups):\n\u001b[1;32m     87\u001b[0m     train_index \u001b[39m=\u001b[39m indices[np\u001b[39m.\u001b[39mlogical_not(test_index)]\n\u001b[1;32m     88\u001b[0m     test_index \u001b[39m=\u001b[39m indices[test_index]\n",
      "File \u001b[0;32m~/miniconda3/envs/kaggle-main/lib/python3.9/site-packages/sklearn/model_selection/_split.py:98\u001b[0m, in \u001b[0;36mBaseCrossValidator._iter_test_masks\u001b[0;34m(self, X, y, groups)\u001b[0m\n\u001b[1;32m     93\u001b[0m \u001b[39mdef\u001b[39;00m \u001b[39m_iter_test_masks\u001b[39m(\u001b[39mself\u001b[39m, X\u001b[39m=\u001b[39m\u001b[39mNone\u001b[39;00m, y\u001b[39m=\u001b[39m\u001b[39mNone\u001b[39;00m, groups\u001b[39m=\u001b[39m\u001b[39mNone\u001b[39;00m):\n\u001b[1;32m     94\u001b[0m     \u001b[39m\"\"\"Generates boolean masks corresponding to test sets.\u001b[39;00m\n\u001b[1;32m     95\u001b[0m \n\u001b[1;32m     96\u001b[0m \u001b[39m    By default, delegates to _iter_test_indices(X, y, groups)\u001b[39;00m\n\u001b[1;32m     97\u001b[0m \u001b[39m    \"\"\"\u001b[39;00m\n\u001b[0;32m---> 98\u001b[0m     \u001b[39mfor\u001b[39;00m test_index \u001b[39min\u001b[39;00m \u001b[39mself\u001b[39m\u001b[39m.\u001b[39m_iter_test_indices(X, y, groups):\n\u001b[1;32m     99\u001b[0m         test_mask \u001b[39m=\u001b[39m np\u001b[39m.\u001b[39mzeros(_num_samples(X), dtype\u001b[39m=\u001b[39m\u001b[39mbool\u001b[39m)\n\u001b[1;32m    100\u001b[0m         test_mask[test_index] \u001b[39m=\u001b[39m \u001b[39mTrue\u001b[39;00m\n",
      "File \u001b[0;32m~/miniconda3/envs/kaggle-main/lib/python3.9/site-packages/sklearn/model_selection/_split.py:519\u001b[0m, in \u001b[0;36mGroupKFold._iter_test_indices\u001b[0;34m(self, X, y, groups)\u001b[0m\n\u001b[1;32m    517\u001b[0m \u001b[39mif\u001b[39;00m groups \u001b[39mis\u001b[39;00m \u001b[39mNone\u001b[39;00m:\n\u001b[1;32m    518\u001b[0m     \u001b[39mraise\u001b[39;00m \u001b[39mValueError\u001b[39;00m(\u001b[39m\"\u001b[39m\u001b[39mThe \u001b[39m\u001b[39m'\u001b[39m\u001b[39mgroups\u001b[39m\u001b[39m'\u001b[39m\u001b[39m parameter should not be None.\u001b[39m\u001b[39m\"\u001b[39m)\n\u001b[0;32m--> 519\u001b[0m groups \u001b[39m=\u001b[39m check_array(groups, input_name\u001b[39m=\u001b[39;49m\u001b[39m\"\u001b[39;49m\u001b[39mgroups\u001b[39;49m\u001b[39m\"\u001b[39;49m, ensure_2d\u001b[39m=\u001b[39;49m\u001b[39mFalse\u001b[39;49;00m, dtype\u001b[39m=\u001b[39;49m\u001b[39mNone\u001b[39;49;00m)\n\u001b[1;32m    521\u001b[0m unique_groups, groups \u001b[39m=\u001b[39m np\u001b[39m.\u001b[39munique(groups, return_inverse\u001b[39m=\u001b[39m\u001b[39mTrue\u001b[39;00m)\n\u001b[1;32m    522\u001b[0m n_groups \u001b[39m=\u001b[39m \u001b[39mlen\u001b[39m(unique_groups)\n",
      "File \u001b[0;32m~/miniconda3/envs/kaggle-main/lib/python3.9/site-packages/sklearn/utils/validation.py:899\u001b[0m, in \u001b[0;36mcheck_array\u001b[0;34m(array, accept_sparse, accept_large_sparse, dtype, order, copy, force_all_finite, ensure_2d, allow_nd, ensure_min_samples, ensure_min_features, estimator, input_name)\u001b[0m\n\u001b[1;32m    893\u001b[0m         \u001b[39mraise\u001b[39;00m \u001b[39mValueError\u001b[39;00m(\n\u001b[1;32m    894\u001b[0m             \u001b[39m\"\u001b[39m\u001b[39mFound array with dim \u001b[39m\u001b[39m%d\u001b[39;00m\u001b[39m. \u001b[39m\u001b[39m%s\u001b[39;00m\u001b[39m expected <= 2.\u001b[39m\u001b[39m\"\u001b[39m\n\u001b[1;32m    895\u001b[0m             \u001b[39m%\u001b[39m (array\u001b[39m.\u001b[39mndim, estimator_name)\n\u001b[1;32m    896\u001b[0m         )\n\u001b[1;32m    898\u001b[0m     \u001b[39mif\u001b[39;00m force_all_finite:\n\u001b[0;32m--> 899\u001b[0m         _assert_all_finite(\n\u001b[1;32m    900\u001b[0m             array,\n\u001b[1;32m    901\u001b[0m             input_name\u001b[39m=\u001b[39;49minput_name,\n\u001b[1;32m    902\u001b[0m             estimator_name\u001b[39m=\u001b[39;49mestimator_name,\n\u001b[1;32m    903\u001b[0m             allow_nan\u001b[39m=\u001b[39;49mforce_all_finite \u001b[39m==\u001b[39;49m \u001b[39m\"\u001b[39;49m\u001b[39mallow-nan\u001b[39;49m\u001b[39m\"\u001b[39;49m,\n\u001b[1;32m    904\u001b[0m         )\n\u001b[1;32m    906\u001b[0m \u001b[39mif\u001b[39;00m ensure_min_samples \u001b[39m>\u001b[39m \u001b[39m0\u001b[39m:\n\u001b[1;32m    907\u001b[0m     n_samples \u001b[39m=\u001b[39m _num_samples(array)\n",
      "File \u001b[0;32m~/miniconda3/envs/kaggle-main/lib/python3.9/site-packages/sklearn/utils/validation.py:151\u001b[0m, in \u001b[0;36m_assert_all_finite\u001b[0;34m(X, allow_nan, msg_dtype, estimator_name, input_name)\u001b[0m\n\u001b[1;32m    149\u001b[0m \u001b[39melif\u001b[39;00m X\u001b[39m.\u001b[39mdtype \u001b[39m==\u001b[39m np\u001b[39m.\u001b[39mdtype(\u001b[39m\"\u001b[39m\u001b[39mobject\u001b[39m\u001b[39m\"\u001b[39m) \u001b[39mand\u001b[39;00m \u001b[39mnot\u001b[39;00m allow_nan:\n\u001b[1;32m    150\u001b[0m     \u001b[39mif\u001b[39;00m _object_dtype_isnan(X)\u001b[39m.\u001b[39many():\n\u001b[0;32m--> 151\u001b[0m         \u001b[39mraise\u001b[39;00m \u001b[39mValueError\u001b[39;00m(\u001b[39m\"\u001b[39m\u001b[39mInput contains NaN\u001b[39m\u001b[39m\"\u001b[39m)\n",
      "\u001b[0;31mValueError\u001b[0m: Input contains NaN"
     ]
    }
   ],
   "source": [
    "pca_grid_search.fit(X_train, y_train)"
   ]
  },
  {
   "cell_type": "code",
   "execution_count": null,
   "metadata": {},
   "outputs": [],
   "source": [
    "# pipe.fit(X = X_train, y = y_train)\n",
    "# pipe.n_features_in_\n",
    "# len(pipe.get_feature_names_out())\n",
    "# pipe.get_feature_names_out()"
   ]
  },
  {
   "cell_type": "markdown",
   "metadata": {},
   "source": [
    "## 8. Parameter Tuning"
   ]
  },
  {
   "cell_type": "code",
   "execution_count": null,
   "metadata": {},
   "outputs": [],
   "source": [
    "# https://towardsdatascience.com/xgboost-fine-tune-and-optimize-your-model-23d996fab663"
   ]
  },
  {
   "cell_type": "code",
   "execution_count": null,
   "metadata": {},
   "outputs": [],
   "source": [
    "pipe.transform(X_test).shape"
   ]
  },
  {
   "cell_type": "code",
   "execution_count": null,
   "metadata": {},
   "outputs": [],
   "source": []
  }
 ],
 "metadata": {
  "kernelspec": {
   "display_name": "Python 3.9.13 ('kaggle-main')",
   "language": "python",
   "name": "python3"
  },
  "language_info": {
   "codemirror_mode": {
    "name": "ipython",
    "version": 3
   },
   "file_extension": ".py",
   "mimetype": "text/x-python",
   "name": "python",
   "nbconvert_exporter": "python",
   "pygments_lexer": "ipython3",
   "version": "3.9.13"
  },
  "orig_nbformat": 4,
  "vscode": {
   "interpreter": {
    "hash": "0fd4831d96ed66bca442039d176b10bc5346e2d2477946333cb9e6bec5a9b6e2"
   }
  }
 },
 "nbformat": 4,
 "nbformat_minor": 2
}
