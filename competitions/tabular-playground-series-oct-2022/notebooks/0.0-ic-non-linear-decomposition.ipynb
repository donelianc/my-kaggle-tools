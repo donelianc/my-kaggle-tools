{
 "cells": [
  {
   "cell_type": "markdown",
   "metadata": {},
   "source": [
    "## 0. Libraries and Personal Tools"
   ]
  },
  {
   "cell_type": "code",
   "execution_count": null,
   "metadata": {},
   "outputs": [],
   "source": [
    "import sys\n",
    "\n",
    "from os.path import abspath\n",
    "from yaml import safe_load\n",
    "\n",
    "from pandas import read_feather, read_csv\n",
    "from gc import collect\n",
    "from sklearn.model_selection import GroupShuffleSplit"
   ]
  },
  {
   "cell_type": "code",
   "execution_count": null,
   "metadata": {},
   "outputs": [],
   "source": [
    "import matplotlib.pyplot as plt\n",
    "from matplotlib import rcParams\n",
    "\n",
    "# Set the default figure size and theme to display good looking matplotlib plots.\n",
    "rcParams[\"figure.figsize\"] = (10, 6)\n",
    "plt.style.use(\"fivethirtyeight\")"
   ]
  },
  {
   "cell_type": "code",
   "execution_count": null,
   "metadata": {},
   "outputs": [],
   "source": [
    "# add absolute path from root to sys.path to use custom modules\n",
    "sys.path.insert(0, abspath('..'))"
   ]
  },
  {
   "cell_type": "code",
   "execution_count": null,
   "metadata": {},
   "outputs": [],
   "source": [
    "from src.features.build_features import *\n",
    "from src.utils import *"
   ]
  },
  {
   "cell_type": "code",
   "execution_count": null,
   "metadata": {},
   "outputs": [],
   "source": [
    "model_config = safe_load(open(\"../models/config.yaml\", \"r\"))\n",
    "model_config"
   ]
  },
  {
   "cell_type": "markdown",
   "metadata": {},
   "source": [
    "## 1. Get Train Data"
   ]
  },
  {
   "cell_type": "code",
   "execution_count": null,
   "metadata": {},
   "outputs": [],
   "source": [
    "df = read_feather(\"../\" + model_config[\"paths\"][\"data\"])\n",
    "df.set_index(model_config[\"data\"][\"index\"], inplace=True)"
   ]
  },
  {
   "cell_type": "markdown",
   "metadata": {},
   "source": [
    "## 2. Get Features and Targets"
   ]
  },
  {
   "cell_type": "code",
   "execution_count": null,
   "metadata": {},
   "outputs": [],
   "source": [
    "model_features = read_csv(\"../\" + model_config[\"paths\"][\"dtypes\"])\n",
    "FEATURES = [feature for feature in model_features.column.tolist() if feature != \"id\"]\n",
    "\n",
    "TEAM = model_config[\"model\"][\"team\"]\n",
    "TARGET = f\"team_{TEAM}_scoring_within_10sec\""
   ]
  },
  {
   "cell_type": "markdown",
   "metadata": {},
   "source": [
    "## 5. Pipeline Building"
   ]
  },
  {
   "cell_type": "code",
   "execution_count": null,
   "metadata": {},
   "outputs": [],
   "source": [
    "# Kudos to: https://towardsdatascience.com/pipeline-columntransformer-and-featureunion-explained-f5491f815f\n",
    "# Kudos to: https://towardsdatascience.com/4-scikit-learn-tools-every-data-scientist-should-use-4ee942958d9e\n",
    "\n",
    "from multiprocessing import cpu_count\n",
    "\n",
    "from sklearn.pipeline import Pipeline, FeatureUnion\n",
    "from sklearn.compose import ColumnTransformer\n",
    "from sklearn.compose import make_column_selector as selector\n",
    "\n",
    "from sklearn.impute import SimpleImputer\n",
    "from sklearn.preprocessing import FunctionTransformer\n",
    "from sklearn.preprocessing import MinMaxScaler, MaxAbsScaler, StandardScaler"
   ]
  },
  {
   "cell_type": "markdown",
   "metadata": {},
   "source": [
    "### 5.1. Player Pipelines"
   ]
  },
  {
   "cell_type": "code",
   "execution_count": null,
   "metadata": {},
   "outputs": [],
   "source": [
    "player_position_pipe = Pipeline(\n",
    "    steps=[\n",
    "        (\"imputer\", SimpleImputer(strategy=\"constant\", fill_value=0.0)),\n",
    "        (\"scaler\", MinMaxScaler()),\n",
    "        ]\n",
    ")\n",
    "\n",
    "player_velocity_pipe = Pipeline(\n",
    "    steps=[\n",
    "        (\"imputer\", SimpleImputer(strategy=\"constant\", fill_value=0.0)),\n",
    "        (\"scaler\", MaxAbsScaler()),\n",
    "        ]\n",
    ")\n",
    "\n",
    "player_speed_pipe = Pipeline(\n",
    "    steps=[\n",
    "        (\"speed\", PlayerSpeed()),\n",
    "        (\"imputer\", SimpleImputer(strategy=\"constant\", fill_value=0.0)),\n",
    "        (\"scaler\", StandardScaler()),\n",
    "        ]\n",
    ")"
   ]
  },
  {
   "cell_type": "code",
   "execution_count": null,
   "metadata": {},
   "outputs": [],
   "source": [
    "player_transformations = ColumnTransformer(\n",
    "    transformers=[\n",
    "        (\"player_demolished\", PlayerDemolished(), selector(\"p[0-5]\")),\n",
    "        (\"player_velocity_pipe\",  player_velocity_pipe, selector(\"p[0-5]_vel_\")),\n",
    "        (\"player_speed\", player_speed_pipe, selector(pattern=\"p[0-5]_vel_\")),\n",
    "        (\"player_position\", player_position_pipe, selector(\"p[0-5]_pos_\")),\n",
    "        ],\n",
    "    )\n"
   ]
  },
  {
   "cell_type": "markdown",
   "metadata": {},
   "source": [
    "### 5.2. Ball Pipelines"
   ]
  },
  {
   "cell_type": "code",
   "execution_count": null,
   "metadata": {},
   "outputs": [],
   "source": [
    "ball_velocity_pipe = Pipeline(\n",
    "    steps=[\n",
    "        (\"imputer\", SimpleImputer(strategy=\"constant\", fill_value=0.0)),\n",
    "        (\"scaler\", MaxAbsScaler()),\n",
    "        ]\n",
    ")\n",
    "\n",
    "ball_speed_pipe = Pipeline(\n",
    "    steps=[\n",
    "        (\"speed\", BallSpeed()),\n",
    "        (\"scaler\", StandardScaler()),\n",
    "        ]\n",
    ")\n",
    "\n",
    "ball_position_pipe = Pipeline(\n",
    "    steps=[\n",
    "        (\"imputer\", SimpleImputer(strategy=\"constant\", fill_value=0.0)),\n",
    "        (\"scaler\", MinMaxScaler()),\n",
    "        ]\n",
    ")\n",
    "\n",
    "distance_ball_goal_posts_pipe = Pipeline(\n",
    "    steps=[\n",
    "        (\"distance\", DistanceBallGoalPosts(posts=[model_config[\"data\"][\"goal_post1\"], model_config[\"data\"][\"goal_post2\"]])),\n",
    "        (\"scaler\", MinMaxScaler()),\n",
    "        ]\n",
    ")"
   ]
  },
  {
   "cell_type": "code",
   "execution_count": null,
   "metadata": {},
   "outputs": [],
   "source": [
    "ball_transformations = ColumnTransformer(\n",
    "    transformers=[\n",
    "        (\"ball_velocity\", ball_velocity_pipe, selector(\"ball_vel_\")),\n",
    "        (\"ball_speed\", ball_speed_pipe, selector(\"ball_vel_\")),\n",
    "        (\"ball_position\", ball_position_pipe, selector(\"ball_pos_\")),\n",
    "        (\"distance_ball_goal_posts\", distance_ball_goal_posts_pipe, selector(\"ball_pos_\")),\n",
    "        ],\n",
    "    )\n"
   ]
  },
  {
   "cell_type": "markdown",
   "metadata": {},
   "source": [
    "### 5.3. Booster Pipelines"
   ]
  },
  {
   "cell_type": "code",
   "execution_count": null,
   "metadata": {},
   "outputs": [],
   "source": [
    "booster_timer_pipe = Pipeline(\n",
    "    steps=[\n",
    "        (\"timer\", FunctionTransformer(lambda x: abs(x), feature_names_out=\"one-to-one\")),\n",
    "        (\"scaler\", MaxAbsScaler()),\n",
    "        ]\n",
    ")\n",
    "\n",
    "player_boosters_pipe = Pipeline(\n",
    "    steps=[\n",
    "        (\"imputer\", SimpleImputer(strategy=\"constant\", fill_value=0.0)),\n",
    "        (\"scaler\", MaxAbsScaler()),\n",
    "        ]\n",
    ")\n",
    "        "
   ]
  },
  {
   "cell_type": "code",
   "execution_count": null,
   "metadata": {},
   "outputs": [],
   "source": [
    "booster_transformations = ColumnTransformer(\n",
    "    transformers=[\n",
    "        (\"booster_timer\", booster_timer_pipe, selector(pattern=\"boost[0-5]_timer\")),\n",
    "        (\"player_boosters\", player_boosters_pipe, selector(pattern=\"p[0-5]_boost\")),\n",
    "        ],\n",
    "    )"
   ]
  },
  {
   "cell_type": "markdown",
   "metadata": {},
   "source": [
    "### 5.4. Team Pipelines"
   ]
  },
  {
   "cell_type": "code",
   "execution_count": null,
   "metadata": {},
   "outputs": [],
   "source": [
    "team_centroid_pipe = Pipeline(\n",
    "    steps=[\n",
    "        (\"team_centroid\", TeamCentroid()),\n",
    "        (\"scaler\", StandardScaler()),\n",
    "        ]\n",
    ")"
   ]
  },
  {
   "cell_type": "code",
   "execution_count": null,
   "metadata": {},
   "outputs": [],
   "source": [
    "team_transformations = ColumnTransformer(\n",
    "    transformers=[\n",
    "        (\"team_centroid\", team_centroid_pipe, selector(\"p[0-5]_pos_\")),\n",
    "        ],\n",
    "    )   "
   ]
  },
  {
   "cell_type": "markdown",
   "metadata": {},
   "source": [
    "### 5.5. Main Pipeline"
   ]
  },
  {
   "cell_type": "code",
   "execution_count": null,
   "metadata": {},
   "outputs": [],
   "source": [
    "preprocessor = FeatureUnion(\n",
    "    transformer_list=[\n",
    "        (\"player_transformations\", player_transformations),\n",
    "        (\"ball_transformations\", ball_transformations),\n",
    "        (\"booster_transformations\", booster_transformations),\n",
    "        (\"team_transformations\", team_transformations),\n",
    "        ],\n",
    "    )"
   ]
  },
  {
   "cell_type": "markdown",
   "metadata": {},
   "source": [
    "## 6. Dimensionality Reduction"
   ]
  },
  {
   "cell_type": "code",
   "execution_count": null,
   "metadata": {},
   "outputs": [],
   "source": [
    "from sklearn.feature_selection import VarianceThreshold\n",
    "from sklearn.decomposition import PCA, IncrementalPCA, KernelPCA\n",
    "from sklearn.model_selection import GridSearchCV, GroupKFold\n",
    "from xgboost import XGBClassifier"
   ]
  },
  {
   "cell_type": "code",
   "execution_count": null,
   "metadata": {},
   "outputs": [],
   "source": [
    "base_model = XGBClassifier(objective='binary:logistic')\n"
   ]
  },
  {
   "cell_type": "code",
   "execution_count": null,
   "metadata": {},
   "outputs": [],
   "source": [
    "main_pipe = Pipeline(\n",
    "    steps=[\n",
    "        (\"preprocessor\", preprocessor),\n",
    "        (\"variance_threshold\", VarianceThreshold()),\n",
    "        (\"dim_reducer\", \"passthrough\"),\n",
    "        (\"model\", base_model),\n",
    "        ]\n",
    "    )"
   ]
  },
  {
   "cell_type": "code",
   "execution_count": null,
   "metadata": {},
   "outputs": [],
   "source": [
    "from sklearn.model_selection import GroupShuffleSplit\n",
    "\n",
    "gsp = GroupShuffleSplit(n_splits=2, test_size=0.3, random_state=777)\n",
    "train_index, test_index = next(gsp.split(df, groups=df.index.get_level_values(\"game_num\")))\n",
    "\n",
    "X_train = df[FEATURES].iloc[train_index]\n",
    "y_train = df[TARGET].iloc[train_index]\n",
    "\n",
    "X_test = df[FEATURES].iloc[test_index]\n",
    "y_test = df[TARGET].iloc[test_index]"
   ]
  },
  {
   "cell_type": "code",
   "execution_count": null,
   "metadata": {},
   "outputs": [],
   "source": [
    "del df"
   ]
  },
  {
   "cell_type": "code",
   "execution_count": null,
   "metadata": {},
   "outputs": [],
   "source": [
    "# df_sample = X_train.sample(frac=0.1, random_state=777)\n",
    "# X_trans = DataFrame(\n",
    "#     data=main_pipe.fit_transform(df_sample[FEATURES], df_sample[TARGET])\n",
    "#     )\n",
    "\n",
    "#TODO: Fix get_feature_names_out with custom transformers\n",
    "# main_pipe.get_feature_names_out()"
   ]
  },
  {
   "cell_type": "code",
   "execution_count": null,
   "metadata": {},
   "outputs": [],
   "source": [
    "param_grid = [\n",
    "    {\n",
    "        \"dim_reducer\": [PCA(svd_solver = 'full')],\n",
    "        \"dim_reducer__n_components\": [0.80, 0.85, 0.90, 0.95],\n",
    "\n",
    "    },\n",
    "    {\n",
    "        \"dim_reducer\": [PCA(svd_solver = 'auto', random_state=777)],\n",
    "        \"dim_reducer__n_components\": [26, 28, 30, 32, 34],\n",
    "\n",
    "    },\n",
    "    {\n",
    "        \"dim_reducer\": [IncrementalPCA()],\n",
    "        \"dim_reducer__n_components\": [20, 30, 40, 50],\n",
    "        \"dim_reducer__batch_size\": [1000, 2000, 3000],\n",
    "    },\n",
    "    {\n",
    "        \"dim_reducer\": [KernelPCA(random_state=777, n_jobs=cpu_count())],\n",
    "        \"dim_reducer__n_components\": [20, 30, 40, 50],\n",
    "        \"dim_reducer__kernel\": [\"linear\", \"poly\", \"rbf\", \"sigmoid\", \"cosine\", \"precomputed\"],\n",
    "        \"dim_reducer__gamma\": [0.05, 0.1, 0.15, 0.2],\n",
    "        \"dim_reducer__degree\": [2, 3, 4],\n",
    "        \n",
    "    },\n",
    "]\n",
    "\n",
    "reducer_labels = [\"Full_PCA\", \"Auto_PCA\", \"IncrementalPCA\", \"KernelPCA\"]"
   ]
  },
  {
   "cell_type": "code",
   "execution_count": null,
   "metadata": {},
   "outputs": [],
   "source": [
    "n_folds = 5\n",
    "\n",
    "game_num = X_train.index.get_level_values(\"game_num\")\n",
    "groups = create_kf_groups(game_num, n_folds=n_folds)\n",
    "\n",
    "gkf = GroupKFold(n_splits=n_folds)"
   ]
  },
  {
   "cell_type": "code",
   "execution_count": null,
   "metadata": {},
   "outputs": [],
   "source": [
    "groups.value_counts()"
   ]
  },
  {
   "cell_type": "code",
   "execution_count": null,
   "metadata": {},
   "outputs": [],
   "source": [
    "pca_grid_search = GridSearchCV(\n",
    "    estimator=main_pipe, \n",
    "    param_grid=param_grid, \n",
    "    n_jobs=cpu_count(), \n",
    "    verbose=2, \n",
    "    scoring=\"neg_log_loss\",\n",
    "    cv=GroupKFold(n_splits=n_folds).split(X_train, y_train, groups=groups),\n",
    "    )"
   ]
  },
  {
   "cell_type": "code",
   "execution_count": null,
   "metadata": {},
   "outputs": [],
   "source": [
    "collect()"
   ]
  },
  {
   "cell_type": "code",
   "execution_count": null,
   "metadata": {},
   "outputs": [],
   "source": [
    "pca_grid_search.fit(X_train, y_train, verbose=2)"
   ]
  },
  {
   "cell_type": "code",
   "execution_count": null,
   "metadata": {},
   "outputs": [],
   "source": [
    "pca_grid_search.best_params_"
   ]
  },
  {
   "cell_type": "code",
   "execution_count": null,
   "metadata": {},
   "outputs": [],
   "source": [
    "pca_grid_search.best_score_"
   ]
  },
  {
   "cell_type": "code",
   "execution_count": null,
   "metadata": {},
   "outputs": [],
   "source": [
    "pca_grid_search.cv_results_.keys()"
   ]
  },
  {
   "cell_type": "code",
   "execution_count": null,
   "metadata": {},
   "outputs": [],
   "source": [
    "var = pca_grid_search.best_estimator_[\"dim_reducer\"].explained_variance_ratio_\n",
    "var_explained = var.cumsum()"
   ]
  },
  {
   "cell_type": "code",
   "execution_count": null,
   "metadata": {},
   "outputs": [],
   "source": [
    "plt.figure()\n",
    "\n",
    "plt.plot(range(1, len(var_explained)+1), var, label=\"per Component\", marker=\"o\", markersize=7)\n",
    "plt.plot(range(1, len(var_explained)+1), var_explained, label=\"Cumulated\", marker=\"o\", markersize=7)\n",
    "\n",
    "plt.xlabel(\"Number of Components\")\n",
    "plt.ylabel(\"Variance Explained\")\n",
    "plt.ylim(-0.1, 1.1)\n",
    "\n",
    "plt.title(\"Principal Component Analysis\")\n",
    "plt.legend()\n",
    "plt.show()"
   ]
  },
  {
   "cell_type": "code",
   "execution_count": null,
   "metadata": {},
   "outputs": [],
   "source": [
    "mean_scores = array(pca_grid_search.cv_results_[\"mean_test_score\"])\n",
    "\n",
    "plt.figure()\n",
    "plt.title(\"PCA Grid Search\")\n",
    "plt.bar([str(label) for label in N_FEATURES_OPTIONS], -mean_scores)\n",
    "plt.xlabel(\"n_components\")\n",
    "plt.ylabel(\"Negative Log Loss\")\n",
    "plt.ylim(0.20, 0.22)\n",
    "plt.show()"
   ]
  },
  {
   "cell_type": "code",
   "execution_count": null,
   "metadata": {},
   "outputs": [],
   "source": []
  }
 ],
 "metadata": {
  "kernelspec": {
   "display_name": "Python 3.9.13 ('kaggle-main')",
   "language": "python",
   "name": "python3"
  },
  "language_info": {
   "codemirror_mode": {
    "name": "ipython",
    "version": 3
   },
   "file_extension": ".py",
   "mimetype": "text/x-python",
   "name": "python",
   "nbconvert_exporter": "python",
   "pygments_lexer": "ipython3",
   "version": "3.9.13"
  },
  "orig_nbformat": 4,
  "vscode": {
   "interpreter": {
    "hash": "0fd4831d96ed66bca442039d176b10bc5346e2d2477946333cb9e6bec5a9b6e2"
   }
  }
 },
 "nbformat": 4,
 "nbformat_minor": 2
}
