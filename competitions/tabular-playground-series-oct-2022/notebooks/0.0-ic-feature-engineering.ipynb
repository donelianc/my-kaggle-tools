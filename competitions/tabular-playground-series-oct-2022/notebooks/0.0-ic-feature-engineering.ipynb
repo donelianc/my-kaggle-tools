{
 "cells": [
  {
   "cell_type": "markdown",
   "metadata": {},
   "source": [
    "## 0. Libraries and Personal Tools"
   ]
  },
  {
   "cell_type": "code",
   "execution_count": 1,
   "metadata": {},
   "outputs": [],
   "source": [
    "import sys\n",
    "\n",
    "from gc import collect\n",
    "from os.path import abspath\n",
    "from pandas import read_feather, read_csv\n",
    "from pandas.api.types import CategoricalDtype\n",
    "\n",
    "from sklearn.model_selection import train_test_split"
   ]
  },
  {
   "cell_type": "code",
   "execution_count": 2,
   "metadata": {},
   "outputs": [],
   "source": [
    "# add absolute path from root to sys.path to use custom modules\n",
    "sys.path.insert(0, abspath('..'))"
   ]
  },
  {
   "cell_type": "code",
   "execution_count": 3,
   "metadata": {},
   "outputs": [],
   "source": [
    "from src.utils import reduce_mem_usage"
   ]
  },
  {
   "cell_type": "markdown",
   "metadata": {},
   "source": [
    "## 1. Get Train Data"
   ]
  },
  {
   "cell_type": "code",
   "execution_count": 4,
   "metadata": {},
   "outputs": [],
   "source": [
    "df = read_feather(f\"../data/interim/small_train_compressed.ftr\")\n",
    "df.set_index([\"game_num\", \"event_id\", \"event_time\"], inplace=True)"
   ]
  },
  {
   "cell_type": "code",
   "execution_count": 5,
   "metadata": {},
   "outputs": [
    {
     "data": {
      "text/plain": [
       "0"
      ]
     },
     "execution_count": 5,
     "metadata": {},
     "output_type": "execute_result"
    }
   ],
   "source": [
    "# Free some memory after loading the data\n",
    "collect()"
   ]
  },
  {
   "cell_type": "markdown",
   "metadata": {},
   "source": [
    "## 2. Get Features and Targets"
   ]
  },
  {
   "cell_type": "code",
   "execution_count": 6,
   "metadata": {},
   "outputs": [],
   "source": [
    "model_features = read_csv(\"../data/raw/test_dtypes.csv\")\n",
    "FEATURES = [feature for feature in model_features.column.tolist() if feature != \"id\"]"
   ]
  },
  {
   "cell_type": "code",
   "execution_count": 7,
   "metadata": {},
   "outputs": [
    {
     "data": {
      "text/plain": [
       "54"
      ]
     },
     "execution_count": 7,
     "metadata": {},
     "output_type": "execute_result"
    }
   ],
   "source": [
    "len(FEATURES)"
   ]
  },
  {
   "cell_type": "code",
   "execution_count": 8,
   "metadata": {},
   "outputs": [
    {
     "data": {
      "text/plain": [
       "0    0.941689\n",
       "1    0.058311\n",
       "Name: team_A_scoring_within_10sec, dtype: float64"
      ]
     },
     "execution_count": 8,
     "metadata": {},
     "output_type": "execute_result"
    }
   ],
   "source": [
    "TEAM = \"A\"\n",
    "TARGET = f\"team_{TEAM}_scoring_within_10sec\"\n",
    "df[TARGET].value_counts(normalize=True, dropna=False)"
   ]
  },
  {
   "cell_type": "markdown",
   "metadata": {},
   "source": [
    "## 3. Train and Test Split"
   ]
  },
  {
   "cell_type": "code",
   "execution_count": 9,
   "metadata": {},
   "outputs": [],
   "source": [
    "from sklearn.model_selection import GroupShuffleSplit"
   ]
  },
  {
   "cell_type": "code",
   "execution_count": 10,
   "metadata": {},
   "outputs": [],
   "source": [
    "gsp = GroupShuffleSplit(n_splits=2, test_size=0.3, random_state=777)\n",
    "train_index, test_index = next(gsp.split(df, groups=df.index.get_level_values(\"game_num\")))\n",
    "\n",
    "X_train = df[FEATURES].iloc[train_index]\n",
    "y_train = df[TARGET].iloc[train_index]\n",
    "\n",
    "X_test = df[FEATURES].iloc[test_index]\n",
    "y_test = df[TARGET].iloc[test_index]"
   ]
  },
  {
   "cell_type": "code",
   "execution_count": 11,
   "metadata": {},
   "outputs": [],
   "source": [
    "del df"
   ]
  },
  {
   "cell_type": "code",
   "execution_count": 12,
   "metadata": {},
   "outputs": [
    {
     "data": {
      "text/plain": [
       "0"
      ]
     },
     "execution_count": 12,
     "metadata": {},
     "output_type": "execute_result"
    }
   ],
   "source": [
    "collect()"
   ]
  },
  {
   "cell_type": "markdown",
   "metadata": {},
   "source": [
    "## 4. Feature Engineering"
   ]
  },
  {
   "cell_type": "markdown",
   "metadata": {},
   "source": [
    "1. Join distance from two team members to the ball\n",
    "2. Distance from the ball to the goal post\n",
    "3. Speed of the ball calculated from velocity vector\n",
    "4. Speed for each team member calculated from velocity vector\n",
    "5. Distance from team members to orbs positions\n",
    "6. Angles between team members and the ball"
   ]
  },
  {
   "cell_type": "code",
   "execution_count": 13,
   "metadata": {},
   "outputs": [],
   "source": [
    "from sklearn.pipeline import Pipeline\n",
    "from sklearn.compose import ColumnTransformer\n",
    "from sklearn.compose import make_column_selector as selector\n",
    "\n",
    "from sklearn.impute import SimpleImputer"
   ]
  },
  {
   "cell_type": "markdown",
   "metadata": {},
   "source": [
    "### 4.1 Missing Values (Player Features)"
   ]
  },
  {
   "cell_type": "code",
   "execution_count": 14,
   "metadata": {},
   "outputs": [],
   "source": [
    "player_imputer = Pipeline(\n",
    "    steps=[(\"player_imputer\", SimpleImputer(strategy=\"constant\", fill_value=0.0))]\n",
    ")"
   ]
  },
  {
   "cell_type": "markdown",
   "metadata": {},
   "source": [
    "### 4.3 Distance from the ball to the goal post"
   ]
  },
  {
   "cell_type": "code",
   "execution_count": 15,
   "metadata": {},
   "outputs": [],
   "source": [
    "# Check Mahdee's discussion for more details about the goal post\n",
    "# Source: https://www.kaggle.com/competitions/tabular-playground-series-oct-2022/discussion/357633\n",
    "GOAL_POST1 = (0.0, -100.0, 6.8)\n",
    "GOAL_POST2 = (0.0, 100.0, 6.8)"
   ]
  },
  {
   "cell_type": "code",
   "execution_count": 16,
   "metadata": {},
   "outputs": [],
   "source": [
    "from scipy.spatial.distance import euclidean\n",
    "from sklearn.base import BaseEstimator, TransformerMixin, _ClassNamePrefixFeaturesOutMixin\n",
    "\n",
    "class DistanceBallGoalPosts(BaseEstimator, TransformerMixin, _ClassNamePrefixFeaturesOutMixin):\n",
    "    \n",
    "    def __init__(self, posts):\n",
    "        self.posts = posts\n",
    "\n",
    "    def get_feature_names_out(self, input_features=None):\n",
    "        return [f\"ball_distance_to_post{i+1}\" for i in range(len(self.posts))]\n",
    "    \n",
    "    def fit(self, X, y=None):\n",
    "        return self\n",
    "    \n",
    "    def transform(self, X):\n",
    "\n",
    "        X_trans = X.copy()\n",
    "        ball_postions = X_trans[[\"ball_pos_x\", \"ball_pos_y\", \"ball_pos_z\"]]\n",
    "        \n",
    "        for i, post in enumerate(self.posts):\n",
    "            diff_x = (X_trans[\"ball_pos_x\"] - post[0]).pow(2)\n",
    "            diff_y = (X_trans[\"ball_pos_y\"] - post[1]).pow(2)\n",
    "            diff_z = (X_trans[\"ball_pos_z\"] - post[2]).pow(2)\n",
    "\n",
    "            diff_x.add(diff_y).add(diff_z).pow(0.5)\n",
    "            X_trans[f\"ball_distance_to_post{i}\"] = ball_postions.apply(lambda x: euclidean(x, GOAL_POST1), axis=1)\n",
    "\n",
    "        return X_trans"
   ]
  },
  {
   "cell_type": "code",
   "execution_count": 17,
   "metadata": {},
   "outputs": [],
   "source": [
    "# TODO: Another implementation can be found here:\n",
    "# https://github.com/scikit-learn/scikit-learn/discussions/23992\n",
    "# \n",
    "# from sklearn.preprocessing import FunctionTransformer\n",
    "# \n",
    "# def get_distance_ball_to_goal_post(X, posts):\n",
    "#     X_trans = X.copy()\n",
    "#     ball_postions = X_trans[[\"ball_pos_x\", \"ball_pos_y\", \"ball_pos_z\"]]\n",
    "#     \n",
    "#     for i, post in enumerate(posts):\n",
    "#         diff_x = (X_trans[\"ball_pos_x\"] - post[0]).pow(2)\n",
    "#         diff_y = (X_trans[\"ball_pos_y\"] - post[1]).pow(2)\n",
    "#         diff_z = (X_trans[\"ball_pos_z\"] - post[2]).pow(2)\n",
    "# \n",
    "#         diff_x.add(diff_y).add(diff_z).pow(0.5)\n",
    "#         X_trans[f\"ball_distance_to_post{i}\"] = ball_postions.apply(lambda x: euclidean(x, GOAL_POST1), axis=1)\n",
    "# \n",
    "#     return X_trans\n",
    "# \n",
    "# def double_feature_names(transformer, feature_names):\n",
    "#     return [f'{col}_doubled' for col in feature_names]\n",
    "# \n",
    "# FunctionTransformer(get_distance_ball_to_goal_post, feature_names_out=double_feature_names)"
   ]
  },
  {
   "cell_type": "code",
   "execution_count": 41,
   "metadata": {},
   "outputs": [],
   "source": [
    "transformations = ColumnTransformer(\n",
    "    transformers=[\n",
    "        (\"player_imputer\", player_imputer, selector(pattern=\"p[0-5]_\")),\n",
    "        (\"distance_ball_goal_posts\", DistanceBallGoalPosts(posts=(GOAL_POST1, GOAL_POST2)), selector(pattern=\"ball_pos\")),\n",
    "        ], \n",
    "    n_jobs=-1,\n",
    "    remainder=\"passthrough\",\n",
    "    # verbose_feature_names_out=False,\n",
    ")"
   ]
  },
  {
   "cell_type": "code",
   "execution_count": 42,
   "metadata": {},
   "outputs": [],
   "source": [
    "pipe = Pipeline(\n",
    "    steps=[\n",
    "        (\"transformations\", transformations),\n",
    "        ]\n",
    "    )"
   ]
  },
  {
   "cell_type": "code",
   "execution_count": 43,
   "metadata": {},
   "outputs": [
    {
     "data": {
      "text/html": [
       "<style>#sk-container-id-2 {color: black;background-color: white;}#sk-container-id-2 pre{padding: 0;}#sk-container-id-2 div.sk-toggleable {background-color: white;}#sk-container-id-2 label.sk-toggleable__label {cursor: pointer;display: block;width: 100%;margin-bottom: 0;padding: 0.3em;box-sizing: border-box;text-align: center;}#sk-container-id-2 label.sk-toggleable__label-arrow:before {content: \"▸\";float: left;margin-right: 0.25em;color: #696969;}#sk-container-id-2 label.sk-toggleable__label-arrow:hover:before {color: black;}#sk-container-id-2 div.sk-estimator:hover label.sk-toggleable__label-arrow:before {color: black;}#sk-container-id-2 div.sk-toggleable__content {max-height: 0;max-width: 0;overflow: hidden;text-align: left;background-color: #f0f8ff;}#sk-container-id-2 div.sk-toggleable__content pre {margin: 0.2em;color: black;border-radius: 0.25em;background-color: #f0f8ff;}#sk-container-id-2 input.sk-toggleable__control:checked~div.sk-toggleable__content {max-height: 200px;max-width: 100%;overflow: auto;}#sk-container-id-2 input.sk-toggleable__control:checked~label.sk-toggleable__label-arrow:before {content: \"▾\";}#sk-container-id-2 div.sk-estimator input.sk-toggleable__control:checked~label.sk-toggleable__label {background-color: #d4ebff;}#sk-container-id-2 div.sk-label input.sk-toggleable__control:checked~label.sk-toggleable__label {background-color: #d4ebff;}#sk-container-id-2 input.sk-hidden--visually {border: 0;clip: rect(1px 1px 1px 1px);clip: rect(1px, 1px, 1px, 1px);height: 1px;margin: -1px;overflow: hidden;padding: 0;position: absolute;width: 1px;}#sk-container-id-2 div.sk-estimator {font-family: monospace;background-color: #f0f8ff;border: 1px dotted black;border-radius: 0.25em;box-sizing: border-box;margin-bottom: 0.5em;}#sk-container-id-2 div.sk-estimator:hover {background-color: #d4ebff;}#sk-container-id-2 div.sk-parallel-item::after {content: \"\";width: 100%;border-bottom: 1px solid gray;flex-grow: 1;}#sk-container-id-2 div.sk-label:hover label.sk-toggleable__label {background-color: #d4ebff;}#sk-container-id-2 div.sk-serial::before {content: \"\";position: absolute;border-left: 1px solid gray;box-sizing: border-box;top: 0;bottom: 0;left: 50%;z-index: 0;}#sk-container-id-2 div.sk-serial {display: flex;flex-direction: column;align-items: center;background-color: white;padding-right: 0.2em;padding-left: 0.2em;position: relative;}#sk-container-id-2 div.sk-item {position: relative;z-index: 1;}#sk-container-id-2 div.sk-parallel {display: flex;align-items: stretch;justify-content: center;background-color: white;position: relative;}#sk-container-id-2 div.sk-item::before, #sk-container-id-2 div.sk-parallel-item::before {content: \"\";position: absolute;border-left: 1px solid gray;box-sizing: border-box;top: 0;bottom: 0;left: 50%;z-index: -1;}#sk-container-id-2 div.sk-parallel-item {display: flex;flex-direction: column;z-index: 1;position: relative;background-color: white;}#sk-container-id-2 div.sk-parallel-item:first-child::after {align-self: flex-end;width: 50%;}#sk-container-id-2 div.sk-parallel-item:last-child::after {align-self: flex-start;width: 50%;}#sk-container-id-2 div.sk-parallel-item:only-child::after {width: 0;}#sk-container-id-2 div.sk-dashed-wrapped {border: 1px dashed gray;margin: 0 0.4em 0.5em 0.4em;box-sizing: border-box;padding-bottom: 0.4em;background-color: white;}#sk-container-id-2 div.sk-label label {font-family: monospace;font-weight: bold;display: inline-block;line-height: 1.2em;}#sk-container-id-2 div.sk-label-container {text-align: center;}#sk-container-id-2 div.sk-container {/* jupyter's `normalize.less` sets `[hidden] { display: none; }` but bootstrap.min.css set `[hidden] { display: none !important; }` so we also need the `!important` here to be able to override the default hidden behavior on the sphinx rendered scikit-learn.org. See: https://github.com/scikit-learn/scikit-learn/issues/21755 */display: inline-block !important;position: relative;}#sk-container-id-2 div.sk-text-repr-fallback {display: none;}</style><div id=\"sk-container-id-2\" class=\"sk-top-container\"><div class=\"sk-text-repr-fallback\"><pre>Pipeline(steps=[(&#x27;transformations&#x27;,\n",
       "                 ColumnTransformer(n_jobs=-1, remainder=&#x27;passthrough&#x27;,\n",
       "                                   transformers=[(&#x27;player_imputer&#x27;,\n",
       "                                                  Pipeline(steps=[(&#x27;player_imputer&#x27;,\n",
       "                                                                   SimpleImputer(fill_value=0.0,\n",
       "                                                                                 strategy=&#x27;constant&#x27;))]),\n",
       "                                                  &lt;sklearn.compose._column_transformer.make_column_selector object at 0x7fcc35263640&gt;),\n",
       "                                                 (&#x27;distance_ball_goal_posts&#x27;,\n",
       "                                                  DistanceBallGoalPosts(posts=((0.0,\n",
       "                                                                                -100.0,\n",
       "                                                                                6.8),\n",
       "                                                                               (0.0,\n",
       "                                                                                100.0,\n",
       "                                                                                6.8))),\n",
       "                                                  &lt;sklearn.compose._column_transformer.make_column_selector object at 0x7fcc3449a490&gt;)]))])</pre><b>In a Jupyter environment, please rerun this cell to show the HTML representation or trust the notebook. <br />On GitHub, the HTML representation is unable to render, please try loading this page with nbviewer.org.</b></div><div class=\"sk-container\" hidden><div class=\"sk-item sk-dashed-wrapped\"><div class=\"sk-label-container\"><div class=\"sk-label sk-toggleable\"><input class=\"sk-toggleable__control sk-hidden--visually\" id=\"sk-estimator-id-9\" type=\"checkbox\" ><label for=\"sk-estimator-id-9\" class=\"sk-toggleable__label sk-toggleable__label-arrow\">Pipeline</label><div class=\"sk-toggleable__content\"><pre>Pipeline(steps=[(&#x27;transformations&#x27;,\n",
       "                 ColumnTransformer(n_jobs=-1, remainder=&#x27;passthrough&#x27;,\n",
       "                                   transformers=[(&#x27;player_imputer&#x27;,\n",
       "                                                  Pipeline(steps=[(&#x27;player_imputer&#x27;,\n",
       "                                                                   SimpleImputer(fill_value=0.0,\n",
       "                                                                                 strategy=&#x27;constant&#x27;))]),\n",
       "                                                  &lt;sklearn.compose._column_transformer.make_column_selector object at 0x7fcc35263640&gt;),\n",
       "                                                 (&#x27;distance_ball_goal_posts&#x27;,\n",
       "                                                  DistanceBallGoalPosts(posts=((0.0,\n",
       "                                                                                -100.0,\n",
       "                                                                                6.8),\n",
       "                                                                               (0.0,\n",
       "                                                                                100.0,\n",
       "                                                                                6.8))),\n",
       "                                                  &lt;sklearn.compose._column_transformer.make_column_selector object at 0x7fcc3449a490&gt;)]))])</pre></div></div></div><div class=\"sk-serial\"><div class=\"sk-item sk-dashed-wrapped\"><div class=\"sk-label-container\"><div class=\"sk-label sk-toggleable\"><input class=\"sk-toggleable__control sk-hidden--visually\" id=\"sk-estimator-id-10\" type=\"checkbox\" ><label for=\"sk-estimator-id-10\" class=\"sk-toggleable__label sk-toggleable__label-arrow\">transformations: ColumnTransformer</label><div class=\"sk-toggleable__content\"><pre>ColumnTransformer(n_jobs=-1, remainder=&#x27;passthrough&#x27;,\n",
       "                  transformers=[(&#x27;player_imputer&#x27;,\n",
       "                                 Pipeline(steps=[(&#x27;player_imputer&#x27;,\n",
       "                                                  SimpleImputer(fill_value=0.0,\n",
       "                                                                strategy=&#x27;constant&#x27;))]),\n",
       "                                 &lt;sklearn.compose._column_transformer.make_column_selector object at 0x7fcc35263640&gt;),\n",
       "                                (&#x27;distance_ball_goal_posts&#x27;,\n",
       "                                 DistanceBallGoalPosts(posts=((0.0, -100.0,\n",
       "                                                               6.8),\n",
       "                                                              (0.0, 100.0,\n",
       "                                                               6.8))),\n",
       "                                 &lt;sklearn.compose._column_transformer.make_column_selector object at 0x7fcc3449a490&gt;)])</pre></div></div></div><div class=\"sk-parallel\"><div class=\"sk-parallel-item\"><div class=\"sk-item\"><div class=\"sk-label-container\"><div class=\"sk-label sk-toggleable\"><input class=\"sk-toggleable__control sk-hidden--visually\" id=\"sk-estimator-id-11\" type=\"checkbox\" ><label for=\"sk-estimator-id-11\" class=\"sk-toggleable__label sk-toggleable__label-arrow\">player_imputer</label><div class=\"sk-toggleable__content\"><pre>&lt;sklearn.compose._column_transformer.make_column_selector object at 0x7fcc35263640&gt;</pre></div></div></div><div class=\"sk-serial\"><div class=\"sk-item\"><div class=\"sk-serial\"><div class=\"sk-item\"><div class=\"sk-estimator sk-toggleable\"><input class=\"sk-toggleable__control sk-hidden--visually\" id=\"sk-estimator-id-12\" type=\"checkbox\" ><label for=\"sk-estimator-id-12\" class=\"sk-toggleable__label sk-toggleable__label-arrow\">SimpleImputer</label><div class=\"sk-toggleable__content\"><pre>SimpleImputer(fill_value=0.0, strategy=&#x27;constant&#x27;)</pre></div></div></div></div></div></div></div></div><div class=\"sk-parallel-item\"><div class=\"sk-item\"><div class=\"sk-label-container\"><div class=\"sk-label sk-toggleable\"><input class=\"sk-toggleable__control sk-hidden--visually\" id=\"sk-estimator-id-13\" type=\"checkbox\" ><label for=\"sk-estimator-id-13\" class=\"sk-toggleable__label sk-toggleable__label-arrow\">distance_ball_goal_posts</label><div class=\"sk-toggleable__content\"><pre>&lt;sklearn.compose._column_transformer.make_column_selector object at 0x7fcc3449a490&gt;</pre></div></div></div><div class=\"sk-serial\"><div class=\"sk-item\"><div class=\"sk-estimator sk-toggleable\"><input class=\"sk-toggleable__control sk-hidden--visually\" id=\"sk-estimator-id-14\" type=\"checkbox\" ><label for=\"sk-estimator-id-14\" class=\"sk-toggleable__label sk-toggleable__label-arrow\">DistanceBallGoalPosts</label><div class=\"sk-toggleable__content\"><pre>DistanceBallGoalPosts(posts=((0.0, -100.0, 6.8), (0.0, 100.0, 6.8)))</pre></div></div></div></div></div></div><div class=\"sk-parallel-item\"><div class=\"sk-item\"><div class=\"sk-label-container\"><div class=\"sk-label sk-toggleable\"><input class=\"sk-toggleable__control sk-hidden--visually\" id=\"sk-estimator-id-15\" type=\"checkbox\" ><label for=\"sk-estimator-id-15\" class=\"sk-toggleable__label sk-toggleable__label-arrow\">remainder</label><div class=\"sk-toggleable__content\"><pre></pre></div></div></div><div class=\"sk-serial\"><div class=\"sk-item\"><div class=\"sk-estimator sk-toggleable\"><input class=\"sk-toggleable__control sk-hidden--visually\" id=\"sk-estimator-id-16\" type=\"checkbox\" ><label for=\"sk-estimator-id-16\" class=\"sk-toggleable__label sk-toggleable__label-arrow\">passthrough</label><div class=\"sk-toggleable__content\"><pre>passthrough</pre></div></div></div></div></div></div></div></div></div></div></div></div>"
      ],
      "text/plain": [
       "Pipeline(steps=[('transformations',\n",
       "                 ColumnTransformer(n_jobs=-1, remainder='passthrough',\n",
       "                                   transformers=[('player_imputer',\n",
       "                                                  Pipeline(steps=[('player_imputer',\n",
       "                                                                   SimpleImputer(fill_value=0.0,\n",
       "                                                                                 strategy='constant'))]),\n",
       "                                                  <sklearn.compose._column_transformer.make_column_selector object at 0x7fcc35263640>),\n",
       "                                                 ('distance_ball_goal_posts',\n",
       "                                                  DistanceBallGoalPosts(posts=((0.0,\n",
       "                                                                                -100.0,\n",
       "                                                                                6.8),\n",
       "                                                                               (0.0,\n",
       "                                                                                100.0,\n",
       "                                                                                6.8))),\n",
       "                                                  <sklearn.compose._column_transformer.make_column_selector object at 0x7fcc3449a490>)]))])"
      ]
     },
     "execution_count": 43,
     "metadata": {},
     "output_type": "execute_result"
    }
   ],
   "source": [
    "pipe"
   ]
  },
  {
   "cell_type": "code",
   "execution_count": 21,
   "metadata": {},
   "outputs": [],
   "source": [
    "X_trans = pipe.fit_transform(X_train)"
   ]
  },
  {
   "cell_type": "code",
   "execution_count": 40,
   "metadata": {},
   "outputs": [
    {
     "data": {
      "text/plain": [
       "['p0_pos_x',\n",
       " 'p0_pos_y',\n",
       " 'p0_pos_z',\n",
       " 'p0_vel_x',\n",
       " 'p0_vel_y',\n",
       " 'p0_vel_z',\n",
       " 'p0_boost',\n",
       " 'p1_pos_x',\n",
       " 'p1_pos_y',\n",
       " 'p1_pos_z',\n",
       " 'p1_vel_x',\n",
       " 'p1_vel_y',\n",
       " 'p1_vel_z',\n",
       " 'p1_boost',\n",
       " 'p2_pos_x',\n",
       " 'p2_pos_y',\n",
       " 'p2_pos_z',\n",
       " 'p2_vel_x',\n",
       " 'p2_vel_y',\n",
       " 'p2_vel_z',\n",
       " 'p2_boost',\n",
       " 'p3_pos_x',\n",
       " 'p3_pos_y',\n",
       " 'p3_pos_z',\n",
       " 'p3_vel_x',\n",
       " 'p3_vel_y',\n",
       " 'p3_vel_z',\n",
       " 'p3_boost',\n",
       " 'p4_pos_x',\n",
       " 'p4_pos_y',\n",
       " 'p4_pos_z',\n",
       " 'p4_vel_x',\n",
       " 'p4_vel_y',\n",
       " 'p4_vel_z',\n",
       " 'p4_boost',\n",
       " 'p5_pos_x',\n",
       " 'p5_pos_y',\n",
       " 'p5_pos_z',\n",
       " 'p5_vel_x',\n",
       " 'p5_vel_y',\n",
       " 'p5_vel_z',\n",
       " 'p5_boost',\n",
       " 'ball_distance_to_post0',\n",
       " 'ball_distance_to_post1',\n",
       " 'ball_vel_x',\n",
       " 'ball_vel_y',\n",
       " 'ball_vel_z',\n",
       " 'boost0_timer',\n",
       " 'boost1_timer',\n",
       " 'boost2_timer',\n",
       " 'boost3_timer',\n",
       " 'boost4_timer',\n",
       " 'boost5_timer']"
      ]
     },
     "execution_count": 40,
     "metadata": {},
     "output_type": "execute_result"
    }
   ],
   "source": [
    "pipe.get_feature_names_out().tolist()"
   ]
  },
  {
   "cell_type": "code",
   "execution_count": 37,
   "metadata": {},
   "outputs": [],
   "source": [
    "from pandas import DataFrame\n",
    "TRANS_FEATURES = pipe.get_feature_names_out().tolist()\n",
    "# DataFrame(X_trans, columns=).head()"
   ]
  },
  {
   "cell_type": "code",
   "execution_count": null,
   "metadata": {},
   "outputs": [],
   "source": []
  }
 ],
 "metadata": {
  "kernelspec": {
   "display_name": "Python 3.9.13 ('kaggle-main')",
   "language": "python",
   "name": "python3"
  },
  "language_info": {
   "codemirror_mode": {
    "name": "ipython",
    "version": 3
   },
   "file_extension": ".py",
   "mimetype": "text/x-python",
   "name": "python",
   "nbconvert_exporter": "python",
   "pygments_lexer": "ipython3",
   "version": "3.9.13"
  },
  "orig_nbformat": 4,
  "vscode": {
   "interpreter": {
    "hash": "0fd4831d96ed66bca442039d176b10bc5346e2d2477946333cb9e6bec5a9b6e2"
   }
  }
 },
 "nbformat": 4,
 "nbformat_minor": 2
}
