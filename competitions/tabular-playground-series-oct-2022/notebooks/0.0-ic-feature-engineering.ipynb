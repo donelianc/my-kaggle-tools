{
 "cells": [
  {
   "cell_type": "markdown",
   "metadata": {},
   "source": [
    "## 0. Libraries and Personal Tools"
   ]
  },
  {
   "cell_type": "code",
   "execution_count": 1,
   "metadata": {},
   "outputs": [],
   "source": [
    "import sys\n",
    "\n",
    "\n",
    "from gc import collect\n",
    "from os.path import abspath\n",
    "\n",
    "from re import findall\n",
    "\n",
    "from pandas import DataFrame\n",
    "from pandas import read_feather, read_csv\n",
    "from pandas.api.types import CategoricalDtype\n",
    "\n",
    "from sklearn.model_selection import train_test_split"
   ]
  },
  {
   "cell_type": "code",
   "execution_count": 2,
   "metadata": {},
   "outputs": [],
   "source": [
    "# add absolute path from root to sys.path to use custom modules\n",
    "sys.path.insert(0, abspath('..'))"
   ]
  },
  {
   "cell_type": "markdown",
   "metadata": {},
   "source": [
    "## 1. Get Train Data"
   ]
  },
  {
   "cell_type": "code",
   "execution_count": 3,
   "metadata": {},
   "outputs": [],
   "source": [
    "df = read_feather(f\"../data/interim/small_train_compressed.ftr\")\n",
    "df.set_index([\"game_num\", \"event_id\", \"event_time\"], inplace=True)"
   ]
  },
  {
   "cell_type": "code",
   "execution_count": 4,
   "metadata": {},
   "outputs": [
    {
     "data": {
      "text/plain": [
       "0"
      ]
     },
     "execution_count": 4,
     "metadata": {},
     "output_type": "execute_result"
    }
   ],
   "source": [
    "# Free some memory after loading the data\n",
    "collect()"
   ]
  },
  {
   "cell_type": "markdown",
   "metadata": {},
   "source": [
    "## 2. Get Features and Targets"
   ]
  },
  {
   "cell_type": "code",
   "execution_count": 5,
   "metadata": {},
   "outputs": [],
   "source": [
    "model_features = read_csv(\"../data/raw/test_dtypes.csv\")\n",
    "FEATURES = [feature for feature in model_features.column.tolist() if feature != \"id\"]"
   ]
  },
  {
   "cell_type": "code",
   "execution_count": 6,
   "metadata": {},
   "outputs": [
    {
     "data": {
      "text/plain": [
       "54"
      ]
     },
     "execution_count": 6,
     "metadata": {},
     "output_type": "execute_result"
    }
   ],
   "source": [
    "len(FEATURES)"
   ]
  },
  {
   "cell_type": "code",
   "execution_count": 7,
   "metadata": {},
   "outputs": [
    {
     "data": {
      "text/plain": [
       "0    0.941689\n",
       "1    0.058311\n",
       "Name: team_A_scoring_within_10sec, dtype: float64"
      ]
     },
     "execution_count": 7,
     "metadata": {},
     "output_type": "execute_result"
    }
   ],
   "source": [
    "TEAM = \"A\"\n",
    "TARGET = f\"team_{TEAM}_scoring_within_10sec\"\n",
    "df[TARGET].value_counts(normalize=True, dropna=False)"
   ]
  },
  {
   "cell_type": "markdown",
   "metadata": {},
   "source": [
    "## 3. Train and Test Split"
   ]
  },
  {
   "cell_type": "code",
   "execution_count": 8,
   "metadata": {},
   "outputs": [],
   "source": [
    "from sklearn.model_selection import GroupShuffleSplit"
   ]
  },
  {
   "cell_type": "code",
   "execution_count": 9,
   "metadata": {},
   "outputs": [],
   "source": [
    "gsp = GroupShuffleSplit(n_splits=2, test_size=0.3, random_state=777)\n",
    "train_index, test_index = next(gsp.split(df, groups=df.index.get_level_values(\"game_num\")))\n",
    "\n",
    "X_train = df[FEATURES].iloc[train_index]\n",
    "y_train = df[TARGET].iloc[train_index]\n",
    "\n",
    "X_test = df[FEATURES].iloc[test_index]\n",
    "y_test = df[TARGET].iloc[test_index]"
   ]
  },
  {
   "cell_type": "code",
   "execution_count": 10,
   "metadata": {},
   "outputs": [],
   "source": [
    "del df"
   ]
  },
  {
   "cell_type": "code",
   "execution_count": 11,
   "metadata": {},
   "outputs": [
    {
     "data": {
      "text/plain": [
       "0"
      ]
     },
     "execution_count": 11,
     "metadata": {},
     "output_type": "execute_result"
    }
   ],
   "source": [
    "collect()"
   ]
  },
  {
   "cell_type": "markdown",
   "metadata": {},
   "source": [
    "## 4. Feature Engineering"
   ]
  },
  {
   "cell_type": "markdown",
   "metadata": {},
   "source": [
    "1. ✅ Impute missing values for player data (position, velocity, and boost)\n",
    "1. Join distance from two team members to the ball\n",
    "1. ✅ Distance from the ball to the goal post\n",
    "1. ✅ Speed of the ball calculated from velocity vector\n",
    "1. Speed for each team member calculated from velocity vector\n",
    "1. Distance from team members to orbs positions\n",
    "1. Angles between team members and the ball"
   ]
  },
  {
   "cell_type": "code",
   "execution_count": 12,
   "metadata": {},
   "outputs": [],
   "source": [
    "from abc import abstractmethod\n",
    "\n",
    "from numpy import logical_not, concatenate, asarray\n",
    "from numpy import nan as np_nan\n",
    "\n",
    "from scipy.spatial.distance import euclidean\n",
    "\n",
    "from sklearn.base import BaseEstimator, TransformerMixin\n",
    "from sklearn.compose import ColumnTransformer\n",
    "from sklearn.compose import make_column_selector as selector\n",
    "from sklearn.impute import SimpleImputer, MissingIndicator\n",
    "from sklearn.pipeline import Pipeline, FeatureUnion\n",
    "from sklearn.utils.validation import _get_feature_names, _check_feature_names_in"
   ]
  },
  {
   "cell_type": "markdown",
   "metadata": {},
   "source": [
    "### 4.1 Missing Values (Player Features)"
   ]
  },
  {
   "cell_type": "code",
   "execution_count": 13,
   "metadata": {},
   "outputs": [],
   "source": [
    "# https://github.com/ResidentMario/missingno\n",
    "# Messy datasets? Missing values? missingno provides a small toolset of flexible \n",
    "# and easy-to-use missing data visualizations and utilities that allows you to \n",
    "# get a quick visual summary of the completeness (or lack thereof) of your dataset.\n",
    "import missingno as msno"
   ]
  },
  {
   "cell_type": "code",
   "execution_count": 14,
   "metadata": {},
   "outputs": [],
   "source": [
    "player_features = X_train.columns[X_train.columns.str.startswith(\"p\")]"
   ]
  },
  {
   "cell_type": "code",
   "execution_count": 15,
   "metadata": {},
   "outputs": [
    {
     "data": {
      "image/png": "[encoded data removed]",
      "text/plain": [
       "<Figure size 2500x1000 with 2 Axes>"
      ]
     },
     "metadata": {},
     "output_type": "display_data"
    }
   ],
   "source": [
    "msno.matrix(X_train[player_features].sample(frac=0.1, random_state=777));"
   ]
  },
  {
   "cell_type": "markdown",
   "metadata": {},
   "source": [
    "#### 4.1.1 Player Demolished"
   ]
  },
  {
   "cell_type": "code",
   "execution_count": 16,
   "metadata": {},
   "outputs": [],
   "source": [
    "class PlayerDemolished(BaseEstimator, TransformerMixin):\n",
    "\n",
    "    def __init__(self):\n",
    "        self.feature_names_out = []\n",
    "    \n",
    "    def fit(self, X, y=None):\n",
    "        return self\n",
    "    \n",
    "    def transform(self, X):\n",
    "        X_trans = X.copy()\n",
    "        \n",
    "        for i in range(1, 6):\n",
    "            self.feature_names_out += [f\"p{i}_demolished\"]\n",
    "            player_features = X_trans.columns[X_trans.columns.str.startswith(f\"p{i}_\")]\n",
    "            X_trans[self.feature_names_out[-1]] = X_trans[player_features].isna().all(axis=1).astype(int)\n",
    "\n",
    "        return X_trans[self.feature_names_out]\n",
    "\n",
    "    # TODO: Improve this method\n",
    "    def get_feature_names_out(self, input_features=None):\n",
    "        # input_features = _check_feature_names_in(self, input_features)\n",
    "        return asarray(self.feature_names_out, dtype=object)"
   ]
  },
  {
   "cell_type": "markdown",
   "metadata": {},
   "source": [
    "### 4.3 Distance from the ball to the goal post"
   ]
  },
  {
   "cell_type": "code",
   "execution_count": 17,
   "metadata": {},
   "outputs": [],
   "source": [
    "# Check Mahdee's discussion for more details about the goal post\n",
    "# Source: https://www.kaggle.com/competitions/tabular-playground-series-oct-2022/discussion/357633\n",
    "GOAL_POST1 = (0.0, -100.0, 6.8)\n",
    "GOAL_POST2 = (0.0, 100.0, 6.8)"
   ]
  },
  {
   "cell_type": "code",
   "execution_count": 18,
   "metadata": {},
   "outputs": [],
   "source": [
    "# TODO: Another implementation (using FunctionTransformer) can be found here:\n",
    "# https://github.com/scikit-learn/scikit-learn/discussions/23992\n",
    "\n",
    "class DistanceBallGoalPosts(BaseEstimator, TransformerMixin):\n",
    "\n",
    "    def __init__(self, posts):\n",
    "        self.posts = posts\n",
    "        self.feature_names_out = []\n",
    "    \n",
    "    def fit(self, X, y=None):\n",
    "        return self\n",
    "    \n",
    "    def transform(self, X):\n",
    "        X_trans = X.copy()        \n",
    "        for i, post in enumerate(self.posts, start=1):\n",
    "            self.feature_names_out += [f\"ball_distance_to_post{i}\"]\n",
    "            ball_position = [\"ball_pos_x\", \"ball_pos_y\", \"ball_pos_z\"]\n",
    "            X_trans[self.feature_names_out[-1]] = X_trans[ball_position].sub(post).pow(2).sum(axis=1).pow(0.5)\n",
    "\n",
    "        return X_trans[self.feature_names_out]\n",
    "\n",
    "    # TODO: Improve this method for all custom transformers\n",
    "    def get_feature_names_out(self, input_features=None):\n",
    "        return asarray(self.feature_names_out, dtype=object)"
   ]
  },
  {
   "cell_type": "markdown",
   "metadata": {},
   "source": [
    "### 4.4 Ball speed from velocity vector"
   ]
  },
  {
   "cell_type": "code",
   "execution_count": 19,
   "metadata": {},
   "outputs": [],
   "source": [
    "class BallSpeed(BaseEstimator, TransformerMixin):\n",
    "\n",
    "    def __init__(self):\n",
    "        self.feature_names_out = []\n",
    "    \n",
    "    def fit(self, X, y=None):\n",
    "        return self\n",
    "    \n",
    "    def transform(self, X):\n",
    "        X_trans = X.copy()        \n",
    "        self.feature_names_out += [\"ball_speed\"]\n",
    "        X_trans[self.feature_names_out[-1]] = X_trans.pow(2).sum(axis=1).pow(0.5)\n",
    "\n",
    "        return X_trans[self.feature_names_out]\n",
    "\n",
    "    def get_feature_names_out(self, input_features=None):\n",
    "        return asarray(self.feature_names_out, dtype=object)"
   ]
  },
  {
   "cell_type": "markdown",
   "metadata": {},
   "source": [
    "### 4.5 Player speed from velocity vector"
   ]
  },
  {
   "cell_type": "code",
   "execution_count": 20,
   "metadata": {},
   "outputs": [],
   "source": [
    "class PlayerSpeed(BaseEstimator, TransformerMixin):\n",
    "\n",
    "    def __init__(self):\n",
    "        self.feature_names_out = []\n",
    "    \n",
    "    def fit(self, X, y=None):\n",
    "        return self\n",
    "    \n",
    "    def transform(self, X):\n",
    "\n",
    "        X_trans = X.copy()\n",
    "        for i in range(6):\n",
    "            self.feature_names_out += [f\"p{i}_speed\"]\n",
    "            velocity_vector = [v for v in X_trans.columns if v.startswith(f\"p{i}\")]\n",
    "            X_trans[self.feature_names_out[-1]] = X_trans[velocity_vector].pow(2).sum(axis=1).pow(0.5)\n",
    "\n",
    "        return X_trans[self.feature_names_out]\n",
    "\n",
    "    def get_feature_names_out(self, input_features=None):\n",
    "        return asarray(self.feature_names_out, dtype=object)"
   ]
  },
  {
   "cell_type": "markdown",
   "metadata": {},
   "source": [
    "## 5. Pipeline Building"
   ]
  },
  {
   "cell_type": "code",
   "execution_count": 21,
   "metadata": {},
   "outputs": [],
   "source": [
    "# https://datascience.stackexchange.com/questions/73782/what-is-the-point-of-using-missingindicator-in-scikit-learn\n",
    "players_features = ColumnTransformer(\n",
    "    transformers=[\n",
    "        (\"player_demolished\", PlayerDemolished(), selector(pattern=\"p[0-5]_\")),\n",
    "        (\"player_imputer\", SimpleImputer(strategy=\"constant\", fill_value=0.0), selector(pattern=\"p[0-5]_\")),\n",
    "        (\"player_speed\", PlayerSpeed(), selector(pattern=\"p[0-5]_vel\")),\n",
    "        ], \n",
    "    n_jobs=-1,\n",
    "    # remainder=\"passthrough\",\n",
    "    # verbose_feature_names_out=False,\n",
    ")"
   ]
  },
  {
   "cell_type": "code",
   "execution_count": 22,
   "metadata": {},
   "outputs": [],
   "source": [
    "ball_features = ColumnTransformer(\n",
    "    transformers=[\n",
    "        (\"ball_speed\", BallSpeed(), selector(pattern=\"ball_vel\")),\n",
    "        (\"ball_distance_to_goal_posts\", DistanceBallGoalPosts(posts=[GOAL_POST1, GOAL_POST2]), selector(pattern=\"ball_pos\")),\n",
    "        ], \n",
    "    # remainder=\"passthrough\",\n",
    "    # verbose_feature_names_out=True,\n",
    ")"
   ]
  },
  {
   "cell_type": "code",
   "execution_count": 23,
   "metadata": {},
   "outputs": [],
   "source": [
    "preprocessing = FeatureUnion(\n",
    "    transformer_list = [\n",
    "    (\"players_features\", players_features),\n",
    "    (\"ball_features\", ball_features),\n",
    "    ],\n",
    "    verbose=True,\n",
    ")"
   ]
  },
  {
   "cell_type": "code",
   "execution_count": 24,
   "metadata": {},
   "outputs": [],
   "source": [
    "from sklearn.feature_selection import VarianceThreshold\n",
    "pipe = Pipeline(\n",
    "    steps=[\n",
    "        (\"preprocessing\", preprocessing),\n",
    "        # (\"variance_threshold\", VarianceThreshold()),\n",
    "        ]\n",
    "    )"
   ]
  },
  {
   "cell_type": "code",
   "execution_count": 25,
   "metadata": {},
   "outputs": [
    {
     "data": {
      "text/html": [
       "<style>#sk-container-id-1 {color: black;background-color: white;}#sk-container-id-1 pre{padding: 0;}#sk-container-id-1 div.sk-toggleable {background-color: white;}#sk-container-id-1 label.sk-toggleable__label {cursor: pointer;display: block;width: 100%;margin-bottom: 0;padding: 0.3em;box-sizing: border-box;text-align: center;}#sk-container-id-1 label.sk-toggleable__label-arrow:before {content: \"▸\";float: left;margin-right: 0.25em;color: #696969;}#sk-container-id-1 label.sk-toggleable__label-arrow:hover:before {color: black;}#sk-container-id-1 div.sk-estimator:hover label.sk-toggleable__label-arrow:before {color: black;}#sk-container-id-1 div.sk-toggleable__content {max-height: 0;max-width: 0;overflow: hidden;text-align: left;background-color: #f0f8ff;}#sk-container-id-1 div.sk-toggleable__content pre {margin: 0.2em;color: black;border-radius: 0.25em;background-color: #f0f8ff;}#sk-container-id-1 input.sk-toggleable__control:checked~div.sk-toggleable__content {max-height: 200px;max-width: 100%;overflow: auto;}#sk-container-id-1 input.sk-toggleable__control:checked~label.sk-toggleable__label-arrow:before {content: \"▾\";}#sk-container-id-1 div.sk-estimator input.sk-toggleable__control:checked~label.sk-toggleable__label {background-color: #d4ebff;}#sk-container-id-1 div.sk-label input.sk-toggleable__control:checked~label.sk-toggleable__label {background-color: #d4ebff;}#sk-container-id-1 input.sk-hidden--visually {border: 0;clip: rect(1px 1px 1px 1px);clip: rect(1px, 1px, 1px, 1px);height: 1px;margin: -1px;overflow: hidden;padding: 0;position: absolute;width: 1px;}#sk-container-id-1 div.sk-estimator {font-family: monospace;background-color: #f0f8ff;border: 1px dotted black;border-radius: 0.25em;box-sizing: border-box;margin-bottom: 0.5em;}#sk-container-id-1 div.sk-estimator:hover {background-color: #d4ebff;}#sk-container-id-1 div.sk-parallel-item::after {content: \"\";width: 100%;border-bottom: 1px solid gray;flex-grow: 1;}#sk-container-id-1 div.sk-label:hover label.sk-toggleable__label {background-color: #d4ebff;}#sk-container-id-1 div.sk-serial::before {content: \"\";position: absolute;border-left: 1px solid gray;box-sizing: border-box;top: 0;bottom: 0;left: 50%;z-index: 0;}#sk-container-id-1 div.sk-serial {display: flex;flex-direction: column;align-items: center;background-color: white;padding-right: 0.2em;padding-left: 0.2em;position: relative;}#sk-container-id-1 div.sk-item {position: relative;z-index: 1;}#sk-container-id-1 div.sk-parallel {display: flex;align-items: stretch;justify-content: center;background-color: white;position: relative;}#sk-container-id-1 div.sk-item::before, #sk-container-id-1 div.sk-parallel-item::before {content: \"\";position: absolute;border-left: 1px solid gray;box-sizing: border-box;top: 0;bottom: 0;left: 50%;z-index: -1;}#sk-container-id-1 div.sk-parallel-item {display: flex;flex-direction: column;z-index: 1;position: relative;background-color: white;}#sk-container-id-1 div.sk-parallel-item:first-child::after {align-self: flex-end;width: 50%;}#sk-container-id-1 div.sk-parallel-item:last-child::after {align-self: flex-start;width: 50%;}#sk-container-id-1 div.sk-parallel-item:only-child::after {width: 0;}#sk-container-id-1 div.sk-dashed-wrapped {border: 1px dashed gray;margin: 0 0.4em 0.5em 0.4em;box-sizing: border-box;padding-bottom: 0.4em;background-color: white;}#sk-container-id-1 div.sk-label label {font-family: monospace;font-weight: bold;display: inline-block;line-height: 1.2em;}#sk-container-id-1 div.sk-label-container {text-align: center;}#sk-container-id-1 div.sk-container {/* jupyter's `normalize.less` sets `[hidden] { display: none; }` but bootstrap.min.css set `[hidden] { display: none !important; }` so we also need the `!important` here to be able to override the default hidden behavior on the sphinx rendered scikit-learn.org. See: https://github.com/scikit-learn/scikit-learn/issues/21755 */display: inline-block !important;position: relative;}#sk-container-id-1 div.sk-text-repr-fallback {display: none;}</style><div id=\"sk-container-id-1\" class=\"sk-top-container\"><div class=\"sk-text-repr-fallback\"><pre>Pipeline(steps=[(&#x27;preprocessing&#x27;,\n",
       "                 FeatureUnion(transformer_list=[(&#x27;players_features&#x27;,\n",
       "                                                 ColumnTransformer(n_jobs=-1,\n",
       "                                                                   transformers=[(&#x27;player_demolished&#x27;,\n",
       "                                                                                  PlayerDemolished(),\n",
       "                                                                                  &lt;sklearn.compose._column_transformer.make_column_selector object at 0x7efccc8042e0&gt;),\n",
       "                                                                                 (&#x27;player_imputer&#x27;,\n",
       "                                                                                  SimpleImputer(fill_value=0.0,\n",
       "                                                                                                strategy=&#x27;constant&#x27;),\n",
       "                                                                                  &lt;sklearn.compose._column_transform...\n",
       "                                                (&#x27;ball_features&#x27;,\n",
       "                                                 ColumnTransformer(transformers=[(&#x27;ball_speed&#x27;,\n",
       "                                                                                  BallSpeed(),\n",
       "                                                                                  &lt;sklearn.compose._column_transformer.make_column_selector object at 0x7efccc804400&gt;),\n",
       "                                                                                 (&#x27;ball_distance_to_goal_posts&#x27;,\n",
       "                                                                                  DistanceBallGoalPosts(posts=[(0.0,\n",
       "                                                                                                                -100.0,\n",
       "                                                                                                                6.8),\n",
       "                                                                                                               (0.0,\n",
       "                                                                                                                100.0,\n",
       "                                                                                                                6.8)]),\n",
       "                                                                                  &lt;sklearn.compose._column_transformer.make_column_selector object at 0x7efccc804e80&gt;)]))],\n",
       "                              verbose=True))])</pre><b>In a Jupyter environment, please rerun this cell to show the HTML representation or trust the notebook. <br />On GitHub, the HTML representation is unable to render, please try loading this page with nbviewer.org.</b></div><div class=\"sk-container\" hidden><div class=\"sk-item sk-dashed-wrapped\"><div class=\"sk-label-container\"><div class=\"sk-label sk-toggleable\"><input class=\"sk-toggleable__control sk-hidden--visually\" id=\"sk-estimator-id-1\" type=\"checkbox\" ><label for=\"sk-estimator-id-1\" class=\"sk-toggleable__label sk-toggleable__label-arrow\">Pipeline</label><div class=\"sk-toggleable__content\"><pre>Pipeline(steps=[(&#x27;preprocessing&#x27;,\n",
       "                 FeatureUnion(transformer_list=[(&#x27;players_features&#x27;,\n",
       "                                                 ColumnTransformer(n_jobs=-1,\n",
       "                                                                   transformers=[(&#x27;player_demolished&#x27;,\n",
       "                                                                                  PlayerDemolished(),\n",
       "                                                                                  &lt;sklearn.compose._column_transformer.make_column_selector object at 0x7efccc8042e0&gt;),\n",
       "                                                                                 (&#x27;player_imputer&#x27;,\n",
       "                                                                                  SimpleImputer(fill_value=0.0,\n",
       "                                                                                                strategy=&#x27;constant&#x27;),\n",
       "                                                                                  &lt;sklearn.compose._column_transform...\n",
       "                                                (&#x27;ball_features&#x27;,\n",
       "                                                 ColumnTransformer(transformers=[(&#x27;ball_speed&#x27;,\n",
       "                                                                                  BallSpeed(),\n",
       "                                                                                  &lt;sklearn.compose._column_transformer.make_column_selector object at 0x7efccc804400&gt;),\n",
       "                                                                                 (&#x27;ball_distance_to_goal_posts&#x27;,\n",
       "                                                                                  DistanceBallGoalPosts(posts=[(0.0,\n",
       "                                                                                                                -100.0,\n",
       "                                                                                                                6.8),\n",
       "                                                                                                               (0.0,\n",
       "                                                                                                                100.0,\n",
       "                                                                                                                6.8)]),\n",
       "                                                                                  &lt;sklearn.compose._column_transformer.make_column_selector object at 0x7efccc804e80&gt;)]))],\n",
       "                              verbose=True))])</pre></div></div></div><div class=\"sk-serial\"><div class=\"sk-item sk-dashed-wrapped\"><div class=\"sk-label-container\"><div class=\"sk-label sk-toggleable\"><input class=\"sk-toggleable__control sk-hidden--visually\" id=\"sk-estimator-id-2\" type=\"checkbox\" ><label for=\"sk-estimator-id-2\" class=\"sk-toggleable__label sk-toggleable__label-arrow\">preprocessing: FeatureUnion</label><div class=\"sk-toggleable__content\"><pre>FeatureUnion(transformer_list=[(&#x27;players_features&#x27;,\n",
       "                                ColumnTransformer(n_jobs=-1,\n",
       "                                                  transformers=[(&#x27;player_demolished&#x27;,\n",
       "                                                                 PlayerDemolished(),\n",
       "                                                                 &lt;sklearn.compose._column_transformer.make_column_selector object at 0x7efccc8042e0&gt;),\n",
       "                                                                (&#x27;player_imputer&#x27;,\n",
       "                                                                 SimpleImputer(fill_value=0.0,\n",
       "                                                                               strategy=&#x27;constant&#x27;),\n",
       "                                                                 &lt;sklearn.compose._column_transformer.make_column_selector object at 0x...\n",
       "                               (&#x27;ball_features&#x27;,\n",
       "                                ColumnTransformer(transformers=[(&#x27;ball_speed&#x27;,\n",
       "                                                                 BallSpeed(),\n",
       "                                                                 &lt;sklearn.compose._column_transformer.make_column_selector object at 0x7efccc804400&gt;),\n",
       "                                                                (&#x27;ball_distance_to_goal_posts&#x27;,\n",
       "                                                                 DistanceBallGoalPosts(posts=[(0.0,\n",
       "                                                                                               -100.0,\n",
       "                                                                                               6.8),\n",
       "                                                                                              (0.0,\n",
       "                                                                                               100.0,\n",
       "                                                                                               6.8)]),\n",
       "                                                                 &lt;sklearn.compose._column_transformer.make_column_selector object at 0x7efccc804e80&gt;)]))],\n",
       "             verbose=True)</pre></div></div></div><div class=\"sk-parallel\"><div class=\"sk-parallel-item\"><div class=\"sk-item\"><div class=\"sk-label-container\"><div class=\"sk-label sk-toggleable\"><label>players_features</label></div></div><div class=\"sk-serial\"><div class=\"sk-item sk-dashed-wrapped\"><div class=\"sk-parallel\"><div class=\"sk-parallel-item\"><div class=\"sk-item\"><div class=\"sk-label-container\"><div class=\"sk-label sk-toggleable\"><input class=\"sk-toggleable__control sk-hidden--visually\" id=\"sk-estimator-id-3\" type=\"checkbox\" ><label for=\"sk-estimator-id-3\" class=\"sk-toggleable__label sk-toggleable__label-arrow\">player_demolished</label><div class=\"sk-toggleable__content\"><pre>&lt;sklearn.compose._column_transformer.make_column_selector object at 0x7efccc8042e0&gt;</pre></div></div></div><div class=\"sk-serial\"><div class=\"sk-item\"><div class=\"sk-estimator sk-toggleable\"><input class=\"sk-toggleable__control sk-hidden--visually\" id=\"sk-estimator-id-4\" type=\"checkbox\" ><label for=\"sk-estimator-id-4\" class=\"sk-toggleable__label sk-toggleable__label-arrow\">PlayerDemolished</label><div class=\"sk-toggleable__content\"><pre>PlayerDemolished()</pre></div></div></div></div></div></div><div class=\"sk-parallel-item\"><div class=\"sk-item\"><div class=\"sk-label-container\"><div class=\"sk-label sk-toggleable\"><input class=\"sk-toggleable__control sk-hidden--visually\" id=\"sk-estimator-id-5\" type=\"checkbox\" ><label for=\"sk-estimator-id-5\" class=\"sk-toggleable__label sk-toggleable__label-arrow\">player_imputer</label><div class=\"sk-toggleable__content\"><pre>&lt;sklearn.compose._column_transformer.make_column_selector object at 0x7efccc804cd0&gt;</pre></div></div></div><div class=\"sk-serial\"><div class=\"sk-item\"><div class=\"sk-estimator sk-toggleable\"><input class=\"sk-toggleable__control sk-hidden--visually\" id=\"sk-estimator-id-6\" type=\"checkbox\" ><label for=\"sk-estimator-id-6\" class=\"sk-toggleable__label sk-toggleable__label-arrow\">SimpleImputer</label><div class=\"sk-toggleable__content\"><pre>SimpleImputer(fill_value=0.0, strategy=&#x27;constant&#x27;)</pre></div></div></div></div></div></div><div class=\"sk-parallel-item\"><div class=\"sk-item\"><div class=\"sk-label-container\"><div class=\"sk-label sk-toggleable\"><input class=\"sk-toggleable__control sk-hidden--visually\" id=\"sk-estimator-id-7\" type=\"checkbox\" ><label for=\"sk-estimator-id-7\" class=\"sk-toggleable__label sk-toggleable__label-arrow\">player_speed</label><div class=\"sk-toggleable__content\"><pre>&lt;sklearn.compose._column_transformer.make_column_selector object at 0x7efccc804580&gt;</pre></div></div></div><div class=\"sk-serial\"><div class=\"sk-item\"><div class=\"sk-estimator sk-toggleable\"><input class=\"sk-toggleable__control sk-hidden--visually\" id=\"sk-estimator-id-8\" type=\"checkbox\" ><label for=\"sk-estimator-id-8\" class=\"sk-toggleable__label sk-toggleable__label-arrow\">PlayerSpeed</label><div class=\"sk-toggleable__content\"><pre>PlayerSpeed()</pre></div></div></div></div></div></div></div></div></div></div></div><div class=\"sk-parallel-item\"><div class=\"sk-item\"><div class=\"sk-label-container\"><div class=\"sk-label sk-toggleable\"><label>ball_features</label></div></div><div class=\"sk-serial\"><div class=\"sk-item sk-dashed-wrapped\"><div class=\"sk-parallel\"><div class=\"sk-parallel-item\"><div class=\"sk-item\"><div class=\"sk-label-container\"><div class=\"sk-label sk-toggleable\"><input class=\"sk-toggleable__control sk-hidden--visually\" id=\"sk-estimator-id-9\" type=\"checkbox\" ><label for=\"sk-estimator-id-9\" class=\"sk-toggleable__label sk-toggleable__label-arrow\">ball_speed</label><div class=\"sk-toggleable__content\"><pre>&lt;sklearn.compose._column_transformer.make_column_selector object at 0x7efccc804400&gt;</pre></div></div></div><div class=\"sk-serial\"><div class=\"sk-item\"><div class=\"sk-estimator sk-toggleable\"><input class=\"sk-toggleable__control sk-hidden--visually\" id=\"sk-estimator-id-10\" type=\"checkbox\" ><label for=\"sk-estimator-id-10\" class=\"sk-toggleable__label sk-toggleable__label-arrow\">BallSpeed</label><div class=\"sk-toggleable__content\"><pre>BallSpeed()</pre></div></div></div></div></div></div><div class=\"sk-parallel-item\"><div class=\"sk-item\"><div class=\"sk-label-container\"><div class=\"sk-label sk-toggleable\"><input class=\"sk-toggleable__control sk-hidden--visually\" id=\"sk-estimator-id-11\" type=\"checkbox\" ><label for=\"sk-estimator-id-11\" class=\"sk-toggleable__label sk-toggleable__label-arrow\">ball_distance_to_goal_posts</label><div class=\"sk-toggleable__content\"><pre>&lt;sklearn.compose._column_transformer.make_column_selector object at 0x7efccc804e80&gt;</pre></div></div></div><div class=\"sk-serial\"><div class=\"sk-item\"><div class=\"sk-estimator sk-toggleable\"><input class=\"sk-toggleable__control sk-hidden--visually\" id=\"sk-estimator-id-12\" type=\"checkbox\" ><label for=\"sk-estimator-id-12\" class=\"sk-toggleable__label sk-toggleable__label-arrow\">DistanceBallGoalPosts</label><div class=\"sk-toggleable__content\"><pre>DistanceBallGoalPosts(posts=[(0.0, -100.0, 6.8), (0.0, 100.0, 6.8)])</pre></div></div></div></div></div></div></div></div></div></div></div></div></div></div></div></div></div>"
      ],
      "text/plain": [
       "Pipeline(steps=[('preprocessing',\n",
       "                 FeatureUnion(transformer_list=[('players_features',\n",
       "                                                 ColumnTransformer(n_jobs=-1,\n",
       "                                                                   transformers=[('player_demolished',\n",
       "                                                                                  PlayerDemolished(),\n",
       "                                                                                  <sklearn.compose._column_transformer.make_column_selector object at 0x7efccc8042e0>),\n",
       "                                                                                 ('player_imputer',\n",
       "                                                                                  SimpleImputer(fill_value=0.0,\n",
       "                                                                                                strategy='constant'),\n",
       "                                                                                  <sklearn.compose._column_transform...\n",
       "                                                ('ball_features',\n",
       "                                                 ColumnTransformer(transformers=[('ball_speed',\n",
       "                                                                                  BallSpeed(),\n",
       "                                                                                  <sklearn.compose._column_transformer.make_column_selector object at 0x7efccc804400>),\n",
       "                                                                                 ('ball_distance_to_goal_posts',\n",
       "                                                                                  DistanceBallGoalPosts(posts=[(0.0,\n",
       "                                                                                                                -100.0,\n",
       "                                                                                                                6.8),\n",
       "                                                                                                               (0.0,\n",
       "                                                                                                                100.0,\n",
       "                                                                                                                6.8)]),\n",
       "                                                                                  <sklearn.compose._column_transformer.make_column_selector object at 0x7efccc804e80>)]))],\n",
       "                              verbose=True))])"
      ]
     },
     "execution_count": 25,
     "metadata": {},
     "output_type": "execute_result"
    }
   ],
   "source": [
    "pipe"
   ]
  },
  {
   "cell_type": "markdown",
   "metadata": {},
   "source": [
    "## 6. Pipeline Fit-Tansform"
   ]
  },
  {
   "cell_type": "code",
   "execution_count": 26,
   "metadata": {},
   "outputs": [
    {
     "name": "stdout",
     "output_type": "stream",
     "text": [
      "[FeatureUnion]  (step 1 of 2) Processing players_features, total=   8.4s\n",
      "[FeatureUnion] . (step 2 of 2) Processing ball_features, total=   0.6s\n"
     ]
    }
   ],
   "source": [
    "X_trans = DataFrame(pipe.fit_transform(X_train), columns=pipe.get_feature_names_out())"
   ]
  },
  {
   "cell_type": "code",
   "execution_count": null,
   "metadata": {},
   "outputs": [],
   "source": []
  }
 ],
 "metadata": {
  "kernelspec": {
   "display_name": "Python 3.9.13 ('kaggle-main')",
   "language": "python",
   "name": "python3"
  },
  "language_info": {
   "codemirror_mode": {
    "name": "ipython",
    "version": 3
   },
   "file_extension": ".py",
   "mimetype": "text/x-python",
   "name": "python",
   "nbconvert_exporter": "python",
   "pygments_lexer": "ipython3",
   "version": "3.9.13"
  },
  "orig_nbformat": 4,
  "vscode": {
   "interpreter": {
    "hash": "0fd4831d96ed66bca442039d176b10bc5346e2d2477946333cb9e6bec5a9b6e2"
   }
  }
 },
 "nbformat": 4,
 "nbformat_minor": 2
}
