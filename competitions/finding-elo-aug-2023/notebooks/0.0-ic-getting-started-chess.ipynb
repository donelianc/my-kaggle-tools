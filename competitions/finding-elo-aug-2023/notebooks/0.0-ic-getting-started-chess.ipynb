{
 "cells": [
  {
   "cell_type": "code",
   "execution_count": 1,
   "metadata": {},
   "outputs": [],
   "source": [
    "from collections import Counter\n",
    "\n",
    "import chess\n",
    "import chess.pgn"
   ]
  },
  {
   "cell_type": "code",
   "execution_count": 2,
   "metadata": {},
   "outputs": [],
   "source": [
    "pgn = open(\"../data/raw/data.pgn\")\n",
    "board = chess.Board()"
   ]
  },
  {
   "cell_type": "code",
   "execution_count": 3,
   "metadata": {},
   "outputs": [],
   "source": [
    "white_first_move = []\n",
    "\n",
    "while True:\n",
    "    board.reset()\n",
    "    game = chess.pgn.read_game(pgn)\n",
    "    \n",
    "    if game is None: break\n",
    "    \n",
    "    for i, move in enumerate(game.mainline_moves()):\n",
    "        if i > 0: break\n",
    "        pgn_move = board.variation_san([move])\n",
    "        if i == 0:\n",
    "            white_first_move.append(pgn_move)\n",
    "        board.push(move)"
   ]
  },
  {
   "cell_type": "code",
   "execution_count": 4,
   "metadata": {},
   "outputs": [
    {
     "data": {
      "text/plain": [
       "Counter({'1. e4': 22651,\n",
       "         '1. d4': 17784,\n",
       "         '1. Nf3': 4882,\n",
       "         '1. c4': 3534,\n",
       "         '1. g3': 414,\n",
       "         '1. b3': 296,\n",
       "         '1. f4': 206,\n",
       "         '1. Nc3': 94,\n",
       "         '1. b4': 66,\n",
       "         '1. a3': 22,\n",
       "         '1. e3': 20,\n",
       "         '1. d3': 14,\n",
       "         '1. g4': 12,\n",
       "         '1. c3': 5})"
      ]
     },
     "execution_count": 4,
     "metadata": {},
     "output_type": "execute_result"
    }
   ],
   "source": [
    "Counter(white_first_move)"
   ]
  },
  {
   "cell_type": "code",
   "execution_count": 5,
   "metadata": {},
   "outputs": [
    {
     "data": {
      "text/plain": [
       "Counter({'1...Nf6': 13954,\n",
       "         '1...c5': 11207,\n",
       "         '1...d5': 7438,\n",
       "         '1...e5': 5741,\n",
       "         '1...e6': 4300,\n",
       "         '1...c6': 2290,\n",
       "         '1...d6': 1900,\n",
       "         '1...g6': 1843,\n",
       "         '1...f5': 792,\n",
       "         '1...b6': 224,\n",
       "         '1...Nc6': 211,\n",
       "         '1...b5': 27,\n",
       "         '1...a6': 17,\n",
       "         '1...a5': 8,\n",
       "         '1...Nh6': 1,\n",
       "         '1...Na6': 1,\n",
       "         '1...g5': 1})"
      ]
     },
     "execution_count": 5,
     "metadata": {},
     "output_type": "execute_result"
    }
   ],
   "source": [
    "pgn = open(\"../data/raw/data.pgn\")\n",
    "black_first_move = []\n",
    "\n",
    "while True:\n",
    "    board.reset()\n",
    "    game = chess.pgn.read_game(pgn)\n",
    "    \n",
    "    if game is None: break\n",
    "    \n",
    "    for i, move in enumerate(game.mainline_moves()):\n",
    "        if i > 1: break\n",
    "        pgn_move = board.variation_san([move])\n",
    "        if i == 1:\n",
    "            black_first_move.append(pgn_move)\n",
    "        board.push(move)\n",
    "        \n",
    "Counter(black_first_move)"
   ]
  },
  {
   "cell_type": "code",
   "execution_count": null,
   "metadata": {},
   "outputs": [],
   "source": []
  }
 ],
 "metadata": {
  "kernelspec": {
   "display_name": "Python 3",
   "language": "python",
   "name": "python3"
  },
  "language_info": {
   "codemirror_mode": {
    "name": "ipython",
    "version": 3
   },
   "file_extension": ".py",
   "mimetype": "text/x-python",
   "name": "python",
   "nbconvert_exporter": "python",
   "pygments_lexer": "ipython3",
   "version": "3.10.7"
  },
  "orig_nbformat": 4
 },
 "nbformat": 4,
 "nbformat_minor": 2
}
