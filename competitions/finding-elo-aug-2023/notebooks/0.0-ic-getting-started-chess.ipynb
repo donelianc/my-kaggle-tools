{
 "cells": [
  {
   "cell_type": "markdown",
   "metadata": {},
   "source": [
    "# Discovering Insights from Chess Games\n",
    "\n",
    "**Primary Objective**: Perform exploratory analysis of chess game data to understand distributions of player skills, outcomes, openings, and basic play patterns before constructing an Elo prediction model.\n",
    "\n",
    "**Raw Data**: Portable Game Notation (PGN) files containing moves from 25,000 expert chess games, player Elo ratings, openings, and Stockfish evaluations.\n",
    "\n",
    "**Plan**:\n",
    "* Compute summary statistics on games: lengths, results, openings, theory depth\n",
    "* Visualize Elo distributions and correlations\n",
    "* Sample games across the Elo spectrum and inspect move patterns\n",
    "* Validate data integrity: correct notation, valid moves, matched results\n",
    "* Identify anomalies: incomplete games, duplicate matches, odd evaluations\n",
    "\n",
    "**Learnings**:\n",
    "* Game length, result, and opening trends for different Elo levels\n",
    "* Imbalances and biases in player populations or outcomes\n",
    "* Adherence to opening theory by players of varying skill\n",
    "* General play patterns and trajectories in games\n",
    "* Data quality and completeness for modeling\n",
    "* Peculiar games or moves that require investigation\n",
    "\n",
    "First, we gotta check out how good the players are, what moves they tend to make, and how their games usually turn out. Once we've got a good sense of all that, we can dive deeper into the data and start figuring out what's really going on. This will help us spot any problems and establish a solid analysis foundation."
   ]
  },
  {
   "cell_type": "code",
   "execution_count": 1,
   "metadata": {},
   "outputs": [
    {
     "data": {
      "text/plain": [
       "['/Users/ian.castillo/Documents/my-kaggle-tools/competitions/finding-elo-aug-2023']"
      ]
     },
     "execution_count": 1,
     "metadata": {},
     "output_type": "execute_result"
    }
   ],
   "source": [
    "from os.path import abspath\n",
    "from sys import path as sys_path\n",
    "\n",
    "sys_path.append(abspath(\"..\"))\n",
    "[p for p in sys_path if p.endswith(\"finding-elo-aug-2023\")]"
   ]
  },
  {
   "cell_type": "markdown",
   "metadata": {},
   "source": [
    "### 0. Libraries"
   ]
  },
  {
   "cell_type": "code",
   "execution_count": 2,
   "metadata": {},
   "outputs": [],
   "source": [
    "# import chess\n",
    "import chess.pgn\n",
    "import pandas as pd\n",
    "from src.features.main import pgn_to_dataframe, new_pgn_to_dataframe"
   ]
  },
  {
   "cell_type": "code",
   "execution_count": 3,
   "metadata": {},
   "outputs": [],
   "source": [
    "# Set the display option to show all columns\n",
    "pd.set_option(\"display.max_columns\", None)"
   ]
  },
  {
   "cell_type": "markdown",
   "metadata": {},
   "source": [
    "### 1. Get PGN Chess Data"
   ]
  },
  {
   "cell_type": "code",
   "execution_count": null,
   "metadata": {},
   "outputs": [],
   "source": [
    "PGN_FILE = \"../data/raw/medium_data.pgn\""
   ]
  },
  {
   "cell_type": "code",
   "execution_count": null,
   "metadata": {},
   "outputs": [],
   "source": [
    "pgn = open(PGN_FILE)\n",
    "game_count = 0\n",
    "moves_per_game = []\n",
    "\n",
    "while True:\n",
    "    game = chess.pgn.read_game(pgn)\n",
    "    if game is None:\n",
    "        break\n",
    "    game_count += 1\n",
    "    moves_per_game.append(len(list(game.mainline_moves())))\n",
    "\n",
    "pgn.close()"
   ]
  },
  {
   "cell_type": "code",
   "execution_count": null,
   "metadata": {},
   "outputs": [],
   "source": [
    "print(f\"The number of games in the file is: {game_count:,d}\")"
   ]
  },
  {
   "cell_type": "markdown",
   "metadata": {},
   "source": [
    "### 2. Distribution of Total Moves Per Game"
   ]
  },
  {
   "cell_type": "code",
   "execution_count": null,
   "metadata": {},
   "outputs": [],
   "source": [
    "print(\n",
    "    f\"Average number of moves per game: {sum(moves_per_game)/len(moves_per_game):.2f}\"\n",
    ")\n",
    "\n",
    "print(f\"Min number of moves per game: {min(moves_per_game):,d}\")\n",
    "print(\n",
    "    f\"25th percentile of moves per game: {sorted(moves_per_game)[int(len(moves_per_game)*0.25)]:,d}\"\n",
    ")\n",
    "print(\n",
    "    f\"50th percentile of moves per game: {sorted(moves_per_game)[int(len(moves_per_game)*0.50)]:,d}\"\n",
    ")\n",
    "print(\n",
    "    f\"75th percentile of moves per game: {sorted(moves_per_game)[int(len(moves_per_game)*0.75)]:,d}\"\n",
    ")\n",
    "print(f\"Max number of moves per game: {max(moves_per_game):,d}\")"
   ]
  },
  {
   "cell_type": "code",
   "execution_count": null,
   "metadata": {},
   "outputs": [],
   "source": [
    "import matplotlib.pyplot as plt\n",
    "import numpy as np\n",
    "\n",
    "plt.rcParams[\"figure.figsize\"] = [12, 6]\n",
    "plt.style.use(\"ggplot\")\n",
    "\n",
    "# Calculate the mean and median of the distribution and return float values\n",
    "mean_moves = np.mean(moves_per_game).astype(float)\n",
    "median_moves = np.median(moves_per_game).astype(float)\n",
    "\n",
    "# Create a histogram to visualize the distribution of moves per game\n",
    "plt.hist(moves_per_game, bins=range(min(moves_per_game), max(moves_per_game) + 1))\n",
    "plt.title(\"Distribution of Moves per Game\")\n",
    "plt.xlabel(\"Number of Moves\")\n",
    "plt.ylabel(\"Frequency\")\n",
    "\n",
    "# Add vertical lines to indicate the mean and median\n",
    "plt.axvline(\n",
    "    mean_moves, color=\"xkcd:sky blue\", linestyle=\"dashed\", linewidth=1, label=\"Mean\"\n",
    ")\n",
    "plt.axvline(median_moves, color=\"navy\", linestyle=\"dashed\", linewidth=1, label=\"Median\")\n",
    "\n",
    "# Add a legend to the plot\n",
    "plt.legend()\n",
    "\n",
    "# Show the plot\n",
    "plt.show()"
   ]
  },
  {
   "cell_type": "code",
   "execution_count": null,
   "metadata": {},
   "outputs": [],
   "source": [
    "less_than_mean = sum(\n",
    "    [1 for x in moves_per_game if x < sum(moves_per_game) / len(moves_per_game)]\n",
    ")\n",
    "total_games = len(moves_per_game)\n",
    "\n",
    "print(f\"Proportion of games shorter than average: {less_than_mean/total_games:.1%}\")"
   ]
  },
  {
   "cell_type": "markdown",
   "metadata": {},
   "source": [
    "It appears that the distribution of total moves per game has a peak around 80 moves. This suggests that most of the games in the PGN file have around 100 moves. The range of the x-axis indicates that there are games with as few as 1 moves and as many as 300 moves.\n",
    "\n",
    "Some interesting insights that can be derived from this distribution include:\n",
    "\n",
    "- [x] The average length of a game in terms of the number of moves.\n",
    "- [x] The proportion of games that are shorter or longer than the average game length.\n",
    "- [ ] The presence of any outliers or unusual patterns in the distribution."
   ]
  },
  {
   "cell_type": "markdown",
   "metadata": {},
   "source": [
    "#### 2. 1. Deep Dive into Game Movements Distribution"
   ]
  },
  {
   "cell_type": "markdown",
   "metadata": {},
   "source": [
    "To investigate the data further, let's ask ourselves questions such as:\n",
    "\n",
    "- [ ] Are there any patterns or trends in the distribution of moves per game? *To answer this question, you can use visualization techniques such as histograms and box plots to explore the distribution of moves per game. You can also use statistical tests such as the chi-squared test or the Kolmogorov-Smirnov test to determine if the distribution follows a known pattern or if there are any significant differences between groups.*\n",
    "\n",
    "- [ ] Are there any differences in the distribution of moves per game for different players, openings, or other factors? *To answer this question, you can use regression analysis or analysis of variance (ANOVA) to investigate the relationship between the number of moves per game and other variables such as player skill level, opening choice, or time control. This will help you determine if there are any significant differences in the distribution of moves per game for different groups.*\n",
    "\n",
    "- [ ] Are there any unusually short or long games, and if so, what might explain these outliers? *To answer this question, you can use descriptive statistics to identify any outliers in the data. You can then use techniques such as cluster analysis or factor analysis to investigate the characteristics of these outliers and determine what might explain their unusual length.*"
   ]
  },
  {
   "cell_type": "code",
   "execution_count": null,
   "metadata": {},
   "outputs": [],
   "source": []
  },
  {
   "cell_type": "markdown",
   "metadata": {},
   "source": [
    "### 3. Feature Engineering"
   ]
  },
  {
   "cell_type": "markdown",
   "metadata": {},
   "source": [
    "Converting the PGN to a `pandas.DataFrame` can enable lots of additional analysis on the chess games. A few other ideas for enhancements:\n",
    "\n",
    "- [x] Add columns for additional info from the PGN headers like player names, ratings, dates, etc\n",
    "- [x] Track the moves for each individual player rather than just total moves\n",
    "- [x] Add columns for other metrics like number of captures, checks, etc\n",
    "- [x] Add columns for metrics related to openings\n",
    "- [ ] Check for how many mate in N occurances there are in each game"
   ]
  },
  {
   "cell_type": "code",
   "execution_count": 4,
   "metadata": {},
   "outputs": [
    {
     "name": "stderr",
     "output_type": "stream",
     "text": [
      "Processing games: 100%|██████████| 260/260 [4:42:13<00:00, 65.13s/it]   \n"
     ]
    }
   ],
   "source": [
    "PGN_FILE = \"../data/raw/small_data.pgn\"\n",
    "raw_df = new_pgn_to_dataframe(pgn_file=PGN_FILE, save_interval=10, save_location='../data/interim/small_data.csv')"
   ]
  },
  {
   "cell_type": "code",
   "execution_count": 5,
   "metadata": {},
   "outputs": [
    {
     "name": "stdout",
     "output_type": "stream",
     "text": [
      "<class 'pandas.core.frame.DataFrame'>\n",
      "RangeIndex: 1000 entries, 0 to 999\n",
      "Data columns (total 34 columns):\n",
      " #   Column                       Non-Null Count  Dtype  \n",
      "---  ------                       --------------  -----  \n",
      " 0   wp_rating                    1000 non-null   int64  \n",
      " 1   bp_rating                    1000 non-null   int64  \n",
      " 2   result                       1000 non-null   object \n",
      " 3   total_moves                  1000 non-null   int64  \n",
      " 4   wp_total_moves               1000 non-null   int64  \n",
      " 5   bp_total_moves               1000 non-null   int64  \n",
      " 6   wp_total_P_moves             1000 non-null   int64  \n",
      " 7   bp_total_P_moves             1000 non-null   int64  \n",
      " 8   wp_total_N_moves             1000 non-null   int64  \n",
      " 9   bp_total_N_moves             1000 non-null   int64  \n",
      " 10  wp_total_B_moves             1000 non-null   int64  \n",
      " 11  bp_total_B_moves             1000 non-null   int64  \n",
      " 12  wp_total_R_moves             1000 non-null   int64  \n",
      " 13  bp_total_R_moves             1000 non-null   int64  \n",
      " 14  wp_total_Q_moves             1000 non-null   int64  \n",
      " 15  bp_total_Q_moves             1000 non-null   int64  \n",
      " 16  wp_total_K_moves             1000 non-null   int64  \n",
      " 17  bp_total_K_moves             1000 non-null   int64  \n",
      " 18  wp_total_checks              1000 non-null   int64  \n",
      " 19  bp_total_checks              1000 non-null   int64  \n",
      " 20  wp_total_captures            1000 non-null   int64  \n",
      " 21  bp_total_captures            1000 non-null   int64  \n",
      " 22  wp_total_promotions          1000 non-null   int64  \n",
      " 23  bp_total_promotions          1000 non-null   int64  \n",
      " 24  wp_bool_castles              1000 non-null   bool   \n",
      " 25  bp_bool_castles              1000 non-null   bool   \n",
      " 26  opening_name                 999 non-null    object \n",
      " 27  opening_last_move            999 non-null    float64\n",
      " 28  opening_last_known_move      999 non-null    float64\n",
      " 29  opening_moves_after_novelty  1000 non-null   int64  \n",
      " 30  opening_novelty_player       845 non-null    object \n",
      " 31  opening_novelty_piece        845 non-null    object \n",
      " 32  opening_novelty_square       845 non-null    object \n",
      " 33  opening_novelty_move         845 non-null    object \n",
      "dtypes: bool(2), float64(2), int64(24), object(6)\n",
      "memory usage: 252.1+ KB\n"
     ]
    }
   ],
   "source": [
    "raw_df.info()"
   ]
  },
  {
   "cell_type": "code",
   "execution_count": null,
   "metadata": {},
   "outputs": [],
   "source": []
  }
 ],
 "metadata": {
  "kernelspec": {
   "display_name": "Python 3",
   "language": "python",
   "name": "python3"
  },
  "language_info": {
   "codemirror_mode": {
    "name": "ipython",
    "version": 3
   },
   "file_extension": ".py",
   "mimetype": "text/x-python",
   "name": "python",
   "nbconvert_exporter": "python",
   "pygments_lexer": "ipython3",
   "version": "3.10.7"
  },
  "orig_nbformat": 4
 },
 "nbformat": 4,
 "nbformat_minor": 2
}
