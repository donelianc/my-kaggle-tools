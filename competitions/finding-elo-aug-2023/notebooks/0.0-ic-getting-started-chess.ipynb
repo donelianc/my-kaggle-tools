{
 "cells": [
  {
   "cell_type": "markdown",
   "metadata": {},
   "source": [
    "# Discovering Insights from Chess Games\n",
    "\n",
    "**Primary Objective**: Perform exploratory analysis of chess game data to understand distributions of player skills, outcomes, openings, and basic play patterns before constructing an Elo prediction model.\n",
    "\n",
    "**Raw Data**: Portable Game Notation (PGN) files containing moves from 25,000 expert chess games, player Elo ratings, openings, and Stockfish evaluations.\n",
    "\n",
    "**Plan**:\n",
    "* Compute summary statistics on games: lengths, results, openings, theory depth\n",
    "* Visualize Elo distributions and correlations\n",
    "* Sample games across the Elo spectrum and inspect move patterns\n",
    "* Validate data integrity: correct notation, valid moves, matched results\n",
    "* Identify anomalies: incomplete games, duplicate matches, odd evaluations\n",
    "\n",
    "**Learnings**:\n",
    "* Game length, result, and opening trends for different Elo levels\n",
    "* Imbalances and biases in player populations or outcomes\n",
    "* Adherence to opening theory by players of varying skill\n",
    "* General play patterns and trajectories in games\n",
    "* Data quality and completeness for modeling\n",
    "* Peculiar games or moves that require investigation\n",
    "\n",
    "First, we gotta check out how good the players are, what moves they tend to make, and how their games usually turn out. Once we've got a good sense of all that, we can dive deeper into the data and start figuring out what's really going on. This will help us spot any problems and establish a solid analysis foundation."
   ]
  },
  {
   "cell_type": "markdown",
   "metadata": {},
   "source": [
    "### 0. Libraries"
   ]
  },
  {
   "cell_type": "code",
   "execution_count": 2,
   "metadata": {},
   "outputs": [],
   "source": [
    "from collections import Counter\n",
    "from time import sleep\n",
    "\n",
    "import chess\n",
    "import chess.pgn\n",
    "\n",
    "import pandas as pd"
   ]
  },
  {
   "cell_type": "code",
   "execution_count": 3,
   "metadata": {},
   "outputs": [],
   "source": [
    "# Set the display option to show all columns\n",
    "pd.set_option('display.max_columns', None)"
   ]
  },
  {
   "cell_type": "markdown",
   "metadata": {},
   "source": [
    "### 1. Get PGN Chess Data"
   ]
  },
  {
   "cell_type": "code",
   "execution_count": 4,
   "metadata": {},
   "outputs": [],
   "source": [
    "PGN_FILE = \"../data/raw/small_data.pgn\""
   ]
  },
  {
   "cell_type": "code",
   "execution_count": null,
   "metadata": {},
   "outputs": [],
   "source": [
    "pgn = open(PGN_FILE)\n",
    "game_count = 0\n",
    "moves_per_game = []\n",
    "\n",
    "while True:\n",
    "    game = chess.pgn.read_game(pgn)\n",
    "    if game is None:\n",
    "        break\n",
    "    game_count += 1\n",
    "    moves_per_game.append(len(list(game.mainline_moves())))\n",
    "\n",
    "pgn.close()\n"
   ]
  },
  {
   "cell_type": "code",
   "execution_count": null,
   "metadata": {},
   "outputs": [],
   "source": [
    "print(f\"The number of games in the file is: {game_count:,d}\")"
   ]
  },
  {
   "cell_type": "markdown",
   "metadata": {},
   "source": [
    "### 2. Distribution of Total Moves Per Game"
   ]
  },
  {
   "cell_type": "code",
   "execution_count": null,
   "metadata": {},
   "outputs": [],
   "source": [
    "print(f\"Average number of moves per game: {sum(moves_per_game)/len(moves_per_game):.2f}\")\n",
    "\n",
    "print(f\"Min number of moves per game: {min(moves_per_game):,d}\")\n",
    "print(f\"25th percentile of moves per game: {sorted(moves_per_game)[int(len(moves_per_game)*0.25)]:,d}\")\n",
    "print(f\"50th percentile of moves per game: {sorted(moves_per_game)[int(len(moves_per_game)*0.50)]:,d}\")\n",
    "print(f\"75th percentile of moves per game: {sorted(moves_per_game)[int(len(moves_per_game)*0.75)]:,d}\")\n",
    "print(f\"Max number of moves per game: {max(moves_per_game):,d}\")"
   ]
  },
  {
   "cell_type": "code",
   "execution_count": null,
   "metadata": {},
   "outputs": [],
   "source": [
    "import matplotlib.pyplot as plt\n",
    "import numpy as np\n",
    "\n",
    "plt.rcParams['figure.figsize'] = [12, 6]\n",
    "plt.style.use('ggplot')\n",
    "\n",
    "# Calculate the mean and median of the distribution and return float values\n",
    "mean_moves = np.mean(moves_per_game).astype(float)\n",
    "median_moves = np.median(moves_per_game).astype(float)\n",
    "\n",
    "# Create a histogram to visualize the distribution of moves per game\n",
    "plt.hist(moves_per_game, bins=range(min(moves_per_game), max(moves_per_game) + 1))\n",
    "plt.title(\"Distribution of Moves per Game\")\n",
    "plt.xlabel(\"Number of Moves\")\n",
    "plt.ylabel(\"Frequency\")\n",
    "\n",
    "# Add vertical lines to indicate the mean and median\n",
    "plt.axvline(mean_moves, color='xkcd:sky blue', linestyle='dashed', linewidth=1, label='Mean')\n",
    "plt.axvline(median_moves, color='navy', linestyle='dashed', linewidth=1, label='Median')\n",
    "\n",
    "# Add a legend to the plot\n",
    "plt.legend()\n",
    "\n",
    "# Show the plot\n",
    "plt.show()"
   ]
  },
  {
   "cell_type": "code",
   "execution_count": null,
   "metadata": {},
   "outputs": [],
   "source": [
    "print(f\"Proportion of games shorter than average: {sum([1 for x in moves_per_game if x < sum(moves_per_game)/len(moves_per_game)]) / len(moves_per_game):.1%}\")"
   ]
  },
  {
   "cell_type": "markdown",
   "metadata": {},
   "source": [
    "It appears that the distribution of total moves per game has a peak around 80 moves. This suggests that most of the games in the PGN file have around 100 moves. The range of the x-axis indicates that there are games with as few as 1 moves and as many as 300 moves.\n",
    "\n",
    "Some interesting insights that can be derived from this distribution include:\n",
    "\n",
    "- [x] The average length of a game in terms of the number of moves.\n",
    "- [x] The proportion of games that are shorter or longer than the average game length.\n",
    "- [ ] The presence of any outliers or unusual patterns in the distribution."
   ]
  },
  {
   "cell_type": "markdown",
   "metadata": {},
   "source": [
    "#### 2. 1. Deep Dive into Game Movements Distribution"
   ]
  },
  {
   "cell_type": "markdown",
   "metadata": {},
   "source": [
    "To investigate the data further, let's ask ourselves questions such as:\n",
    "\n",
    "- [ ] Are there any patterns or trends in the distribution of moves per game? *To answer this question, you can use visualization techniques such as histograms and box plots to explore the distribution of moves per game. You can also use statistical tests such as the chi-squared test or the Kolmogorov-Smirnov test to determine if the distribution follows a known pattern or if there are any significant differences between groups.*\n",
    "\n",
    "- [ ] Are there any differences in the distribution of moves per game for different players, openings, or other factors? *To answer this question, you can use regression analysis or analysis of variance (ANOVA) to investigate the relationship between the number of moves per game and other variables such as player skill level, opening choice, or time control. This will help you determine if there are any significant differences in the distribution of moves per game for different groups.*\n",
    "\n",
    "- [ ] Are there any unusually short or long games, and if so, what might explain these outliers? *To answer this question, you can use descriptive statistics to identify any outliers in the data. You can then use techniques such as cluster analysis or factor analysis to investigate the characteristics of these outliers and determine what might explain their unusual length.*"
   ]
  },
  {
   "cell_type": "code",
   "execution_count": null,
   "metadata": {},
   "outputs": [],
   "source": [
    "# Functions to extract key data from each game\n",
    "def get_player_ratings(game):\n",
    "    \"\"\"Get player Elo ratings from PGN headers\"\"\"\n",
    "    white_rating = game.headers['WhiteElo']\n",
    "    black_rating = game.headers['BlackElo']\n",
    "    \n",
    "    return {\n",
    "        'wp_rating': white_rating,\n",
    "        'bp_rating': black_rating\n",
    "    }"
   ]
  },
  {
   "cell_type": "code",
   "execution_count": null,
   "metadata": {},
   "outputs": [],
   "source": [
    "def get_game_info(game):\n",
    "\n",
    "    # Get total moves from perspective of white\n",
    "    total_moves = len(list(game.mainline_moves())) \n",
    "\n",
    "    # Initialize variables\n",
    "    white_moves = None\n",
    "    black_moves = None\n",
    "    white_won = None\n",
    "\n",
    "    # Determine outcome\n",
    "    result = game.headers['Result']\n",
    "    if result == '1-0':\n",
    "        white_won = True\n",
    "    elif result == '0-1':\n",
    "        white_won = False\n",
    "\n",
    "    # Calculate white moves\n",
    "    white_moves = (total_moves // 2) + (total_moves % 2)\n",
    "\n",
    "    # Calculate black moves based on parity and outcome\n",
    "    if white_won is None:\n",
    "        if total_moves % 2 != 0:\n",
    "            black_moves = white_moves - 1\n",
    "        else:\n",
    "            black_moves = white_moves\n",
    "    elif white_won:\n",
    "        black_moves = white_moves - 1\n",
    "    else:\n",
    "        black_moves = white_moves\n",
    "        \n",
    "    return {\n",
    "        'result': result,\n",
    "        'total_moves': total_moves,\n",
    "        'wp_moves': white_moves,\n",
    "        'bp_moves': black_moves\n",
    "    }"
   ]
  },
  {
   "cell_type": "code",
   "execution_count": null,
   "metadata": {},
   "outputs": [],
   "source": [
    "def get_piece_moves(game):\n",
    "    \"\"\"Track number of moves by piece type and player\"\"\"\n",
    "    \n",
    "    # Initialize count for each piece\n",
    "    cols = ['P', 'N', 'B', 'R', 'Q', 'K']\n",
    "    wp_moves = {col: 0 for col in cols}\n",
    "    bp_moves = {col: 0 for col in cols}\n",
    "\n",
    "    # Tally moves by piece based on turn\n",
    "    board = game.board()\n",
    "    for move in game.mainline_moves():\n",
    "        piece = board.piece_at(move.from_square).symbol().upper()\n",
    "        if board.turn:\n",
    "            wp_moves[piece] += 1\n",
    "        else:\n",
    "            bp_moves[piece] += 1\n",
    "        board.push(move)\n",
    "\n",
    "    # Build columns for dataframe  \n",
    "    df_moves = {}\n",
    "    for col in cols:\n",
    "        df_moves[f'wp_{col}'] = wp_moves[col] \n",
    "        df_moves[f'bp_{col}'] = bp_moves[col]\n",
    "\n",
    "    return df_moves"
   ]
  },
  {
   "cell_type": "code",
   "execution_count": null,
   "metadata": {},
   "outputs": [],
   "source": [
    "def get_checks(game):\n",
    "    \"\"\"Count checks performed by each player\"\"\"\n",
    "\n",
    "    # Initialize counters \n",
    "    wp_checks = 0\n",
    "    bp_checks = 0\n",
    "\n",
    "    # Iterate through moves\n",
    "    board = game.board()\n",
    "    for move in game.mainline_moves():\n",
    "        \n",
    "        # Make move and continue\n",
    "        board.push(move)\n",
    "\n",
    "        # Check if move is a check\n",
    "        if board.is_check():\n",
    "            if board.turn:\n",
    "                wp_checks += 1\n",
    "            else:\n",
    "                bp_checks += 1\n",
    "                \n",
    "\n",
    "    return {\n",
    "        'wp_checks': wp_checks,\n",
    "        'bp_checks': bp_checks\n",
    "    }"
   ]
  },
  {
   "cell_type": "code",
   "execution_count": null,
   "metadata": {},
   "outputs": [],
   "source": [
    "def get_captures(game):\n",
    "    \n",
    "    # Initialize counters\n",
    "    wp_captures = 0\n",
    "    bp_captures = 0\n",
    "    \n",
    "    # Iterate through moves\n",
    "    board = game.board()\n",
    "    for move in game.mainline_moves():\n",
    "        \n",
    "        \n",
    "        # Check if capture occurred\n",
    "        if board.is_capture(move):\n",
    "            if board.turn:\n",
    "                wp_captures += 1\n",
    "            else:\n",
    "                bp_captures += 1\n",
    "                \n",
    "        board.push(move)\n",
    "        \n",
    "    return {\n",
    "        'wp_captures': wp_captures,\n",
    "        'bp_captures': bp_captures\n",
    "    }"
   ]
  },
  {
   "cell_type": "code",
   "execution_count": null,
   "metadata": {},
   "outputs": [],
   "source": [
    "def pgn_to_dataframe(pgn_file):\n",
    "\n",
    "    games = []\n",
    "    \n",
    "    # Load PGN\n",
    "    pgn = open(pgn_file)\n",
    "\n",
    "    # Iterate over games\n",
    "    while True:\n",
    "        game = chess.pgn.read_game(pgn)\n",
    "        if game is None:\n",
    "            break\n",
    "            \n",
    "        # Extract info \n",
    "        game_info = get_game_info(game)\n",
    "        piece_moves = get_piece_moves(game)\n",
    "        check_counts = get_checks(game)\n",
    "        capture_counts = get_captures(game)\n",
    "        player_ratings = get_player_ratings(game)\n",
    "        \n",
    "        # Compile game data\n",
    "        games.append({**game_info, **piece_moves, **check_counts, **capture_counts, **player_ratings})\n",
    "\n",
    "    # Build DataFrame\n",
    "    return pd.DataFrame(games)"
   ]
  },
  {
   "cell_type": "markdown",
   "metadata": {},
   "source": [
    "Converting the PGN to a `pandas.DataFrame` can enable lots of additional analysis on the chess games. A few other ideas for enhancements:\n",
    "\n",
    "- [x] Add columns for additional info from the PGN headers like player names, ratings, dates, etc\n",
    "- [x] Track the moves for each individual player rather than just total moves\n",
    "- [x] Add columns for other metrics like number of captures, checks, etc\n",
    "- [ ] Add columns for metrics related to openings"
   ]
  },
  {
   "cell_type": "code",
   "execution_count": null,
   "metadata": {},
   "outputs": [],
   "source": [
    "raw_df = pgn_to_dataframe(PGN_FILE)"
   ]
  },
  {
   "cell_type": "code",
   "execution_count": null,
   "metadata": {},
   "outputs": [],
   "source": [
    "raw_df"
   ]
  },
  {
   "cell_type": "code",
   "execution_count": null,
   "metadata": {},
   "outputs": [],
   "source": [
    "# TODO: Optimize for-loop, do we need to iterate over all movements?\n",
    "# TODO: Integrate for-loop and final feature extraction into one function\n",
    "# TODO: Add features to the primary dataframe"
   ]
  },
  {
   "cell_type": "code",
   "execution_count": 92,
   "metadata": {},
   "outputs": [],
   "source": [
    "import requests\n",
    "\n",
    "def get_opening_name(fen): \n",
    "    response = requests.get(f\"https://explorer.lichess.ovh/lichess?fen={fen}\")\n",
    "\n",
    "    # Parse the JSON response\n",
    "    data = response.json()\n",
    "\n",
    "    # Extract the opening name\n",
    "    try: \n",
    "        opening_name = data[\"opening\"][\"name\"]\n",
    "    except TypeError as e:\n",
    "        opening_name = None\n",
    "    \n",
    "    return opening_name"
   ]
  },
  {
   "cell_type": "code",
   "execution_count": 89,
   "metadata": {},
   "outputs": [
    {
     "name": "stdout",
     "output_type": "stream",
     "text": [
      "000 Turn: None, Opening: None\n",
      "001 Turn: wp, Opening: King's Pawn Game\n",
      "002 Turn: bp, Opening: French Defense\n",
      "003 Turn: wp, Opening: French Defense: Normal Variation\n",
      "004 Turn: bp, Opening: French Defense\n",
      "005 Turn: wp, Opening: French Defense: Paulsen Variation\n",
      "006 Turn: bp, Opening: French Defense: Classical Variation\n",
      "007 Turn: wp, Opening: French Defense: Burn Variation\n",
      "008 Turn: bp, Opening: French Defense: MacCutcheon Variation\n",
      "009 Turn: wp, Opening: French Defense: MacCutcheon Variation, Exchange Variation\n",
      "010 Turn: bp, Opening: None\n",
      "011 Turn: wp, Opening: None\n",
      "012 Turn: bp, Opening: None\n"
     ]
    }
   ],
   "source": [
    "pgn = open(PGN_FILE)\n",
    "\n",
    "game = chess.pgn.read_game(pgn)\n",
    "\n",
    "opening_none = []\n",
    "player_turn = None\n",
    "\n",
    "# Extract FEN after move_num\n",
    "board = game.board()\n",
    "for i, move in enumerate(game.mainline_moves()):\n",
    "    \n",
    "    fen = board.fen()\n",
    "    \n",
    "    if i == 0:\n",
    "        opening = None\n",
    "    else:\n",
    "        sleep(5)\n",
    "        opening = get_opening_name(fen)\n",
    "    \n",
    "    # print(fen)\n",
    "    print(f\"{i:03d} Turn: {player_turn}, Opening: {opening}\")\n",
    "    \n",
    "    if opening is None:\n",
    "        opening_none.append(1)\n",
    "    else:\n",
    "        opening_none.append(0)\n",
    "    if sum(opening_none[-3:]) == 3:\n",
    "        break\n",
    "    \n",
    "    player_turn = fen.split(' ')[1]+'p'\n",
    "    board.push(move)\n"
   ]
  },
  {
   "cell_type": "code",
   "execution_count": null,
   "metadata": {},
   "outputs": [],
   "source": []
  },
  {
   "cell_type": "code",
   "execution_count": null,
   "metadata": {},
   "outputs": [],
   "source": []
  },
  {
   "cell_type": "code",
   "execution_count": null,
   "metadata": {},
   "outputs": [],
   "source": []
  },
  {
   "cell_type": "code",
   "execution_count": null,
   "metadata": {},
   "outputs": [],
   "source": []
  },
  {
   "cell_type": "code",
   "execution_count": null,
   "metadata": {},
   "outputs": [],
   "source": []
  },
  {
   "cell_type": "code",
   "execution_count": null,
   "metadata": {},
   "outputs": [],
   "source": []
  },
  {
   "cell_type": "code",
   "execution_count": null,
   "metadata": {},
   "outputs": [],
   "source": []
  },
  {
   "cell_type": "code",
   "execution_count": null,
   "metadata": {},
   "outputs": [],
   "source": [
    "pgn = open(\"../data/raw/data.pgn\")\n",
    "board = chess.Board()\n",
    "white_first_move = []\n",
    "\n",
    "while True:\n",
    "    board.reset()\n",
    "    game = chess.pgn.read_game(pgn)\n",
    "    \n",
    "    if game is None: break\n",
    "    \n",
    "    for i, move in enumerate(game.mainline_moves()):\n",
    "        if i > 0: break\n",
    "        pgn_move = board.variation_san([move])\n",
    "        if i == 0:\n",
    "            white_first_move.append(pgn_move)\n",
    "        board.push(move)\n",
    "\n",
    "pgn.close()"
   ]
  },
  {
   "cell_type": "code",
   "execution_count": null,
   "metadata": {},
   "outputs": [],
   "source": [
    "Counter(white_first_move)"
   ]
  },
  {
   "cell_type": "code",
   "execution_count": null,
   "metadata": {},
   "outputs": [],
   "source": [
    "pgn = open(\"../data/raw/data.pgn\")\n",
    "black_first_move = []\n",
    "\n",
    "while True:\n",
    "    board.reset()\n",
    "    game = chess.pgn.read_game(pgn)\n",
    "    \n",
    "    if game is None: break\n",
    "    \n",
    "    for i, move in enumerate(game.mainline_moves()):\n",
    "        if i > 1: break\n",
    "        pgn_move = board.variation_san([move])\n",
    "        if i == 1:\n",
    "            black_first_move.append(pgn_move)\n",
    "        board.push(move)\n",
    "        \n",
    "Counter(black_first_move)"
   ]
  },
  {
   "cell_type": "code",
   "execution_count": null,
   "metadata": {},
   "outputs": [],
   "source": []
  }
 ],
 "metadata": {
  "kernelspec": {
   "display_name": "Python 3",
   "language": "python",
   "name": "python3"
  },
  "language_info": {
   "codemirror_mode": {
    "name": "ipython",
    "version": 3
   },
   "file_extension": ".py",
   "mimetype": "text/x-python",
   "name": "python",
   "nbconvert_exporter": "python",
   "pygments_lexer": "ipython3",
   "version": "3.10.7"
  },
  "orig_nbformat": 4
 },
 "nbformat": 4,
 "nbformat_minor": 2
}
