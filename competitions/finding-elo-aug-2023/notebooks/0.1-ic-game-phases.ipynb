{
 "cells": [
  {
   "cell_type": "code",
   "execution_count": null,
   "metadata": {},
   "outputs": [],
   "source": [
    "from os.path import abspath\n",
    "from sys import path as sys_path\n",
    "\n",
    "sys_path.append(abspath(\"..\"))\n",
    "[p for p in sys_path if p.endswith(\"finding-elo-aug-2023\")]"
   ]
  },
  {
   "cell_type": "code",
   "execution_count": null,
   "metadata": {},
   "outputs": [],
   "source": [
    "# import chess\n",
    "from pandas import set_option as pd_set_option\n",
    "from src.features.main import pgn_to_dataframe"
   ]
  },
  {
   "cell_type": "code",
   "execution_count": null,
   "metadata": {},
   "outputs": [],
   "source": [
    "# Set the display option to show all columns\n",
    "pd_set_option(\"display.max_columns\", None)"
   ]
  },
  {
   "cell_type": "code",
   "execution_count": null,
   "metadata": {},
   "outputs": [],
   "source": [
    "dataset = \"micro\"\n",
    "PGN_FILE = f\"../data/raw/{dataset}_data.pgn\"\n",
    "\n",
    "raw_df = pgn_to_dataframe(\n",
    "    pgn_file=PGN_FILE, \n",
    "    include_opening_cols=True,\n",
    "    save_to_file=True,\n",
    "    save_interval=2, \n",
    "    save_location=f'../data/interim/{dataset}_data.csv', \n",
    "    )"
   ]
  },
  {
   "cell_type": "code",
   "execution_count": null,
   "metadata": {},
   "outputs": [],
   "source": []
  },
  {
   "cell_type": "code",
   "execution_count": 1,
   "metadata": {},
   "outputs": [],
   "source": [
    "from os.path import abspath\n",
    "from sys import path as sys_path\n",
    "\n",
    "sys_path.append(abspath(\"..\"))\n",
    "[p for p in sys_path if p.endswith(\"finding-elo-aug-2023\")]\n",
    "\n",
    "from tqdm import tqdm\n",
    "from chess.pgn import read_game\n",
    "from src.features.middlegame import identify_middlegame\n",
    "from src.features.utils import count_games_in_pgn"
   ]
  },
  {
   "cell_type": "code",
   "execution_count": 3,
   "metadata": {},
   "outputs": [
    {
     "name": "stderr",
     "output_type": "stream",
     "text": [
      "Processing games: 100%|██████████| 10/10 [00:00<00:00, 375.66it/s]"
     ]
    },
    {
     "name": "stdout",
     "output_type": "stream",
     "text": [
      "0 (None, None)\n",
      "1 (None, None)\n",
      "2 (None, 100)\n",
      "3 (None, None)\n",
      "4 (None, None)\n",
      "5 (None, None)\n",
      "6 (None, None)\n",
      "7 (None, 88)\n",
      "8 (None, None)\n",
      "9 (None, None)\n"
     ]
    },
    {
     "name": "stderr",
     "output_type": "stream",
     "text": [
      "\n"
     ]
    }
   ],
   "source": [
    "dataset = \"micro\"\n",
    "PGN_FILE = f\"../data/raw/{dataset}_data.pgn\"\n",
    "\n",
    "with open(PGN_FILE) as pgn:\n",
    "    total_games = count_games_in_pgn(PGN_FILE)\n",
    "    progress_bar = tqdm(iter(lambda: read_game(pgn), None), total=total_games, desc=\"Processing games\",)\n",
    "\n",
    "    for game_idx, game in enumerate(progress_bar, start=0):\n",
    "        print(game_idx, identify_middlegame(game))"
   ]
  },
  {
   "cell_type": "code",
   "execution_count": null,
   "metadata": {},
   "outputs": [],
   "source": []
  }
 ],
 "metadata": {
  "kernelspec": {
   "display_name": ".venv",
   "language": "python",
   "name": "python3"
  },
  "language_info": {
   "codemirror_mode": {
    "name": "ipython",
    "version": 3
   },
   "file_extension": ".py",
   "mimetype": "text/x-python",
   "name": "python",
   "nbconvert_exporter": "python",
   "pygments_lexer": "ipython3",
   "version": "3.10.7"
  },
  "orig_nbformat": 4
 },
 "nbformat": 4,
 "nbformat_minor": 2
}
