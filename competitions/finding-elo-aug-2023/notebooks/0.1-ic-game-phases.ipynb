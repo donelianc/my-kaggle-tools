{
 "cells": [
  {
   "cell_type": "code",
   "execution_count": 1,
   "metadata": {},
   "outputs": [
    {
     "data": {
      "text/plain": [
       "['/Users/ian.castillo/Documents/my-kaggle-tools/competitions/finding-elo-aug-2023']"
      ]
     },
     "execution_count": 1,
     "metadata": {},
     "output_type": "execute_result"
    }
   ],
   "source": [
    "from os.path import abspath\n",
    "from sys import path as sys_path\n",
    "\n",
    "sys_path.append(abspath(\"..\"))\n",
    "[p for p in sys_path if p.endswith(\"finding-elo-aug-2023\")]"
   ]
  },
  {
   "cell_type": "code",
   "execution_count": 2,
   "metadata": {},
   "outputs": [],
   "source": [
    "# import chess\n",
    "from pandas import set_option as pd_set_option\n",
    "from src.features.main import pgn_to_dataframe"
   ]
  },
  {
   "cell_type": "code",
   "execution_count": 3,
   "metadata": {},
   "outputs": [],
   "source": [
    "# Set the display option to show all columns\n",
    "pd_set_option(\"display.max_columns\", None)"
   ]
  },
  {
   "cell_type": "code",
   "execution_count": 6,
   "metadata": {},
   "outputs": [
    {
     "name": "stderr",
     "output_type": "stream",
     "text": [
      "Processing games:  69%|██████▊   | 6873/10000 [00:23<00:10, 298.35it/s]"
     ]
    }
   ],
   "source": [
    "dataset = \"medium\"\n",
    "\n",
    "PGN_FILE = f\"../data/raw/{dataset}_data.pgn\"\n",
    "raw_df = pgn_to_dataframe(\n",
    "    pgn_file=PGN_FILE, \n",
    "    include_opening_cols=False,\n",
    "    save_to_file=True,\n",
    "    save_interval=1000, \n",
    "    save_location=f'../data/interim/{dataset}_data.csv', \n",
    "    )"
   ]
  },
  {
   "cell_type": "code",
   "execution_count": null,
   "metadata": {},
   "outputs": [],
   "source": []
  }
 ],
 "metadata": {
  "kernelspec": {
   "display_name": ".venv",
   "language": "python",
   "name": "python3"
  },
  "language_info": {
   "codemirror_mode": {
    "name": "ipython",
    "version": 3
   },
   "file_extension": ".py",
   "mimetype": "text/x-python",
   "name": "python",
   "nbconvert_exporter": "python",
   "pygments_lexer": "ipython3",
   "version": "3.10.7"
  },
  "orig_nbformat": 4
 },
 "nbformat": 4,
 "nbformat_minor": 2
}
